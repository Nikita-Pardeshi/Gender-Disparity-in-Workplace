{
 "cells": [
  {
   "cell_type": "code",
   "execution_count": 15,
   "id": "7c9fe451",
   "metadata": {},
   "outputs": [],
   "source": [
    "import pandas as pd\n",
    "import plotly.graph_objects as go #has more control, customizable\n",
    "import plotly.io as pio #produce an html file\n",
    "import plotly.express as px #fast, low effort\n",
    "import matplotlib.pyplot as plt\n",
    "import plotly.graph_objs as go\n",
    "import seaborn as sns\n",
    "import plotly.express as px\n",
    "%matplotlib inline\n",
    "import numpy as np"
   ]
  },
  {
   "cell_type": "markdown",
   "id": "06cb77ba",
   "metadata": {},
   "source": [
    "## Figure 1 - Gender Disparity in Controlled and Uncontrolled Wages"
   ]
  },
  {
   "cell_type": "code",
   "execution_count": 17,
   "id": "a0a74fc0",
   "metadata": {},
   "outputs": [],
   "source": [
    "df10 =  pd.read_excel('../../datasets/part 2 wages.xlsx')\n",
    "# displaying gdp and gini as columns\n",
    "df10_long = pd.melt(df10, id_vars=['Year'], value_vars=['Controlled Pay Gap', 'Uncontrolled Pay Gap'])\n",
    "# rename column headers\n",
    "df10_long = df10_long.rename(columns={\n",
    "    \"value\": \"Wages\",\n",
    "    \"variable\": \"Wage Type\",\n",
    "})\n",
    "df10_long[\"Wages\"] = df10_long[\"Wages\"].astype(float)\n",
    "df10_long = df10_long.reset_index()"
   ]
  },
  {
   "cell_type": "code",
   "execution_count": 18,
   "id": "ccf2cb30",
   "metadata": {},
   "outputs": [
    {
     "data": {
      "application/vnd.plotly.v1+json": {
       "config": {
        "plotlyServerURL": "https://plot.ly"
       },
       "data": [
        {
         "hovertemplate": "Wage Type=Controlled Pay Gap<br>Year=%{x}<br>Wages in $=%{text}<extra></extra>",
         "legendgroup": "Controlled Pay Gap",
         "line": {
          "color": "Orange",
          "dash": "solid"
         },
         "marker": {
          "symbol": "circle"
         },
         "mode": "text+markers+lines",
         "name": "Controlled Pay Gap",
         "orientation": "v",
         "showlegend": true,
         "text": [
          0.97,
          0.97,
          0.97,
          0.98,
          0.98,
          0.98,
          0.98,
          0.99
         ],
         "textposition": "bottom left",
         "type": "scatter",
         "x": [
          2014,
          2015,
          2016,
          2017,
          2018,
          2019,
          2020,
          2021
         ],
         "xaxis": "x",
         "y": [
          0.97,
          0.97,
          0.97,
          0.98,
          0.98,
          0.98,
          0.98,
          0.99
         ],
         "yaxis": "y"
        },
        {
         "hovertemplate": "Wage Type=Uncontrolled Pay Gap<br>Year=%{x}<br>Wages in $=%{text}<extra></extra>",
         "legendgroup": "Uncontrolled Pay Gap",
         "line": {
          "color": "Blue",
          "dash": "solid"
         },
         "marker": {
          "symbol": "circle"
         },
         "mode": "text+markers+lines",
         "name": "Uncontrolled Pay Gap",
         "orientation": "v",
         "showlegend": true,
         "text": [
          0.73,
          0.75,
          0.76,
          0.78,
          0.79,
          0.81,
          0.81,
          0.82
         ],
         "textposition": "bottom left",
         "type": "scatter",
         "x": [
          2014,
          2015,
          2016,
          2017,
          2018,
          2019,
          2020,
          2021
         ],
         "xaxis": "x",
         "y": [
          0.73,
          0.75,
          0.76,
          0.78,
          0.79,
          0.81,
          0.81,
          0.82
         ],
         "yaxis": "y"
        }
       ],
       "layout": {
        "legend": {
         "title": {
          "text": "Wage Type"
         },
         "tracegroupgap": 0
        },
        "template": {
         "data": {
          "bar": [
           {
            "error_x": {
             "color": "rgb(36,36,36)"
            },
            "error_y": {
             "color": "rgb(36,36,36)"
            },
            "marker": {
             "line": {
              "color": "white",
              "width": 0.5
             },
             "pattern": {
              "fillmode": "overlay",
              "size": 10,
              "solidity": 0.2
             }
            },
            "type": "bar"
           }
          ],
          "barpolar": [
           {
            "marker": {
             "line": {
              "color": "white",
              "width": 0.5
             },
             "pattern": {
              "fillmode": "overlay",
              "size": 10,
              "solidity": 0.2
             }
            },
            "type": "barpolar"
           }
          ],
          "carpet": [
           {
            "aaxis": {
             "endlinecolor": "rgb(36,36,36)",
             "gridcolor": "white",
             "linecolor": "white",
             "minorgridcolor": "white",
             "startlinecolor": "rgb(36,36,36)"
            },
            "baxis": {
             "endlinecolor": "rgb(36,36,36)",
             "gridcolor": "white",
             "linecolor": "white",
             "minorgridcolor": "white",
             "startlinecolor": "rgb(36,36,36)"
            },
            "type": "carpet"
           }
          ],
          "choropleth": [
           {
            "colorbar": {
             "outlinewidth": 1,
             "tickcolor": "rgb(36,36,36)",
             "ticks": "outside"
            },
            "type": "choropleth"
           }
          ],
          "contour": [
           {
            "colorbar": {
             "outlinewidth": 1,
             "tickcolor": "rgb(36,36,36)",
             "ticks": "outside"
            },
            "colorscale": [
             [
              0,
              "#440154"
             ],
             [
              0.1111111111111111,
              "#482878"
             ],
             [
              0.2222222222222222,
              "#3e4989"
             ],
             [
              0.3333333333333333,
              "#31688e"
             ],
             [
              0.4444444444444444,
              "#26828e"
             ],
             [
              0.5555555555555556,
              "#1f9e89"
             ],
             [
              0.6666666666666666,
              "#35b779"
             ],
             [
              0.7777777777777778,
              "#6ece58"
             ],
             [
              0.8888888888888888,
              "#b5de2b"
             ],
             [
              1,
              "#fde725"
             ]
            ],
            "type": "contour"
           }
          ],
          "contourcarpet": [
           {
            "colorbar": {
             "outlinewidth": 1,
             "tickcolor": "rgb(36,36,36)",
             "ticks": "outside"
            },
            "type": "contourcarpet"
           }
          ],
          "heatmap": [
           {
            "colorbar": {
             "outlinewidth": 1,
             "tickcolor": "rgb(36,36,36)",
             "ticks": "outside"
            },
            "colorscale": [
             [
              0,
              "#440154"
             ],
             [
              0.1111111111111111,
              "#482878"
             ],
             [
              0.2222222222222222,
              "#3e4989"
             ],
             [
              0.3333333333333333,
              "#31688e"
             ],
             [
              0.4444444444444444,
              "#26828e"
             ],
             [
              0.5555555555555556,
              "#1f9e89"
             ],
             [
              0.6666666666666666,
              "#35b779"
             ],
             [
              0.7777777777777778,
              "#6ece58"
             ],
             [
              0.8888888888888888,
              "#b5de2b"
             ],
             [
              1,
              "#fde725"
             ]
            ],
            "type": "heatmap"
           }
          ],
          "heatmapgl": [
           {
            "colorbar": {
             "outlinewidth": 1,
             "tickcolor": "rgb(36,36,36)",
             "ticks": "outside"
            },
            "colorscale": [
             [
              0,
              "#440154"
             ],
             [
              0.1111111111111111,
              "#482878"
             ],
             [
              0.2222222222222222,
              "#3e4989"
             ],
             [
              0.3333333333333333,
              "#31688e"
             ],
             [
              0.4444444444444444,
              "#26828e"
             ],
             [
              0.5555555555555556,
              "#1f9e89"
             ],
             [
              0.6666666666666666,
              "#35b779"
             ],
             [
              0.7777777777777778,
              "#6ece58"
             ],
             [
              0.8888888888888888,
              "#b5de2b"
             ],
             [
              1,
              "#fde725"
             ]
            ],
            "type": "heatmapgl"
           }
          ],
          "histogram": [
           {
            "marker": {
             "line": {
              "color": "white",
              "width": 0.6
             }
            },
            "type": "histogram"
           }
          ],
          "histogram2d": [
           {
            "colorbar": {
             "outlinewidth": 1,
             "tickcolor": "rgb(36,36,36)",
             "ticks": "outside"
            },
            "colorscale": [
             [
              0,
              "#440154"
             ],
             [
              0.1111111111111111,
              "#482878"
             ],
             [
              0.2222222222222222,
              "#3e4989"
             ],
             [
              0.3333333333333333,
              "#31688e"
             ],
             [
              0.4444444444444444,
              "#26828e"
             ],
             [
              0.5555555555555556,
              "#1f9e89"
             ],
             [
              0.6666666666666666,
              "#35b779"
             ],
             [
              0.7777777777777778,
              "#6ece58"
             ],
             [
              0.8888888888888888,
              "#b5de2b"
             ],
             [
              1,
              "#fde725"
             ]
            ],
            "type": "histogram2d"
           }
          ],
          "histogram2dcontour": [
           {
            "colorbar": {
             "outlinewidth": 1,
             "tickcolor": "rgb(36,36,36)",
             "ticks": "outside"
            },
            "colorscale": [
             [
              0,
              "#440154"
             ],
             [
              0.1111111111111111,
              "#482878"
             ],
             [
              0.2222222222222222,
              "#3e4989"
             ],
             [
              0.3333333333333333,
              "#31688e"
             ],
             [
              0.4444444444444444,
              "#26828e"
             ],
             [
              0.5555555555555556,
              "#1f9e89"
             ],
             [
              0.6666666666666666,
              "#35b779"
             ],
             [
              0.7777777777777778,
              "#6ece58"
             ],
             [
              0.8888888888888888,
              "#b5de2b"
             ],
             [
              1,
              "#fde725"
             ]
            ],
            "type": "histogram2dcontour"
           }
          ],
          "mesh3d": [
           {
            "colorbar": {
             "outlinewidth": 1,
             "tickcolor": "rgb(36,36,36)",
             "ticks": "outside"
            },
            "type": "mesh3d"
           }
          ],
          "parcoords": [
           {
            "line": {
             "colorbar": {
              "outlinewidth": 1,
              "tickcolor": "rgb(36,36,36)",
              "ticks": "outside"
             }
            },
            "type": "parcoords"
           }
          ],
          "pie": [
           {
            "automargin": true,
            "type": "pie"
           }
          ],
          "scatter": [
           {
            "fillpattern": {
             "fillmode": "overlay",
             "size": 10,
             "solidity": 0.2
            },
            "type": "scatter"
           }
          ],
          "scatter3d": [
           {
            "line": {
             "colorbar": {
              "outlinewidth": 1,
              "tickcolor": "rgb(36,36,36)",
              "ticks": "outside"
             }
            },
            "marker": {
             "colorbar": {
              "outlinewidth": 1,
              "tickcolor": "rgb(36,36,36)",
              "ticks": "outside"
             }
            },
            "type": "scatter3d"
           }
          ],
          "scattercarpet": [
           {
            "marker": {
             "colorbar": {
              "outlinewidth": 1,
              "tickcolor": "rgb(36,36,36)",
              "ticks": "outside"
             }
            },
            "type": "scattercarpet"
           }
          ],
          "scattergeo": [
           {
            "marker": {
             "colorbar": {
              "outlinewidth": 1,
              "tickcolor": "rgb(36,36,36)",
              "ticks": "outside"
             }
            },
            "type": "scattergeo"
           }
          ],
          "scattergl": [
           {
            "marker": {
             "colorbar": {
              "outlinewidth": 1,
              "tickcolor": "rgb(36,36,36)",
              "ticks": "outside"
             }
            },
            "type": "scattergl"
           }
          ],
          "scattermapbox": [
           {
            "marker": {
             "colorbar": {
              "outlinewidth": 1,
              "tickcolor": "rgb(36,36,36)",
              "ticks": "outside"
             }
            },
            "type": "scattermapbox"
           }
          ],
          "scatterpolar": [
           {
            "marker": {
             "colorbar": {
              "outlinewidth": 1,
              "tickcolor": "rgb(36,36,36)",
              "ticks": "outside"
             }
            },
            "type": "scatterpolar"
           }
          ],
          "scatterpolargl": [
           {
            "marker": {
             "colorbar": {
              "outlinewidth": 1,
              "tickcolor": "rgb(36,36,36)",
              "ticks": "outside"
             }
            },
            "type": "scatterpolargl"
           }
          ],
          "scatterternary": [
           {
            "marker": {
             "colorbar": {
              "outlinewidth": 1,
              "tickcolor": "rgb(36,36,36)",
              "ticks": "outside"
             }
            },
            "type": "scatterternary"
           }
          ],
          "surface": [
           {
            "colorbar": {
             "outlinewidth": 1,
             "tickcolor": "rgb(36,36,36)",
             "ticks": "outside"
            },
            "colorscale": [
             [
              0,
              "#440154"
             ],
             [
              0.1111111111111111,
              "#482878"
             ],
             [
              0.2222222222222222,
              "#3e4989"
             ],
             [
              0.3333333333333333,
              "#31688e"
             ],
             [
              0.4444444444444444,
              "#26828e"
             ],
             [
              0.5555555555555556,
              "#1f9e89"
             ],
             [
              0.6666666666666666,
              "#35b779"
             ],
             [
              0.7777777777777778,
              "#6ece58"
             ],
             [
              0.8888888888888888,
              "#b5de2b"
             ],
             [
              1,
              "#fde725"
             ]
            ],
            "type": "surface"
           }
          ],
          "table": [
           {
            "cells": {
             "fill": {
              "color": "rgb(237,237,237)"
             },
             "line": {
              "color": "white"
             }
            },
            "header": {
             "fill": {
              "color": "rgb(217,217,217)"
             },
             "line": {
              "color": "white"
             }
            },
            "type": "table"
           }
          ]
         },
         "layout": {
          "annotationdefaults": {
           "arrowhead": 0,
           "arrowwidth": 1
          },
          "autotypenumbers": "strict",
          "coloraxis": {
           "colorbar": {
            "outlinewidth": 1,
            "tickcolor": "rgb(36,36,36)",
            "ticks": "outside"
           }
          },
          "colorscale": {
           "diverging": [
            [
             0,
             "rgb(103,0,31)"
            ],
            [
             0.1,
             "rgb(178,24,43)"
            ],
            [
             0.2,
             "rgb(214,96,77)"
            ],
            [
             0.3,
             "rgb(244,165,130)"
            ],
            [
             0.4,
             "rgb(253,219,199)"
            ],
            [
             0.5,
             "rgb(247,247,247)"
            ],
            [
             0.6,
             "rgb(209,229,240)"
            ],
            [
             0.7,
             "rgb(146,197,222)"
            ],
            [
             0.8,
             "rgb(67,147,195)"
            ],
            [
             0.9,
             "rgb(33,102,172)"
            ],
            [
             1,
             "rgb(5,48,97)"
            ]
           ],
           "sequential": [
            [
             0,
             "#440154"
            ],
            [
             0.1111111111111111,
             "#482878"
            ],
            [
             0.2222222222222222,
             "#3e4989"
            ],
            [
             0.3333333333333333,
             "#31688e"
            ],
            [
             0.4444444444444444,
             "#26828e"
            ],
            [
             0.5555555555555556,
             "#1f9e89"
            ],
            [
             0.6666666666666666,
             "#35b779"
            ],
            [
             0.7777777777777778,
             "#6ece58"
            ],
            [
             0.8888888888888888,
             "#b5de2b"
            ],
            [
             1,
             "#fde725"
            ]
           ],
           "sequentialminus": [
            [
             0,
             "#440154"
            ],
            [
             0.1111111111111111,
             "#482878"
            ],
            [
             0.2222222222222222,
             "#3e4989"
            ],
            [
             0.3333333333333333,
             "#31688e"
            ],
            [
             0.4444444444444444,
             "#26828e"
            ],
            [
             0.5555555555555556,
             "#1f9e89"
            ],
            [
             0.6666666666666666,
             "#35b779"
            ],
            [
             0.7777777777777778,
             "#6ece58"
            ],
            [
             0.8888888888888888,
             "#b5de2b"
            ],
            [
             1,
             "#fde725"
            ]
           ]
          },
          "colorway": [
           "#1F77B4",
           "#FF7F0E",
           "#2CA02C",
           "#D62728",
           "#9467BD",
           "#8C564B",
           "#E377C2",
           "#7F7F7F",
           "#BCBD22",
           "#17BECF"
          ],
          "font": {
           "color": "rgb(36,36,36)"
          },
          "geo": {
           "bgcolor": "white",
           "lakecolor": "white",
           "landcolor": "white",
           "showlakes": true,
           "showland": true,
           "subunitcolor": "white"
          },
          "hoverlabel": {
           "align": "left"
          },
          "hovermode": "closest",
          "mapbox": {
           "style": "light"
          },
          "paper_bgcolor": "white",
          "plot_bgcolor": "white",
          "polar": {
           "angularaxis": {
            "gridcolor": "rgb(232,232,232)",
            "linecolor": "rgb(36,36,36)",
            "showgrid": false,
            "showline": true,
            "ticks": "outside"
           },
           "bgcolor": "white",
           "radialaxis": {
            "gridcolor": "rgb(232,232,232)",
            "linecolor": "rgb(36,36,36)",
            "showgrid": false,
            "showline": true,
            "ticks": "outside"
           }
          },
          "scene": {
           "xaxis": {
            "backgroundcolor": "white",
            "gridcolor": "rgb(232,232,232)",
            "gridwidth": 2,
            "linecolor": "rgb(36,36,36)",
            "showbackground": true,
            "showgrid": false,
            "showline": true,
            "ticks": "outside",
            "zeroline": false,
            "zerolinecolor": "rgb(36,36,36)"
           },
           "yaxis": {
            "backgroundcolor": "white",
            "gridcolor": "rgb(232,232,232)",
            "gridwidth": 2,
            "linecolor": "rgb(36,36,36)",
            "showbackground": true,
            "showgrid": false,
            "showline": true,
            "ticks": "outside",
            "zeroline": false,
            "zerolinecolor": "rgb(36,36,36)"
           },
           "zaxis": {
            "backgroundcolor": "white",
            "gridcolor": "rgb(232,232,232)",
            "gridwidth": 2,
            "linecolor": "rgb(36,36,36)",
            "showbackground": true,
            "showgrid": false,
            "showline": true,
            "ticks": "outside",
            "zeroline": false,
            "zerolinecolor": "rgb(36,36,36)"
           }
          },
          "shapedefaults": {
           "fillcolor": "black",
           "line": {
            "width": 0
           },
           "opacity": 0.3
          },
          "ternary": {
           "aaxis": {
            "gridcolor": "rgb(232,232,232)",
            "linecolor": "rgb(36,36,36)",
            "showgrid": false,
            "showline": true,
            "ticks": "outside"
           },
           "baxis": {
            "gridcolor": "rgb(232,232,232)",
            "linecolor": "rgb(36,36,36)",
            "showgrid": false,
            "showline": true,
            "ticks": "outside"
           },
           "bgcolor": "white",
           "caxis": {
            "gridcolor": "rgb(232,232,232)",
            "linecolor": "rgb(36,36,36)",
            "showgrid": false,
            "showline": true,
            "ticks": "outside"
           }
          },
          "title": {
           "x": 0.05
          },
          "xaxis": {
           "automargin": true,
           "gridcolor": "rgb(232,232,232)",
           "linecolor": "rgb(36,36,36)",
           "showgrid": false,
           "showline": true,
           "ticks": "outside",
           "title": {
            "standoff": 15
           },
           "zeroline": false,
           "zerolinecolor": "rgb(36,36,36)"
          },
          "yaxis": {
           "automargin": true,
           "gridcolor": "rgb(232,232,232)",
           "linecolor": "rgb(36,36,36)",
           "showgrid": false,
           "showline": true,
           "ticks": "outside",
           "title": {
            "standoff": 15
           },
           "zeroline": false,
           "zerolinecolor": "rgb(36,36,36)"
          }
         }
        },
        "title": {
         "text": "Controlled and Uncontrolled Pay gap"
        },
        "xaxis": {
         "anchor": "y",
         "domain": [
          0,
          1
         ],
         "title": {
          "text": "Year"
         }
        },
        "yaxis": {
         "anchor": "x",
         "domain": [
          0,
          1
         ],
         "title": {
          "text": "Wages in $"
         }
        }
       }
      },
      "text/html": [
       "<div>                            <div id=\"e80cced1-159f-4fc3-aa79-0c996e9c9aad\" class=\"plotly-graph-div\" style=\"height:525px; width:100%;\"></div>            <script type=\"text/javascript\">                require([\"plotly\"], function(Plotly) {                    window.PLOTLYENV=window.PLOTLYENV || {};                                    if (document.getElementById(\"e80cced1-159f-4fc3-aa79-0c996e9c9aad\")) {                    Plotly.newPlot(                        \"e80cced1-159f-4fc3-aa79-0c996e9c9aad\",                        [{\"hovertemplate\":\"Wage Type=Controlled Pay Gap<br>Year=%{x}<br>Wages in $=%{text}<extra></extra>\",\"legendgroup\":\"Controlled Pay Gap\",\"line\":{\"color\":\"Orange\",\"dash\":\"solid\"},\"marker\":{\"symbol\":\"circle\"},\"mode\":\"text+markers+lines\",\"name\":\"Controlled Pay Gap\",\"orientation\":\"v\",\"showlegend\":true,\"text\":[0.97,0.97,0.97,0.98,0.98,0.98,0.98,0.99],\"x\":[2014,2015,2016,2017,2018,2019,2020,2021],\"xaxis\":\"x\",\"y\":[0.97,0.97,0.97,0.98,0.98,0.98,0.98,0.99],\"yaxis\":\"y\",\"type\":\"scatter\",\"textposition\":\"bottom left\"},{\"hovertemplate\":\"Wage Type=Uncontrolled Pay Gap<br>Year=%{x}<br>Wages in $=%{text}<extra></extra>\",\"legendgroup\":\"Uncontrolled Pay Gap\",\"line\":{\"color\":\"Blue\",\"dash\":\"solid\"},\"marker\":{\"symbol\":\"circle\"},\"mode\":\"text+markers+lines\",\"name\":\"Uncontrolled Pay Gap\",\"orientation\":\"v\",\"showlegend\":true,\"text\":[0.73,0.75,0.76,0.78,0.79,0.81,0.81,0.82],\"x\":[2014,2015,2016,2017,2018,2019,2020,2021],\"xaxis\":\"x\",\"y\":[0.73,0.75,0.76,0.78,0.79,0.81,0.81,0.82],\"yaxis\":\"y\",\"type\":\"scatter\",\"textposition\":\"bottom left\"}],                        {\"template\":{\"data\":{\"barpolar\":[{\"marker\":{\"line\":{\"color\":\"white\",\"width\":0.5},\"pattern\":{\"fillmode\":\"overlay\",\"size\":10,\"solidity\":0.2}},\"type\":\"barpolar\"}],\"bar\":[{\"error_x\":{\"color\":\"rgb(36,36,36)\"},\"error_y\":{\"color\":\"rgb(36,36,36)\"},\"marker\":{\"line\":{\"color\":\"white\",\"width\":0.5},\"pattern\":{\"fillmode\":\"overlay\",\"size\":10,\"solidity\":0.2}},\"type\":\"bar\"}],\"carpet\":[{\"aaxis\":{\"endlinecolor\":\"rgb(36,36,36)\",\"gridcolor\":\"white\",\"linecolor\":\"white\",\"minorgridcolor\":\"white\",\"startlinecolor\":\"rgb(36,36,36)\"},\"baxis\":{\"endlinecolor\":\"rgb(36,36,36)\",\"gridcolor\":\"white\",\"linecolor\":\"white\",\"minorgridcolor\":\"white\",\"startlinecolor\":\"rgb(36,36,36)\"},\"type\":\"carpet\"}],\"choropleth\":[{\"colorbar\":{\"outlinewidth\":1,\"tickcolor\":\"rgb(36,36,36)\",\"ticks\":\"outside\"},\"type\":\"choropleth\"}],\"contourcarpet\":[{\"colorbar\":{\"outlinewidth\":1,\"tickcolor\":\"rgb(36,36,36)\",\"ticks\":\"outside\"},\"type\":\"contourcarpet\"}],\"contour\":[{\"colorbar\":{\"outlinewidth\":1,\"tickcolor\":\"rgb(36,36,36)\",\"ticks\":\"outside\"},\"colorscale\":[[0.0,\"#440154\"],[0.1111111111111111,\"#482878\"],[0.2222222222222222,\"#3e4989\"],[0.3333333333333333,\"#31688e\"],[0.4444444444444444,\"#26828e\"],[0.5555555555555556,\"#1f9e89\"],[0.6666666666666666,\"#35b779\"],[0.7777777777777778,\"#6ece58\"],[0.8888888888888888,\"#b5de2b\"],[1.0,\"#fde725\"]],\"type\":\"contour\"}],\"heatmapgl\":[{\"colorbar\":{\"outlinewidth\":1,\"tickcolor\":\"rgb(36,36,36)\",\"ticks\":\"outside\"},\"colorscale\":[[0.0,\"#440154\"],[0.1111111111111111,\"#482878\"],[0.2222222222222222,\"#3e4989\"],[0.3333333333333333,\"#31688e\"],[0.4444444444444444,\"#26828e\"],[0.5555555555555556,\"#1f9e89\"],[0.6666666666666666,\"#35b779\"],[0.7777777777777778,\"#6ece58\"],[0.8888888888888888,\"#b5de2b\"],[1.0,\"#fde725\"]],\"type\":\"heatmapgl\"}],\"heatmap\":[{\"colorbar\":{\"outlinewidth\":1,\"tickcolor\":\"rgb(36,36,36)\",\"ticks\":\"outside\"},\"colorscale\":[[0.0,\"#440154\"],[0.1111111111111111,\"#482878\"],[0.2222222222222222,\"#3e4989\"],[0.3333333333333333,\"#31688e\"],[0.4444444444444444,\"#26828e\"],[0.5555555555555556,\"#1f9e89\"],[0.6666666666666666,\"#35b779\"],[0.7777777777777778,\"#6ece58\"],[0.8888888888888888,\"#b5de2b\"],[1.0,\"#fde725\"]],\"type\":\"heatmap\"}],\"histogram2dcontour\":[{\"colorbar\":{\"outlinewidth\":1,\"tickcolor\":\"rgb(36,36,36)\",\"ticks\":\"outside\"},\"colorscale\":[[0.0,\"#440154\"],[0.1111111111111111,\"#482878\"],[0.2222222222222222,\"#3e4989\"],[0.3333333333333333,\"#31688e\"],[0.4444444444444444,\"#26828e\"],[0.5555555555555556,\"#1f9e89\"],[0.6666666666666666,\"#35b779\"],[0.7777777777777778,\"#6ece58\"],[0.8888888888888888,\"#b5de2b\"],[1.0,\"#fde725\"]],\"type\":\"histogram2dcontour\"}],\"histogram2d\":[{\"colorbar\":{\"outlinewidth\":1,\"tickcolor\":\"rgb(36,36,36)\",\"ticks\":\"outside\"},\"colorscale\":[[0.0,\"#440154\"],[0.1111111111111111,\"#482878\"],[0.2222222222222222,\"#3e4989\"],[0.3333333333333333,\"#31688e\"],[0.4444444444444444,\"#26828e\"],[0.5555555555555556,\"#1f9e89\"],[0.6666666666666666,\"#35b779\"],[0.7777777777777778,\"#6ece58\"],[0.8888888888888888,\"#b5de2b\"],[1.0,\"#fde725\"]],\"type\":\"histogram2d\"}],\"histogram\":[{\"marker\":{\"line\":{\"color\":\"white\",\"width\":0.6}},\"type\":\"histogram\"}],\"mesh3d\":[{\"colorbar\":{\"outlinewidth\":1,\"tickcolor\":\"rgb(36,36,36)\",\"ticks\":\"outside\"},\"type\":\"mesh3d\"}],\"parcoords\":[{\"line\":{\"colorbar\":{\"outlinewidth\":1,\"tickcolor\":\"rgb(36,36,36)\",\"ticks\":\"outside\"}},\"type\":\"parcoords\"}],\"pie\":[{\"automargin\":true,\"type\":\"pie\"}],\"scatter3d\":[{\"line\":{\"colorbar\":{\"outlinewidth\":1,\"tickcolor\":\"rgb(36,36,36)\",\"ticks\":\"outside\"}},\"marker\":{\"colorbar\":{\"outlinewidth\":1,\"tickcolor\":\"rgb(36,36,36)\",\"ticks\":\"outside\"}},\"type\":\"scatter3d\"}],\"scattercarpet\":[{\"marker\":{\"colorbar\":{\"outlinewidth\":1,\"tickcolor\":\"rgb(36,36,36)\",\"ticks\":\"outside\"}},\"type\":\"scattercarpet\"}],\"scattergeo\":[{\"marker\":{\"colorbar\":{\"outlinewidth\":1,\"tickcolor\":\"rgb(36,36,36)\",\"ticks\":\"outside\"}},\"type\":\"scattergeo\"}],\"scattergl\":[{\"marker\":{\"colorbar\":{\"outlinewidth\":1,\"tickcolor\":\"rgb(36,36,36)\",\"ticks\":\"outside\"}},\"type\":\"scattergl\"}],\"scattermapbox\":[{\"marker\":{\"colorbar\":{\"outlinewidth\":1,\"tickcolor\":\"rgb(36,36,36)\",\"ticks\":\"outside\"}},\"type\":\"scattermapbox\"}],\"scatterpolargl\":[{\"marker\":{\"colorbar\":{\"outlinewidth\":1,\"tickcolor\":\"rgb(36,36,36)\",\"ticks\":\"outside\"}},\"type\":\"scatterpolargl\"}],\"scatterpolar\":[{\"marker\":{\"colorbar\":{\"outlinewidth\":1,\"tickcolor\":\"rgb(36,36,36)\",\"ticks\":\"outside\"}},\"type\":\"scatterpolar\"}],\"scatter\":[{\"fillpattern\":{\"fillmode\":\"overlay\",\"size\":10,\"solidity\":0.2},\"type\":\"scatter\"}],\"scatterternary\":[{\"marker\":{\"colorbar\":{\"outlinewidth\":1,\"tickcolor\":\"rgb(36,36,36)\",\"ticks\":\"outside\"}},\"type\":\"scatterternary\"}],\"surface\":[{\"colorbar\":{\"outlinewidth\":1,\"tickcolor\":\"rgb(36,36,36)\",\"ticks\":\"outside\"},\"colorscale\":[[0.0,\"#440154\"],[0.1111111111111111,\"#482878\"],[0.2222222222222222,\"#3e4989\"],[0.3333333333333333,\"#31688e\"],[0.4444444444444444,\"#26828e\"],[0.5555555555555556,\"#1f9e89\"],[0.6666666666666666,\"#35b779\"],[0.7777777777777778,\"#6ece58\"],[0.8888888888888888,\"#b5de2b\"],[1.0,\"#fde725\"]],\"type\":\"surface\"}],\"table\":[{\"cells\":{\"fill\":{\"color\":\"rgb(237,237,237)\"},\"line\":{\"color\":\"white\"}},\"header\":{\"fill\":{\"color\":\"rgb(217,217,217)\"},\"line\":{\"color\":\"white\"}},\"type\":\"table\"}]},\"layout\":{\"annotationdefaults\":{\"arrowhead\":0,\"arrowwidth\":1},\"autotypenumbers\":\"strict\",\"coloraxis\":{\"colorbar\":{\"outlinewidth\":1,\"tickcolor\":\"rgb(36,36,36)\",\"ticks\":\"outside\"}},\"colorscale\":{\"diverging\":[[0.0,\"rgb(103,0,31)\"],[0.1,\"rgb(178,24,43)\"],[0.2,\"rgb(214,96,77)\"],[0.3,\"rgb(244,165,130)\"],[0.4,\"rgb(253,219,199)\"],[0.5,\"rgb(247,247,247)\"],[0.6,\"rgb(209,229,240)\"],[0.7,\"rgb(146,197,222)\"],[0.8,\"rgb(67,147,195)\"],[0.9,\"rgb(33,102,172)\"],[1.0,\"rgb(5,48,97)\"]],\"sequential\":[[0.0,\"#440154\"],[0.1111111111111111,\"#482878\"],[0.2222222222222222,\"#3e4989\"],[0.3333333333333333,\"#31688e\"],[0.4444444444444444,\"#26828e\"],[0.5555555555555556,\"#1f9e89\"],[0.6666666666666666,\"#35b779\"],[0.7777777777777778,\"#6ece58\"],[0.8888888888888888,\"#b5de2b\"],[1.0,\"#fde725\"]],\"sequentialminus\":[[0.0,\"#440154\"],[0.1111111111111111,\"#482878\"],[0.2222222222222222,\"#3e4989\"],[0.3333333333333333,\"#31688e\"],[0.4444444444444444,\"#26828e\"],[0.5555555555555556,\"#1f9e89\"],[0.6666666666666666,\"#35b779\"],[0.7777777777777778,\"#6ece58\"],[0.8888888888888888,\"#b5de2b\"],[1.0,\"#fde725\"]]},\"colorway\":[\"#1F77B4\",\"#FF7F0E\",\"#2CA02C\",\"#D62728\",\"#9467BD\",\"#8C564B\",\"#E377C2\",\"#7F7F7F\",\"#BCBD22\",\"#17BECF\"],\"font\":{\"color\":\"rgb(36,36,36)\"},\"geo\":{\"bgcolor\":\"white\",\"lakecolor\":\"white\",\"landcolor\":\"white\",\"showlakes\":true,\"showland\":true,\"subunitcolor\":\"white\"},\"hoverlabel\":{\"align\":\"left\"},\"hovermode\":\"closest\",\"mapbox\":{\"style\":\"light\"},\"paper_bgcolor\":\"white\",\"plot_bgcolor\":\"white\",\"polar\":{\"angularaxis\":{\"gridcolor\":\"rgb(232,232,232)\",\"linecolor\":\"rgb(36,36,36)\",\"showgrid\":false,\"showline\":true,\"ticks\":\"outside\"},\"bgcolor\":\"white\",\"radialaxis\":{\"gridcolor\":\"rgb(232,232,232)\",\"linecolor\":\"rgb(36,36,36)\",\"showgrid\":false,\"showline\":true,\"ticks\":\"outside\"}},\"scene\":{\"xaxis\":{\"backgroundcolor\":\"white\",\"gridcolor\":\"rgb(232,232,232)\",\"gridwidth\":2,\"linecolor\":\"rgb(36,36,36)\",\"showbackground\":true,\"showgrid\":false,\"showline\":true,\"ticks\":\"outside\",\"zeroline\":false,\"zerolinecolor\":\"rgb(36,36,36)\"},\"yaxis\":{\"backgroundcolor\":\"white\",\"gridcolor\":\"rgb(232,232,232)\",\"gridwidth\":2,\"linecolor\":\"rgb(36,36,36)\",\"showbackground\":true,\"showgrid\":false,\"showline\":true,\"ticks\":\"outside\",\"zeroline\":false,\"zerolinecolor\":\"rgb(36,36,36)\"},\"zaxis\":{\"backgroundcolor\":\"white\",\"gridcolor\":\"rgb(232,232,232)\",\"gridwidth\":2,\"linecolor\":\"rgb(36,36,36)\",\"showbackground\":true,\"showgrid\":false,\"showline\":true,\"ticks\":\"outside\",\"zeroline\":false,\"zerolinecolor\":\"rgb(36,36,36)\"}},\"shapedefaults\":{\"fillcolor\":\"black\",\"line\":{\"width\":0},\"opacity\":0.3},\"ternary\":{\"aaxis\":{\"gridcolor\":\"rgb(232,232,232)\",\"linecolor\":\"rgb(36,36,36)\",\"showgrid\":false,\"showline\":true,\"ticks\":\"outside\"},\"baxis\":{\"gridcolor\":\"rgb(232,232,232)\",\"linecolor\":\"rgb(36,36,36)\",\"showgrid\":false,\"showline\":true,\"ticks\":\"outside\"},\"bgcolor\":\"white\",\"caxis\":{\"gridcolor\":\"rgb(232,232,232)\",\"linecolor\":\"rgb(36,36,36)\",\"showgrid\":false,\"showline\":true,\"ticks\":\"outside\"}},\"title\":{\"x\":0.05},\"xaxis\":{\"automargin\":true,\"gridcolor\":\"rgb(232,232,232)\",\"linecolor\":\"rgb(36,36,36)\",\"showgrid\":false,\"showline\":true,\"ticks\":\"outside\",\"title\":{\"standoff\":15},\"zeroline\":false,\"zerolinecolor\":\"rgb(36,36,36)\"},\"yaxis\":{\"automargin\":true,\"gridcolor\":\"rgb(232,232,232)\",\"linecolor\":\"rgb(36,36,36)\",\"showgrid\":false,\"showline\":true,\"ticks\":\"outside\",\"title\":{\"standoff\":15},\"zeroline\":false,\"zerolinecolor\":\"rgb(36,36,36)\"}}},\"xaxis\":{\"anchor\":\"y\",\"domain\":[0.0,1.0],\"title\":{\"text\":\"Year\"}},\"yaxis\":{\"anchor\":\"x\",\"domain\":[0.0,1.0],\"title\":{\"text\":\"Wages in $\"}},\"legend\":{\"title\":{\"text\":\"Wage Type\"},\"tracegroupgap\":0},\"title\":{\"text\":\"Controlled and Uncontrolled Pay gap\"}},                        {\"responsive\": true}                    ).then(function(){\n",
       "                            \n",
       "var gd = document.getElementById('e80cced1-159f-4fc3-aa79-0c996e9c9aad');\n",
       "var x = new MutationObserver(function (mutations, observer) {{\n",
       "        var display = window.getComputedStyle(gd).display;\n",
       "        if (!display || display === 'none') {{\n",
       "            console.log([gd, 'removed!']);\n",
       "            Plotly.purge(gd);\n",
       "            observer.disconnect();\n",
       "        }}\n",
       "}});\n",
       "\n",
       "// Listen for the removal of the full notebook cells\n",
       "var notebookContainer = gd.closest('#notebook-container');\n",
       "if (notebookContainer) {{\n",
       "    x.observe(notebookContainer, {childList: true});\n",
       "}}\n",
       "\n",
       "// Listen for the clearing of the current output cell\n",
       "var outputEl = gd.closest('.output');\n",
       "if (outputEl) {{\n",
       "    x.observe(outputEl, {childList: true});\n",
       "}}\n",
       "\n",
       "                        })                };                });            </script>        </div>"
      ]
     },
     "metadata": {},
     "output_type": "display_data"
    }
   ],
   "source": [
    "fig1 = px.line(df10_long, x=\"Year\", y=\"Wages\", color='Wage Type',markers=True,text=\"Wages\",template=\"simple_white\",\n",
    "                labels={\n",
    "                     \"Year\": \"Year\",\n",
    "                   \"Wages\" : \"Wages in $\"\n",
    "                 },\n",
    "                color_discrete_map={'Controlled Pay Gap': 'Orange', \n",
    "                                  'Uncontrolled Pay Gap': 'Blue'\n",
    "                                },\n",
    "                title='Controlled and Uncontrolled Pay gap')\n",
    "fig1.update_traces(textposition = \"bottom left\")\n",
    "fig1.show()\n",
    "#fig1.write_html(\"Controlled and uncontrolled wages.html\")"
   ]
  },
  {
   "cell_type": "markdown",
   "id": "dbcec8ba",
   "metadata": {},
   "source": [
    "## Figure 2: Gender Inequality Index of the world from 1995 to 2005"
   ]
  },
  {
   "cell_type": "code",
   "execution_count": 19,
   "id": "3f4f7b6d",
   "metadata": {},
   "outputs": [],
   "source": [
    "map3 = pd.read_csv(\"../../datasets/gender-inequality-index-from-the-human-development-report.csv\")\n",
    "map3.head()\n",
    "\n",
    "map3.rename(columns={\"Gender Inequality Index (Human Development Report (2015))\": \"Gender Inequality Index(%)\"}, inplace = True)\n",
    "map3 = map3.sort_values(['Year'])"
   ]
  },
  {
   "cell_type": "code",
   "execution_count": 20,
   "id": "336d8638",
   "metadata": {},
   "outputs": [
    {
     "data": {
      "application/vnd.plotly.v1+json": {
       "config": {
        "plotlyServerURL": "https://plot.ly"
       },
       "data": [
        {
         "coloraxis": "coloraxis",
         "geo": "geo",
         "hovertemplate": "<b>%{hovertext}</b><br><br>Year=1995<br>Code=%{location}<br>Gender Inequality Index(%)=%{z}<extra></extra>",
         "hovertext": [
          "Thailand",
          "Colombia",
          "Maldives",
          "Rwanda",
          "Sri Lanka",
          "Belgium",
          "Turkey",
          "Mali",
          "Hungary",
          "Uruguay",
          "Belize",
          "Iceland",
          "Malawi",
          "Spain",
          "Luxembourg",
          "Malaysia",
          "Chile",
          "Venezuela",
          "Malta",
          "Germany",
          "Mexico",
          "Romania",
          "Vietnam",
          "Ghana",
          "Bangladesh",
          "Sudan",
          "Costa Rica",
          "Mauritius",
          "Tunisia",
          "Mauritania",
          "Slovakia",
          "Barbados",
          "Guatemala",
          "Greece",
          "India",
          "Benin",
          "Indonesia",
          "Kuwait",
          "Cambodia",
          "Slovenia",
          "Brazil",
          "Ukraine",
          "Kenya",
          "Israel",
          "Singapore",
          "Jamaica",
          "United Arab Emirates",
          "Bulgaria",
          "Kazakhstan",
          "Japan",
          "Jordan",
          "Italy",
          "Ireland",
          "Botswana",
          "Kyrgyzstan",
          "Lithuania",
          "Central African Republic",
          "Turkmenistan",
          "United States",
          "South Korea",
          "Iran",
          "Lesotho",
          "Senegal",
          "Canada",
          "Uganda",
          "Iraq",
          "Latvia",
          "South Africa",
          "Cameroon",
          "United Kingdom",
          "Sweden",
          "Moldova",
          "Russia",
          "New Zealand",
          "Syria",
          "Argentina",
          "Nepal",
          "Paraguay",
          "Tonga",
          "Cyprus",
          "Algeria",
          "Australia",
          "Zambia",
          "Denmark",
          "Tanzania",
          "Philippines",
          "Netherlands",
          "Finland",
          "Estonia",
          "Cote d'Ivoire",
          "Togo",
          "Fiji",
          "Armenia",
          "Czechia",
          "Tajikistan",
          "Zimbabwe",
          "Peru",
          "Nicaragua",
          "Eswatini",
          "France",
          "El Salvador",
          "Norway",
          "Switzerland",
          "Mongolia",
          "Ecuador",
          "Panama",
          "Georgia",
          "Trinidad and Tobago",
          "Croatia",
          "Portugal",
          "Morocco",
          "Gambia",
          "Mozambique",
          "Austria",
          "Pakistan",
          "Papua New Guinea",
          "Niger",
          "Egypt",
          "Gabon",
          "Namibia",
          "Dominican Republic",
          "Poland",
          "Cuba"
         ],
         "locations": [
          "THA",
          "COL",
          "MDV",
          "RWA",
          "LKA",
          "BEL",
          "TUR",
          "MLI",
          "HUN",
          "URY",
          "BLZ",
          "ISL",
          "MWI",
          "ESP",
          "LUX",
          "MYS",
          "CHL",
          "VEN",
          "MLT",
          "DEU",
          "MEX",
          "ROU",
          "VNM",
          "GHA",
          "BGD",
          "SDN",
          "CRI",
          "MUS",
          "TUN",
          "MRT",
          "SVK",
          "BRB",
          "GTM",
          "GRC",
          "IND",
          "BEN",
          "IDN",
          "KWT",
          "KHM",
          "SVN",
          "BRA",
          "UKR",
          "KEN",
          "ISR",
          "SGP",
          "JAM",
          "ARE",
          "BGR",
          "KAZ",
          "JPN",
          "JOR",
          "ITA",
          "IRL",
          "BWA",
          "KGZ",
          "LTU",
          "CAF",
          "TKM",
          "USA",
          "KOR",
          "IRN",
          "LSO",
          "SEN",
          "CAN",
          "UGA",
          "IRQ",
          "LVA",
          "ZAF",
          "CMR",
          "GBR",
          "SWE",
          "MDA",
          "RUS",
          "NZL",
          "SYR",
          "ARG",
          "NPL",
          "PRY",
          "TON",
          "CYP",
          "DZA",
          "AUS",
          "ZMB",
          "DNK",
          "TZA",
          "PHL",
          "NLD",
          "FIN",
          "EST",
          "CIV",
          "TGO",
          "FJI",
          "ARM",
          "CZE",
          "TJK",
          "ZWE",
          "PER",
          "NIC",
          "SWZ",
          "FRA",
          "SLV",
          "NOR",
          "CHE",
          "MNG",
          "ECU",
          "PAN",
          "GEO",
          "TTO",
          "HRV",
          "PRT",
          "MAR",
          "GMB",
          "MOZ",
          "AUT",
          "PAK",
          "PNG",
          "NER",
          "EGY",
          "GAB",
          "NAM",
          "DOM",
          "POL",
          "CUB"
         ],
         "name": "",
         "type": "choropleth",
         "z": [
          0.40000001,
          0.53799999,
          0.64899999,
          0.583,
          0.47099999,
          0.163,
          0.63099998,
          0.72600001,
          0.322,
          0.44,
          0.51499999,
          0.184,
          0.71899998,
          0.15700001,
          0.2,
          0.398,
          0.47600001,
          0.54699999,
          0.331,
          0.156,
          0.50800002,
          0.47400001,
          0.38299999,
          0.62599999,
          0.65600002,
          0.72000003,
          0.463,
          0.479,
          0.53200001,
          0.80900002,
          0.248,
          0.37200001,
          0.59600002,
          0.28299999,
          0.68699998,
          0.68199998,
          0.57800001,
          0.58499998,
          0.66000003,
          0.24699999,
          0.509,
          0.48199999,
          0.708,
          0.244,
          0.252,
          0.47999999,
          0.64300001,
          0.373,
          0.449,
          0.15899999,
          0.67400002,
          0.198,
          0.20200001,
          0.551,
          0.50999999,
          0.32499999,
          0.74000001,
          0.36899999,
          0.30500001,
          0.27700001,
          0.66500002,
          0.57700002,
          0.62800002,
          0.184,
          0.64999998,
          0.65799999,
          0.41,
          0.42399999,
          0.70300001,
          0.237,
          0.090000004,
          0.486,
          0.46700001,
          0.222,
          0.56900001,
          0.43099999,
          0.70999998,
          0.57499999,
          0.68400002,
          0.347,
          0.68000001,
          0.18000001,
          0.625,
          0.102,
          0.65200001,
          0.48300001,
          0.113,
          0.103,
          0.38600001,
          0.70899999,
          0.741,
          0.49900001,
          0.47099999,
          0.252,
          0.55800003,
          0.59799999,
          0.54699999,
          0.62900001,
          0.65200001,
          0.22,
          0.52600002,
          0.122,
          0.117,
          0.5,
          0.58899999,
          0.51700002,
          0.426,
          0.426,
          0.28,
          0.243,
          0.713,
          0.74699998,
          0.66399997,
          0.18700001,
          0.76599997,
          0.66799998,
          0.83099997,
          0.66500002,
          0.60600001,
          0.55500001,
          0.57099998,
          0.25799999,
          0.428
         ]
        }
       ],
       "frames": [
        {
         "data": [
          {
           "coloraxis": "coloraxis",
           "geo": "geo",
           "hovertemplate": "<b>%{hovertext}</b><br><br>Year=1995<br>Code=%{location}<br>Gender Inequality Index(%)=%{z}<extra></extra>",
           "hovertext": [
            "Thailand",
            "Colombia",
            "Maldives",
            "Rwanda",
            "Sri Lanka",
            "Belgium",
            "Turkey",
            "Mali",
            "Hungary",
            "Uruguay",
            "Belize",
            "Iceland",
            "Malawi",
            "Spain",
            "Luxembourg",
            "Malaysia",
            "Chile",
            "Venezuela",
            "Malta",
            "Germany",
            "Mexico",
            "Romania",
            "Vietnam",
            "Ghana",
            "Bangladesh",
            "Sudan",
            "Costa Rica",
            "Mauritius",
            "Tunisia",
            "Mauritania",
            "Slovakia",
            "Barbados",
            "Guatemala",
            "Greece",
            "India",
            "Benin",
            "Indonesia",
            "Kuwait",
            "Cambodia",
            "Slovenia",
            "Brazil",
            "Ukraine",
            "Kenya",
            "Israel",
            "Singapore",
            "Jamaica",
            "United Arab Emirates",
            "Bulgaria",
            "Kazakhstan",
            "Japan",
            "Jordan",
            "Italy",
            "Ireland",
            "Botswana",
            "Kyrgyzstan",
            "Lithuania",
            "Central African Republic",
            "Turkmenistan",
            "United States",
            "South Korea",
            "Iran",
            "Lesotho",
            "Senegal",
            "Canada",
            "Uganda",
            "Iraq",
            "Latvia",
            "South Africa",
            "Cameroon",
            "United Kingdom",
            "Sweden",
            "Moldova",
            "Russia",
            "New Zealand",
            "Syria",
            "Argentina",
            "Nepal",
            "Paraguay",
            "Tonga",
            "Cyprus",
            "Algeria",
            "Australia",
            "Zambia",
            "Denmark",
            "Tanzania",
            "Philippines",
            "Netherlands",
            "Finland",
            "Estonia",
            "Cote d'Ivoire",
            "Togo",
            "Fiji",
            "Armenia",
            "Czechia",
            "Tajikistan",
            "Zimbabwe",
            "Peru",
            "Nicaragua",
            "Eswatini",
            "France",
            "El Salvador",
            "Norway",
            "Switzerland",
            "Mongolia",
            "Ecuador",
            "Panama",
            "Georgia",
            "Trinidad and Tobago",
            "Croatia",
            "Portugal",
            "Morocco",
            "Gambia",
            "Mozambique",
            "Austria",
            "Pakistan",
            "Papua New Guinea",
            "Niger",
            "Egypt",
            "Gabon",
            "Namibia",
            "Dominican Republic",
            "Poland",
            "Cuba"
           ],
           "locations": [
            "THA",
            "COL",
            "MDV",
            "RWA",
            "LKA",
            "BEL",
            "TUR",
            "MLI",
            "HUN",
            "URY",
            "BLZ",
            "ISL",
            "MWI",
            "ESP",
            "LUX",
            "MYS",
            "CHL",
            "VEN",
            "MLT",
            "DEU",
            "MEX",
            "ROU",
            "VNM",
            "GHA",
            "BGD",
            "SDN",
            "CRI",
            "MUS",
            "TUN",
            "MRT",
            "SVK",
            "BRB",
            "GTM",
            "GRC",
            "IND",
            "BEN",
            "IDN",
            "KWT",
            "KHM",
            "SVN",
            "BRA",
            "UKR",
            "KEN",
            "ISR",
            "SGP",
            "JAM",
            "ARE",
            "BGR",
            "KAZ",
            "JPN",
            "JOR",
            "ITA",
            "IRL",
            "BWA",
            "KGZ",
            "LTU",
            "CAF",
            "TKM",
            "USA",
            "KOR",
            "IRN",
            "LSO",
            "SEN",
            "CAN",
            "UGA",
            "IRQ",
            "LVA",
            "ZAF",
            "CMR",
            "GBR",
            "SWE",
            "MDA",
            "RUS",
            "NZL",
            "SYR",
            "ARG",
            "NPL",
            "PRY",
            "TON",
            "CYP",
            "DZA",
            "AUS",
            "ZMB",
            "DNK",
            "TZA",
            "PHL",
            "NLD",
            "FIN",
            "EST",
            "CIV",
            "TGO",
            "FJI",
            "ARM",
            "CZE",
            "TJK",
            "ZWE",
            "PER",
            "NIC",
            "SWZ",
            "FRA",
            "SLV",
            "NOR",
            "CHE",
            "MNG",
            "ECU",
            "PAN",
            "GEO",
            "TTO",
            "HRV",
            "PRT",
            "MAR",
            "GMB",
            "MOZ",
            "AUT",
            "PAK",
            "PNG",
            "NER",
            "EGY",
            "GAB",
            "NAM",
            "DOM",
            "POL",
            "CUB"
           ],
           "name": "",
           "type": "choropleth",
           "z": [
            0.40000001,
            0.53799999,
            0.64899999,
            0.583,
            0.47099999,
            0.163,
            0.63099998,
            0.72600001,
            0.322,
            0.44,
            0.51499999,
            0.184,
            0.71899998,
            0.15700001,
            0.2,
            0.398,
            0.47600001,
            0.54699999,
            0.331,
            0.156,
            0.50800002,
            0.47400001,
            0.38299999,
            0.62599999,
            0.65600002,
            0.72000003,
            0.463,
            0.479,
            0.53200001,
            0.80900002,
            0.248,
            0.37200001,
            0.59600002,
            0.28299999,
            0.68699998,
            0.68199998,
            0.57800001,
            0.58499998,
            0.66000003,
            0.24699999,
            0.509,
            0.48199999,
            0.708,
            0.244,
            0.252,
            0.47999999,
            0.64300001,
            0.373,
            0.449,
            0.15899999,
            0.67400002,
            0.198,
            0.20200001,
            0.551,
            0.50999999,
            0.32499999,
            0.74000001,
            0.36899999,
            0.30500001,
            0.27700001,
            0.66500002,
            0.57700002,
            0.62800002,
            0.184,
            0.64999998,
            0.65799999,
            0.41,
            0.42399999,
            0.70300001,
            0.237,
            0.090000004,
            0.486,
            0.46700001,
            0.222,
            0.56900001,
            0.43099999,
            0.70999998,
            0.57499999,
            0.68400002,
            0.347,
            0.68000001,
            0.18000001,
            0.625,
            0.102,
            0.65200001,
            0.48300001,
            0.113,
            0.103,
            0.38600001,
            0.70899999,
            0.741,
            0.49900001,
            0.47099999,
            0.252,
            0.55800003,
            0.59799999,
            0.54699999,
            0.62900001,
            0.65200001,
            0.22,
            0.52600002,
            0.122,
            0.117,
            0.5,
            0.58899999,
            0.51700002,
            0.426,
            0.426,
            0.28,
            0.243,
            0.713,
            0.74699998,
            0.66399997,
            0.18700001,
            0.76599997,
            0.66799998,
            0.83099997,
            0.66500002,
            0.60600001,
            0.55500001,
            0.57099998,
            0.25799999,
            0.428
           ]
          }
         ],
         "name": "1995"
        },
        {
         "data": [
          {
           "coloraxis": "coloraxis",
           "geo": "geo",
           "hovertemplate": "<b>%{hovertext}</b><br><br>Year=2000<br>Code=%{location}<br>Gender Inequality Index(%)=%{z}<extra></extra>",
           "hovertext": [
            "Ireland",
            "Iraq",
            "South Africa",
            "El Salvador",
            "Ukraine",
            "Cameroon",
            "Slovakia",
            "Estonia",
            "Jamaica",
            "Denmark",
            "Ecuador",
            "Cambodia",
            "Israel",
            "Burundi",
            "Italy",
            "Dominican Republic",
            "Egypt",
            "Sweden",
            "Uganda",
            "Cuba",
            "Colombia",
            "Guyana",
            "Congo",
            "Guatemala",
            "Gabon",
            "France",
            "Switzerland",
            "Tunisia",
            "Gambia",
            "Croatia",
            "Costa Rica",
            "Georgia",
            "Germany",
            "Greece",
            "Togo",
            "Honduras",
            "Hungary",
            "Iran",
            "Eswatini",
            "Tajikistan",
            "South Korea",
            "Central African Republic",
            "Indonesia",
            "Tonga",
            "Syria",
            "Finland",
            "Iceland",
            "Cyprus",
            "Spain",
            "Turkey",
            "China",
            "Chile",
            "Japan",
            "United Arab Emirates",
            "Jordan",
            "Australia",
            "Maldives",
            "Rwanda",
            "Belgium",
            "Zambia",
            "Netherlands",
            "Malaysia",
            "Malawi",
            "Uruguay",
            "Belize",
            "Samoa",
            "Armenia",
            "New Zealand",
            "Benin",
            "Lithuania",
            "Nepal",
            "Philippines",
            "Mali",
            "Namibia",
            "Mongolia",
            "Portugal",
            "Morocco",
            "Moldova",
            "Vietnam",
            "Yemen",
            "Mexico",
            "Nicaragua",
            "Mozambique",
            "Bangladesh",
            "Mauritius",
            "Mauritania",
            "Russia",
            "Austria",
            "Barbados",
            "Malta",
            "Poland",
            "Argentina",
            "Luxembourg",
            "Liberia",
            "Laos",
            "Zimbabwe",
            "Kyrgyzstan",
            "Botswana",
            "Sierra Leone",
            "Norway",
            "Kuwait",
            "United Kingdom",
            "Kenya",
            "Singapore",
            "Albania",
            "Kazakhstan",
            "Papua New Guinea",
            "Thailand",
            "Bulgaria",
            "Panama",
            "Brazil",
            "Algeria",
            "Bahamas",
            "Senegal",
            "Niger",
            "Paraguay",
            "Lesotho",
            "Bolivia",
            "Latvia"
           ],
           "locations": [
            "IRL",
            "IRQ",
            "ZAF",
            "SLV",
            "UKR",
            "CMR",
            "SVK",
            "EST",
            "JAM",
            "DNK",
            "ECU",
            "KHM",
            "ISR",
            "BDI",
            "ITA",
            "DOM",
            "EGY",
            "SWE",
            "UGA",
            "CUB",
            "COL",
            "GUY",
            "COG",
            "GTM",
            "GAB",
            "FRA",
            "CHE",
            "TUN",
            "GMB",
            "HRV",
            "CRI",
            "GEO",
            "DEU",
            "GRC",
            "TGO",
            "HND",
            "HUN",
            "IRN",
            "SWZ",
            "TJK",
            "KOR",
            "CAF",
            "IDN",
            "TON",
            "SYR",
            "FIN",
            "ISL",
            "CYP",
            "ESP",
            "TUR",
            "CHN",
            "CHL",
            "JPN",
            "ARE",
            "JOR",
            "AUS",
            "MDV",
            "RWA",
            "BEL",
            "ZMB",
            "NLD",
            "MYS",
            "MWI",
            "URY",
            "BLZ",
            "WSM",
            "ARM",
            "NZL",
            "BEN",
            "LTU",
            "NPL",
            "PHL",
            "MLI",
            "NAM",
            "MNG",
            "PRT",
            "MAR",
            "MDA",
            "VNM",
            "YEM",
            "MEX",
            "NIC",
            "MOZ",
            "BGD",
            "MUS",
            "MRT",
            "RUS",
            "AUT",
            "BRB",
            "MLT",
            "POL",
            "ARG",
            "LUX",
            "LBR",
            "LAO",
            "ZWE",
            "KGZ",
            "BWA",
            "SLE",
            "NOR",
            "KWT",
            "GBR",
            "KEN",
            "SGP",
            "ALB",
            "KAZ",
            "PNG",
            "THA",
            "BGR",
            "PAN",
            "BRA",
            "DZA",
            "BHS",
            "SEN",
            "NER",
            "PRY",
            "LSO",
            "BOL",
            "LVA"
           ],
           "name": "",
           "type": "choropleth",
           "z": [
            0.20100001,
            0.62,
            0.419,
            0.51800001,
            0.384,
            0.69300002,
            0.219,
            0.28400001,
            0.46900001,
            0.075999998,
            0.491,
            0.59899998,
            0.197,
            0.59399998,
            0.178,
            0.48500001,
            0.634,
            0.061999999,
            0.64300001,
            0.39300001,
            0.49700001,
            0.54000002,
            0.62300003,
            0.59899998,
            0.59500003,
            0.192,
            0.093999997,
            0.42699999,
            0.73900002,
            0.206,
            0.428,
            0.42199999,
            0.13,
            0.221,
            0.66500002,
            0.54699999,
            0.28799999,
            0.60100001,
            0.66100001,
            0.41,
            0.191,
            0.70599997,
            0.56400001,
            0.671,
            0.55000001,
            0.085000001,
            0.149,
            0.25799999,
            0.119,
            0.58899999,
            0.25400001,
            0.43399999,
            0.13500001,
            0.60900003,
            0.63200003,
            0.16,
            0.54100001,
            0.55199999,
            0.122,
            0.62599999,
            0.096000001,
            0.34,
            0.69199997,
            0.389,
            0.48100001,
            0.49599999,
            0.46700001,
            0.19,
            0.67799997,
            0.28099999,
            0.67000002,
            0.479,
            0.72500002,
            0.546,
            0.44999999,
            0.208,
            0.69599998,
            0.42500001,
            0.347,
            0.81400001,
            0.493,
            0.602,
            0.64499998,
            0.63,
            0.45199999,
            0.75599998,
            0.42300001,
            0.15099999,
            0.35600001,
            0.32100001,
            0.205,
            0.42199999,
            0.175,
            0.68900001,
            0.57700002,
            0.63099998,
            0.47600001,
            0.52100003,
            0.69499999,
            0.109,
            0.58499998,
            0.215,
            0.69599998,
            0.27200001,
            0.38100001,
            0.405,
            0.66299999,
            0.39700001,
            0.336,
            0.50700003,
            0.50300002,
            0.62699997,
            0.38499999,
            0.63200003,
            0.81800002,
            0.55699998,
            0.59500003,
            0.59100002,
            0.27599999
           ]
          }
         ],
         "name": "2000"
        },
        {
         "data": [
          {
           "coloraxis": "coloraxis",
           "geo": "geo",
           "hovertemplate": "<b>%{hovertext}</b><br><br>Year=2005<br>Code=%{location}<br>Gender Inequality Index(%)=%{z}<extra></extra>",
           "hovertext": [
            "Morocco",
            "Tanzania",
            "Estonia",
            "Pakistan",
            "Eswatini",
            "Peru",
            "Gabon",
            "Mozambique",
            "Poland",
            "New Zealand",
            "Ethiopia",
            "Tajikistan",
            "Ecuador",
            "Netherlands",
            "Papua New Guinea",
            "Switzerland",
            "Oman",
            "Egypt",
            "France",
            "Norway",
            "Namibia",
            "Philippines",
            "Nicaragua",
            "Niger",
            "Nepal",
            "Paraguay",
            "Fiji",
            "Finland",
            "Syria",
            "Portugal",
            "El Salvador",
            "Malta",
            "Mongolia",
            "India",
            "South Korea",
            "Libya",
            "Liberia",
            "Indonesia",
            "Saudi Arabia",
            "Lesotho",
            "Iran",
            "Senegal",
            "Latvia",
            "Laos",
            "South Africa",
            "Kyrgyzstan",
            "Ireland",
            "Sierra Leone",
            "Kuwait",
            "Israel",
            "Slovenia",
            "Kenya",
            "Kazakhstan",
            "Italy",
            "Singapore",
            "Jamaica",
            "Slovakia",
            "Jordan",
            "Lithuania",
            "Gambia",
            "Samoa",
            "Iceland",
            "Georgia",
            "Sweden",
            "Moldova",
            "Mexico",
            "Germany",
            "Romania",
            "Ghana",
            "Panama",
            "Mauritius",
            "Japan",
            "Greece",
            "Russia",
            "Guatemala",
            "Sudan",
            "Mali",
            "Guyana",
            "Haiti",
            "Sri Lanka",
            "Maldives",
            "Rwanda",
            "Honduras",
            "Malaysia",
            "Hungary",
            "Malawi",
            "Spain",
            "Luxembourg",
            "Afghanistan",
            "Suriname",
            "Barbados",
            "Yemen",
            "Azerbaijan",
            "Burkina Faso",
            "Trinidad and Tobago",
            "Croatia",
            "Bulgaria",
            "United Arab Emirates",
            "Cote d'Ivoire",
            "Algeria",
            "Cuba",
            "Botswana",
            "Bahamas",
            "Tonga",
            "United Kingdom",
            "Cyprus",
            "Bolivia",
            "Zimbabwe",
            "Vietnam",
            "Ukraine",
            "Cambodia",
            "China",
            "Colombia",
            "Turkey",
            "Zambia",
            "Armenia",
            "Chile",
            "Australia",
            "Burundi",
            "Central African Republic",
            "Tunisia",
            "Congo",
            "Uganda",
            "Austria",
            "Cameroon",
            "Argentina",
            "Costa Rica",
            "Canada",
            "Czechia",
            "Brazil",
            "Democratic Republic of Congo",
            "Bangladesh",
            "United States",
            "Uruguay",
            "Albania",
            "Belgium",
            "Benin",
            "Thailand",
            "Togo",
            "Dominican Republic",
            "Bahrain",
            "Belize",
            "Venezuela"
           ],
           "locations": [
            "MAR",
            "TZA",
            "EST",
            "PAK",
            "SWZ",
            "PER",
            "GAB",
            "MOZ",
            "POL",
            "NZL",
            "ETH",
            "TJK",
            "ECU",
            "NLD",
            "PNG",
            "CHE",
            "OMN",
            "EGY",
            "FRA",
            "NOR",
            "NAM",
            "PHL",
            "NIC",
            "NER",
            "NPL",
            "PRY",
            "FJI",
            "FIN",
            "SYR",
            "PRT",
            "SLV",
            "MLT",
            "MNG",
            "IND",
            "KOR",
            "LBY",
            "LBR",
            "IDN",
            "SAU",
            "LSO",
            "IRN",
            "SEN",
            "LVA",
            "LAO",
            "ZAF",
            "KGZ",
            "IRL",
            "SLE",
            "KWT",
            "ISR",
            "SVN",
            "KEN",
            "KAZ",
            "ITA",
            "SGP",
            "JAM",
            "SVK",
            "JOR",
            "LTU",
            "GMB",
            "WSM",
            "ISL",
            "GEO",
            "SWE",
            "MDA",
            "MEX",
            "DEU",
            "ROU",
            "GHA",
            "PAN",
            "MUS",
            "JPN",
            "GRC",
            "RUS",
            "GTM",
            "SDN",
            "MLI",
            "GUY",
            "HTI",
            "LKA",
            "MDV",
            "RWA",
            "HND",
            "MYS",
            "HUN",
            "MWI",
            "ESP",
            "LUX",
            "AFG",
            "SUR",
            "BRB",
            "YEM",
            "AZE",
            "BFA",
            "TTO",
            "HRV",
            "BGR",
            "ARE",
            "CIV",
            "DZA",
            "CUB",
            "BWA",
            "BHS",
            "TON",
            "GBR",
            "CYP",
            "BOL",
            "ZWE",
            "VNM",
            "UKR",
            "KHM",
            "CHN",
            "COL",
            "TUR",
            "ZMB",
            "ARM",
            "CHL",
            "AUS",
            "BDI",
            "CAF",
            "TUN",
            "COG",
            "UGA",
            "AUT",
            "CMR",
            "ARG",
            "CRI",
            "CAN",
            "CZE",
            "BRA",
            "COD",
            "BGD",
            "USA",
            "URY",
            "ALB",
            "BEL",
            "BEN",
            "THA",
            "TGO",
            "DOM",
            "BHR",
            "BLZ",
            "VEN"
           ],
           "name": "",
           "type": "choropleth",
           "z": [
            0.57999998,
            0.59200001,
            0.214,
            0.59500003,
            0.61900002,
            0.456,
            0.574,
            0.63800001,
            0.164,
            0.18799999,
            0.611,
            0.345,
            0.454,
            0.082000002,
            0.68199998,
            0.072999999,
            0.38699999,
            0.58099997,
            0.156,
            0.085000001,
            0.52499998,
            0.46700001,
            0.54100001,
            0.73000002,
            0.653,
            0.537,
            0.40900001,
            0.088,
            0.54000002,
            0.182,
            0.486,
            0.30899999,
            0.41,
            0.61900002,
            0.107,
            0.26800001,
            0.676,
            0.53299999,
            0.67199999,
            0.58499998,
            0.51200002,
            0.62900001,
            0.21699999,
            0.542,
            0.426,
            0.67699999,
            0.192,
            0.66900003,
            0.37400001,
            0.17299999,
            0.139,
            0.65399998,
            0.36000001,
            0.175,
            0.167,
            0.46599999,
            0.189,
            0.55699998,
            0.185,
            0.64700001,
            0.493,
            0.125,
            0.38800001,
            0.052999999,
            0.292,
            0.43099999,
            0.117,
            0.35499999,
            0.57300001,
            0.472,
            0.36899999,
            0.148,
            0.17900001,
            0.359,
            0.56999999,
            0.66500002,
            0.72299999,
            0.52700001,
            0.579,
            0.44499999,
            0.41999999,
            0.484,
            0.51499999,
            0.324,
            0.25999999,
            0.65499997,
            0.118,
            0.156,
            0.73900002,
            0.49200001,
            0.345,
            0.79100001,
            0.324,
            0.63599998,
            0.35299999,
            0.164,
            0.25099999,
            0.59100002,
            0.69099998,
            0.56099999,
            0.34299999,
            0.523,
            0.35800001,
            0.47600001,
            0.206,
            0.14,
            0.55900002,
            0.58899999,
            0.317,
            0.37,
            0.56099999,
            0.228,
            0.484,
            0.56400001,
            0.59299999,
            0.40599999,
            0.38600001,
            0.139,
            0.52700001,
            0.68400002,
            0.336,
            0.625,
            0.59200001,
            0.118,
            0.66100001,
            0.37400001,
            0.347,
            0.132,
            0.153,
            0.46900001,
            0.667,
            0.59100002,
            0.264,
            0.373,
            0.33199999,
            0.104,
            0.65600002,
            0.34799999,
            0.63300002,
            0.46900001,
            0.331,
            0.46399999,
            0.47
           ]
          }
         ],
         "name": "2005"
        },
        {
         "data": [
          {
           "coloraxis": "coloraxis",
           "geo": "geo",
           "hovertemplate": "<b>%{hovertext}</b><br><br>Year=2010<br>Code=%{location}<br>Gender Inequality Index(%)=%{z}<extra></extra>",
           "hovertext": [
            "Maldives",
            "Cameroon",
            "Spain",
            "Belgium",
            "Uganda",
            "Rwanda",
            "Malawi",
            "Philippines",
            "Ireland",
            "Austria",
            "Myanmar",
            "Israel",
            "Slovenia",
            "Hungary",
            "Burundi",
            "Italy",
            "Mozambique",
            "Russia",
            "China",
            "Cambodia",
            "Venezuela",
            "Mali",
            "Barbados",
            "Malta",
            "Nepal",
            "India",
            "Belarus",
            "South Korea",
            "Central African Republic",
            "Iceland",
            "Australia",
            "Indonesia",
            "Canada",
            "Chile",
            "Turkey",
            "Mauritania",
            "Uruguay",
            "Iran",
            "Yemen",
            "Namibia",
            "South Africa",
            "Malaysia",
            "Iraq",
            "United States",
            "Jamaica",
            "Ukraine",
            "Kyrgyzstan",
            "Mongolia",
            "Sao Tome and Principe",
            "Serbia",
            "Bosnia and Herzegovina",
            "Bahrain",
            "Libya",
            "Laos",
            "Bahamas",
            "United Kingdom",
            "Qatar",
            "Latvia",
            "Senegal",
            "Bolivia",
            "Mexico",
            "Lebanon",
            "Moldova",
            "Vietnam",
            "Liberia",
            "Lesotho",
            "Saudi Arabia",
            "Botswana",
            "Portugal",
            "Kuwait",
            "Montenegro",
            "Belize",
            "Slovakia",
            "Luxembourg",
            "Burkina Faso",
            "Mauritius",
            "Samoa",
            "Japan",
            "Poland",
            "Morocco",
            "Jordan",
            "Bangladesh",
            "Azerbaijan",
            "Bulgaria",
            "Romania",
            "Lithuania",
            "Kazakhstan",
            "Brazil",
            "Armenia",
            "United Arab Emirates",
            "Benin",
            "Kenya",
            "Sierra Leone",
            "Singapore",
            "Netherlands",
            "Panama",
            "Honduras",
            "Oman",
            "Nicaragua",
            "Czechia",
            "Costa Rica",
            "Switzerland",
            "Eswatini",
            "Ghana",
            "Togo",
            "Suriname",
            "Tajikistan",
            "Argentina",
            "Greece",
            "Estonia",
            "Democratic Republic of Congo",
            "Sudan",
            "Ethiopia",
            "Albania",
            "Germany",
            "Papua New Guinea",
            "Gabon",
            "Zimbabwe",
            "Algeria",
            "France",
            "Cuba",
            "Croatia",
            "Gambia",
            "Congo",
            "Norway",
            "Cyprus",
            "Sweden",
            "Paraguay",
            "Georgia",
            "Syria",
            "Cote d'Ivoire",
            "Trinidad and Tobago",
            "Finland",
            "Guatemala",
            "Tonga",
            "Dominican Republic",
            "Ecuador",
            "Thailand",
            "Afghanistan",
            "Guyana",
            "New Zealand",
            "Denmark",
            "Tunisia",
            "Sri Lanka",
            "Zambia",
            "Colombia",
            "Pakistan",
            "Peru",
            "El Salvador"
           ],
           "locations": [
            "MDV",
            "CMR",
            "ESP",
            "BEL",
            "UGA",
            "RWA",
            "MWI",
            "PHL",
            "IRL",
            "AUT",
            "MMR",
            "ISR",
            "SVN",
            "HUN",
            "BDI",
            "ITA",
            "MOZ",
            "RUS",
            "CHN",
            "KHM",
            "VEN",
            "MLI",
            "BRB",
            "MLT",
            "NPL",
            "IND",
            "BLR",
            "KOR",
            "CAF",
            "ISL",
            "AUS",
            "IDN",
            "CAN",
            "CHL",
            "TUR",
            "MRT",
            "URY",
            "IRN",
            "YEM",
            "NAM",
            "ZAF",
            "MYS",
            "IRQ",
            "USA",
            "JAM",
            "UKR",
            "KGZ",
            "MNG",
            "STP",
            "SRB",
            "BIH",
            "BHR",
            "LBY",
            "LAO",
            "BHS",
            "GBR",
            "QAT",
            "LVA",
            "SEN",
            "BOL",
            "MEX",
            "LBN",
            "MDA",
            "VNM",
            "LBR",
            "LSO",
            "SAU",
            "BWA",
            "PRT",
            "KWT",
            "MNE",
            "BLZ",
            "SVK",
            "LUX",
            "BFA",
            "MUS",
            "WSM",
            "JPN",
            "POL",
            "MAR",
            "JOR",
            "BGD",
            "AZE",
            "BGR",
            "ROU",
            "LTU",
            "KAZ",
            "BRA",
            "ARM",
            "ARE",
            "BEN",
            "KEN",
            "SLE",
            "SGP",
            "NLD",
            "PAN",
            "HND",
            "OMN",
            "NIC",
            "CZE",
            "CRI",
            "CHE",
            "SWZ",
            "GHA",
            "TGO",
            "SUR",
            "TJK",
            "ARG",
            "GRC",
            "EST",
            "COD",
            "SDN",
            "ETH",
            "ALB",
            "DEU",
            "PNG",
            "GAB",
            "ZWE",
            "DZA",
            "FRA",
            "CUB",
            "HRV",
            "GMB",
            "COG",
            "NOR",
            "CYP",
            "SWE",
            "PRY",
            "GEO",
            "SYR",
            "CIV",
            "TTO",
            "FIN",
            "GTM",
            "TON",
            "DOM",
            "ECU",
            "THA",
            "AFG",
            "GUY",
            "NZL",
            "DNK",
            "TUN",
            "LKA",
            "ZMB",
            "COL",
            "PAK",
            "PER",
            "SLV"
           ],
           "name": "",
           "type": "choropleth",
           "z": [
            0.38299999,
            0.62300003,
            0.113,
            0.093000002,
            0.56400001,
            0.44400001,
            0.616,
            0.449,
            0.171,
            0.111,
            0.45899999,
            0.149,
            0.124,
            0.255,
            0.50199997,
            0.124,
            0.61699998,
            0.315,
            0.197,
            0.49200001,
            0.46900001,
            0.67699999,
            0.32100001,
            0.27700001,
            0.537,
            0.59100002,
            0.15099999,
            0.098999999,
            0.67400002,
            0.098999999,
            0.138,
            0.486,
            0.127,
            0.359,
            0.426,
            0.65600002,
            0.32699999,
            0.52899998,
            0.77899998,
            0.51200002,
            0.42300001,
            0.308,
            0.53600001,
            0.25400001,
            0.45500001,
            0.33399999,
            0.36500001,
            0.40599999,
            0.53299999,
            0.22,
            0.23899999,
            0.241,
            0.215,
            0.50999999,
            0.38299999,
            0.184,
            0.579,
            0.208,
            0.57499999,
            0.50300002,
            0.40099999,
            0.40400001,
            0.28600001,
            0.324,
            0.66100001,
            0.56900001,
            0.63300002,
            0.49599999,
            0.141,
            0.236,
            0.21799999,
            0.42300001,
            0.19400001,
            0.132,
            0.611,
            0.382,
            0.456,
            0.12,
            0.17,
            0.56300002,
            0.48800001,
            0.55900002,
            0.317,
            0.23199999,
            0.35800001,
            0.168,
            0.26699999,
            0.454,
            0.34400001,
            0.23100001,
            0.62099999,
            0.616,
            0.66500002,
            0.098999999,
            0.054000001,
            0.51499999,
            0.51300001,
            0.32300001,
            0.51999998,
            0.13500001,
            0.32699999,
            0.061999999,
            0.57200003,
            0.56999999,
            0.59799999,
            0.514,
            0.33000001,
            0.37,
            0.15899999,
            0.168,
            0.67699999,
            0.62199998,
            0.57599998,
            0.273,
            0.097000003,
            0.667,
            0.55800003,
            0.58099997,
            0.523,
            0.125,
            0.32800001,
            0.146,
            0.662,
            0.61699998,
            0.075000003,
            0.134,
            0.050999999,
            0.50099999,
            0.41999999,
            0.53899997,
            0.68300003,
            0.35299999,
            0.077,
            0.54000002,
            0.67299998,
            0.46700001,
            0.421,
            0.31900001,
            0.72399998,
            0.52200001,
            0.186,
            0.056000002,
            0.30899999,
            0.40900001,
            0.55299997,
            0.43700001,
            0.56999999,
            0.40599999,
            0.43799999
           ]
          }
         ],
         "name": "2010"
        },
        {
         "data": [
          {
           "coloraxis": "coloraxis",
           "geo": "geo",
           "hovertemplate": "<b>%{hovertext}</b><br><br>Year=2011<br>Code=%{location}<br>Gender Inequality Index(%)=%{z}<extra></extra>",
           "hovertext": [
            "Bahamas",
            "Senegal",
            "Pakistan",
            "Cyprus",
            "Venezuela",
            "Bolivia",
            "Maldives",
            "Latvia",
            "Papua New Guinea",
            "Togo",
            "Laos",
            "Finland",
            "Serbia",
            "Russia",
            "Vietnam",
            "Botswana",
            "Switzerland",
            "Barbados",
            "Kuwait",
            "Dominican Republic",
            "France",
            "Norway",
            "Mali",
            "Mongolia",
            "Bosnia and Herzegovina",
            "Ecuador",
            "Kyrgyzstan",
            "Malta",
            "Cuba",
            "Albania",
            "Portugal",
            "Lebanon",
            "United Kingdom",
            "Tanzania",
            "Bahrain",
            "Belgium",
            "Tajikistan",
            "United States",
            "Estonia",
            "Rwanda",
            "Lithuania",
            "Malawi",
            "Samoa",
            "Mauritius",
            "Zimbabwe",
            "Belize",
            "Romania",
            "Luxembourg",
            "El Salvador",
            "Denmark",
            "Panama",
            "Malaysia",
            "Sao Tome and Principe",
            "Moldova",
            "Syria",
            "Belarus",
            "Bangladesh",
            "Qatar",
            "Ethiopia",
            "Lesotho",
            "Afghanistan",
            "Saudi Arabia",
            "Thailand",
            "Czechia",
            "Liberia",
            "Mexico",
            "Oman",
            "Eswatini",
            "Mauritania",
            "Uruguay",
            "Benin",
            "Yemen",
            "Montenegro",
            "Guatemala",
            "Iran",
            "South Africa",
            "Sudan",
            "Greece",
            "Iraq",
            "Cameroon",
            "Congo",
            "Argentina",
            "Uganda",
            "Ghana",
            "Ireland",
            "Sierra Leone",
            "Slovenia",
            "Cambodia",
            "Costa Rica",
            "Suriname",
            "Israel",
            "Austria",
            "Canada",
            "Namibia",
            "Australia",
            "Indonesia",
            "Spain",
            "China",
            "Netherlands",
            "Hungary",
            "Armenia",
            "Peru",
            "Haiti",
            "Chile",
            "Iceland",
            "Burundi",
            "Sri Lanka",
            "Turkey",
            "Guyana",
            "India",
            "Colombia",
            "South Korea",
            "Zambia",
            "Central African Republic",
            "Tunisia",
            "New Zealand",
            "Nepal",
            "Nicaragua",
            "Myanmar",
            "Cote d'Ivoire",
            "Algeria",
            "Ukraine",
            "Kazakhstan",
            "Japan",
            "Sweden",
            "Croatia",
            "Burkina Faso",
            "Azerbaijan",
            "Niger",
            "Singapore",
            "Germany",
            "Gambia",
            "Jordan",
            "Morocco",
            "Poland",
            "Brazil",
            "Bulgaria",
            "Paraguay",
            "Italy",
            "Honduras",
            "Kenya",
            "Tonga",
            "Mozambique",
            "Georgia",
            "Slovakia",
            "Gabon",
            "United Arab Emirates",
            "Jamaica",
            "Trinidad and Tobago"
           ],
           "locations": [
            "BHS",
            "SEN",
            "PAK",
            "CYP",
            "VEN",
            "BOL",
            "MDV",
            "LVA",
            "PNG",
            "TGO",
            "LAO",
            "FIN",
            "SRB",
            "RUS",
            "VNM",
            "BWA",
            "CHE",
            "BRB",
            "KWT",
            "DOM",
            "FRA",
            "NOR",
            "MLI",
            "MNG",
            "BIH",
            "ECU",
            "KGZ",
            "MLT",
            "CUB",
            "ALB",
            "PRT",
            "LBN",
            "GBR",
            "TZA",
            "BHR",
            "BEL",
            "TJK",
            "USA",
            "EST",
            "RWA",
            "LTU",
            "MWI",
            "WSM",
            "MUS",
            "ZWE",
            "BLZ",
            "ROU",
            "LUX",
            "SLV",
            "DNK",
            "PAN",
            "MYS",
            "STP",
            "MDA",
            "SYR",
            "BLR",
            "BGD",
            "QAT",
            "ETH",
            "LSO",
            "AFG",
            "SAU",
            "THA",
            "CZE",
            "LBR",
            "MEX",
            "OMN",
            "SWZ",
            "MRT",
            "URY",
            "BEN",
            "YEM",
            "MNE",
            "GTM",
            "IRN",
            "ZAF",
            "SDN",
            "GRC",
            "IRQ",
            "CMR",
            "COG",
            "ARG",
            "UGA",
            "GHA",
            "IRL",
            "SLE",
            "SVN",
            "KHM",
            "CRI",
            "SUR",
            "ISR",
            "AUT",
            "CAN",
            "NAM",
            "AUS",
            "IDN",
            "ESP",
            "CHN",
            "NLD",
            "HUN",
            "ARM",
            "PER",
            "HTI",
            "CHL",
            "ISL",
            "BDI",
            "LKA",
            "TUR",
            "GUY",
            "IND",
            "COL",
            "KOR",
            "ZMB",
            "CAF",
            "TUN",
            "NZL",
            "NPL",
            "NIC",
            "MMR",
            "CIV",
            "DZA",
            "UKR",
            "KAZ",
            "JPN",
            "SWE",
            "HRV",
            "BFA",
            "AZE",
            "NER",
            "SGP",
            "DEU",
            "GMB",
            "JOR",
            "MAR",
            "POL",
            "BRA",
            "BGR",
            "PRY",
            "ITA",
            "HND",
            "KEN",
            "TON",
            "MOZ",
            "GEO",
            "SVK",
            "GAB",
            "ARE",
            "JAM",
            "TTO"
           ],
           "name": "",
           "type": "choropleth",
           "z": [
            0.38100001,
            0.56699997,
            0.56900001,
            0.14,
            0.46799999,
            0.498,
            0.36899999,
            0.204,
            0.662,
            0.58899999,
            0.50099999,
            0.071999997,
            0.21699999,
            0.308,
            0.32800001,
            0.486,
            0.059999999,
            0.31299999,
            0.234,
            0.493,
            0.123,
            0.071000002,
            0.68099999,
            0.39700001,
            0.20999999,
            0.42399999,
            0.37200001,
            0.27399999,
            0.322,
            0.27900001,
            0.12800001,
            0.398,
            0.17399999,
            0.55800003,
            0.22499999,
            0.090000004,
            0.32800001,
            0.248,
            0.171,
            0.433,
            0.169,
            0.60900003,
            0.491,
            0.37,
            0.57499999,
            0.41100001,
            0.35499999,
            0.112,
            0.43700001,
            0.050999999,
            0.51700002,
            0.31,
            0.53100002,
            0.257,
            0.542,
            0.148,
            0.54900002,
            0.55400002,
            0.56800002,
            0.56300002,
            0.713,
            0.62300003,
            0.30700001,
            0.132,
            0.66799998,
            0.39300001,
            0.31099999,
            0.565,
            0.65200001,
            0.32600001,
            0.62699997,
            0.77200001,
            0.20299999,
            0.53100002,
            0.52700001,
            0.419,
            0.616,
            0.148,
            0.53399998,
            0.61799997,
            0.61199999,
            0.36700001,
            0.55199999,
            0.56699997,
            0.155,
            0.662,
            0.072999999,
            0.48800001,
            0.31999999,
            0.498,
            0.141,
            0.105,
            0.118,
            0.50999999,
            0.133,
            0.48100001,
            0.106,
            0.191,
            0.050000001,
            0.26100001,
            0.338,
            0.412,
            0.597,
            0.352,
            0.094999999,
            0.49900001,
            0.39399999,
            0.38100001,
            0.51800001,
            0.58200002,
            0.43099999,
            0.093000002,
            0.55599999,
            0.65899998,
            0.301,
            0.17900001,
            0.528,
            0.477,
            0.47600001,
            0.67299998,
            0.514,
            0.329,
            0.25400001,
            0.119,
            0.048999999,
            0.142,
            0.60699999,
            0.31900001,
            0.71200001,
            0.102,
            0.092,
            0.65899998,
            0.48899999,
            0.52999997,
            0.155,
            0.44800001,
            0.229,
            0.49900001,
            0.12,
            0.50400001,
            0.61299998,
            0.472,
            0.60699999,
            0.41600001,
            0.192,
            0.55599999,
            0.24600001,
            0.44299999,
            0.34900001
           ]
          }
         ],
         "name": "2011"
        },
        {
         "data": [
          {
           "coloraxis": "coloraxis",
           "geo": "geo",
           "hovertemplate": "<b>%{hovertext}</b><br><br>Year=2012<br>Code=%{location}<br>Gender Inequality Index(%)=%{z}<extra></extra>",
           "hovertext": [
            "Nepal",
            "Mongolia",
            "Peru",
            "Niger",
            "Malta",
            "Netherlands",
            "Albania",
            "Azerbaijan",
            "Vietnam",
            "Panama",
            "Bangladesh",
            "Armenia",
            "Qatar",
            "Pakistan",
            "Mauritania",
            "Mozambique",
            "Austria",
            "Zambia",
            "Mexico",
            "Nicaragua",
            "Bahamas",
            "Paraguay",
            "Myanmar",
            "Oman",
            "Bahrain",
            "Papua New Guinea",
            "Moldova",
            "Algeria",
            "Norway",
            "New Zealand",
            "Mauritius",
            "Yemen",
            "Zimbabwe",
            "Venezuela",
            "Afghanistan",
            "Portugal",
            "Poland",
            "Morocco",
            "Namibia",
            "Australia",
            "Romania",
            "Argentina",
            "Montenegro",
            "Dominican Republic",
            "Barbados",
            "Guatemala",
            "Colombia",
            "Guyana",
            "Sri Lanka",
            "Haiti",
            "Tunisia",
            "China",
            "Honduras",
            "Spain",
            "Hungary",
            "Chile",
            "Iceland",
            "South Korea",
            "Central African Republic",
            "India",
            "Turkey",
            "Indonesia",
            "Canada",
            "Iran",
            "South Africa",
            "Cameroon",
            "Mali",
            "Uganda",
            "Ireland",
            "Slovenia",
            "Cambodia",
            "Israel",
            "Burundi",
            "Italy",
            "Sudan",
            "Slovakia",
            "Greece",
            "Suriname",
            "Ecuador",
            "Tanzania",
            "Egypt",
            "Denmark",
            "El Salvador",
            "Thailand",
            "Tajikistan",
            "Democratic Republic of Congo",
            "Estonia",
            "Czechia",
            "Eswatini",
            "Ethiopia",
            "Syria",
            "Togo",
            "Cyprus",
            "Finland",
            "Switzerland",
            "Cuba",
            "France",
            "Tonga",
            "Gabon",
            "Croatia",
            "Gambia",
            "Sweden",
            "Cote d'Ivoire",
            "Georgia",
            "Trinidad and Tobago",
            "Costa Rica",
            "Germany",
            "Congo",
            "Jamaica",
            "Iraq",
            "Japan",
            "Senegal",
            "Bolivia",
            "Latvia",
            "Lebanon",
            "Saudi Arabia",
            "United Kingdom",
            "Burkina Faso",
            "Bhutan",
            "Lesotho",
            "Benin",
            "Liberia",
            "Sao Tome and Principe",
            "Laos",
            "Libya",
            "Lithuania",
            "United States",
            "Belize",
            "Luxembourg",
            "Belgium",
            "Malawi",
            "Rwanda",
            "Malaysia",
            "Uruguay",
            "Belarus",
            "Maldives",
            "Russia",
            "Samoa",
            "Serbia",
            "Botswana",
            "Bosnia and Herzegovina",
            "Kyrgyzstan",
            "Brazil",
            "Jordan",
            "Kenya",
            "Bulgaria",
            "Kazakhstan",
            "Sierra Leone",
            "United Arab Emirates",
            "Singapore",
            "Ukraine",
            "Kuwait"
           ],
           "locations": [
            "NPL",
            "MNG",
            "PER",
            "NER",
            "MLT",
            "NLD",
            "ALB",
            "AZE",
            "VNM",
            "PAN",
            "BGD",
            "ARM",
            "QAT",
            "PAK",
            "MRT",
            "MOZ",
            "AUT",
            "ZMB",
            "MEX",
            "NIC",
            "BHS",
            "PRY",
            "MMR",
            "OMN",
            "BHR",
            "PNG",
            "MDA",
            "DZA",
            "NOR",
            "NZL",
            "MUS",
            "YEM",
            "ZWE",
            "VEN",
            "AFG",
            "PRT",
            "POL",
            "MAR",
            "NAM",
            "AUS",
            "ROU",
            "ARG",
            "MNE",
            "DOM",
            "BRB",
            "GTM",
            "COL",
            "GUY",
            "LKA",
            "HTI",
            "TUN",
            "CHN",
            "HND",
            "ESP",
            "HUN",
            "CHL",
            "ISL",
            "KOR",
            "CAF",
            "IND",
            "TUR",
            "IDN",
            "CAN",
            "IRN",
            "ZAF",
            "CMR",
            "MLI",
            "UGA",
            "IRL",
            "SVN",
            "KHM",
            "ISR",
            "BDI",
            "ITA",
            "SDN",
            "SVK",
            "GRC",
            "SUR",
            "ECU",
            "TZA",
            "EGY",
            "DNK",
            "SLV",
            "THA",
            "TJK",
            "COD",
            "EST",
            "CZE",
            "SWZ",
            "ETH",
            "SYR",
            "TGO",
            "CYP",
            "FIN",
            "CHE",
            "CUB",
            "FRA",
            "TON",
            "GAB",
            "HRV",
            "GMB",
            "SWE",
            "CIV",
            "GEO",
            "TTO",
            "CRI",
            "DEU",
            "COG",
            "JAM",
            "IRQ",
            "JPN",
            "SEN",
            "BOL",
            "LVA",
            "LBN",
            "SAU",
            "GBR",
            "BFA",
            "BTN",
            "LSO",
            "BEN",
            "LBR",
            "STP",
            "LAO",
            "LBY",
            "LTU",
            "USA",
            "BLZ",
            "LUX",
            "BEL",
            "MWI",
            "RWA",
            "MYS",
            "URY",
            "BLR",
            "MDV",
            "RUS",
            "WSM",
            "SRB",
            "BWA",
            "BIH",
            "KGZ",
            "BRA",
            "JOR",
            "KEN",
            "BGR",
            "KAZ",
            "SLE",
            "ARE",
            "SGP",
            "UKR",
            "KWT"
           ],
           "name": "",
           "type": "choropleth",
           "z": [
            0.51800001,
            0.30000001,
            0.40000001,
            0.70700002,
            0.26300001,
            0.048999999,
            0.28099999,
            0.31900001,
            0.331,
            0.51200002,
            0.542,
            0.317,
            0.55599999,
            0.55599999,
            0.64700001,
            0.59600002,
            0.1,
            0.55000001,
            0.36899999,
            0.479,
            0.377,
            0.491,
            0.44600001,
            0.30199999,
            0.22499999,
            0.60500002,
            0.255,
            0.43200001,
            0.067000002,
            0.175,
            0.36899999,
            0.76700002,
            0.56900001,
            0.46599999,
            0.70099998,
            0.127,
            0.152,
            0.52700001,
            0.50599998,
            0.131,
            0.34299999,
            0.366,
            0.175,
            0.447,
            0.30700001,
            0.523,
            0.42399999,
            0.51499999,
            0.391,
            0.60299999,
            0.29699999,
            0.184,
            0.495,
            0.1,
            0.259,
            0.347,
            0.085000001,
            0.082999997,
            0.65600002,
            0.57300001,
            0.36500001,
            0.47600001,
            0.113,
            0.51700002,
            0.41499999,
            0.61299998,
            0.68199998,
            0.54500002,
            0.149,
            0.067000002,
            0.486,
            0.13600001,
            0.49399999,
            0.116,
            0.60900003,
            0.182,
            0.134,
            0.495,
            0.41800001,
            0.55599999,
            0.57499999,
            0.048,
            0.41299999,
            0.30899999,
            0.32300001,
            0.67000002,
            0.162,
            0.131,
            0.55900002,
            0.56,
            0.54699999,
            0.58600003,
            0.138,
            0.068000004,
            0.056000002,
            0.317,
            0.108,
            0.47,
            0.55199999,
            0.13500001,
            0.65700001,
            0.048999999,
            0.67400002,
            0.375,
            0.34599999,
            0.31400001,
            0.086999997,
            0.60900003,
            0.43900001,
            0.53200001,
            0.127,
            0.53899997,
            0.49200001,
            0.18799999,
            0.39300001,
            0.61900002,
            0.168,
            0.602,
            0.48699999,
            0.55599999,
            0.62099999,
            0.66000003,
            0.52999997,
            0.493,
            0.16599999,
            0.141,
            0.235,
            0.39399999,
            0.114,
            0.086999997,
            0.60699999,
            0.42199999,
            0.303,
            0.31999999,
            0.15099999,
            0.35299999,
            0.296,
            0.48500001,
            0.189,
            0.47799999,
            0.199,
            0.373,
            0.44800001,
            0.48699999,
            0.61000001,
            0.214,
            0.226,
            0.66000003,
            0.24699999,
            0.090999998,
            0.31600001,
            0.24699999
           ]
          }
         ],
         "name": "2012"
        },
        {
         "data": [
          {
           "coloraxis": "coloraxis",
           "geo": "geo",
           "hovertemplate": "<b>%{hovertext}</b><br><br>Year=2013<br>Code=%{location}<br>Gender Inequality Index(%)=%{z}<extra></extra>",
           "hovertext": [
            "Singapore",
            "Uzbekistan",
            "Uruguay",
            "United States",
            "Switzerland",
            "Philippines",
            "Slovakia",
            "Togo",
            "Saint Lucia",
            "Russia",
            "Rwanda",
            "Syria",
            "Panama",
            "Ukraine",
            "Romania",
            "Uganda",
            "Tajikistan",
            "Thailand",
            "Zimbabwe",
            "Slovenia",
            "Papua New Guinea",
            "Samoa",
            "Poland",
            "Peru",
            "Senegal",
            "Tunisia",
            "Spain",
            "United Arab Emirates",
            "Portugal",
            "South Korea",
            "Serbia",
            "Sri Lanka",
            "Saudi Arabia",
            "Tanzania",
            "United Kingdom",
            "Trinidad and Tobago",
            "Sudan",
            "Turkey",
            "Suriname",
            "Yemen",
            "Qatar",
            "South Africa",
            "Sao Tome and Principe",
            "Zambia",
            "Sierra Leone",
            "Vietnam",
            "Tonga",
            "Sweden",
            "Venezuela",
            "Paraguay",
            "Lebanon",
            "Bahrain",
            "Germany",
            "Lesotho",
            "Bulgaria",
            "Barbados",
            "Liberia",
            "Georgia",
            "Libya",
            "Gambia",
            "Bangladesh",
            "Lithuania",
            "Burkina Faso",
            "Luxembourg",
            "Ghana",
            "Gabon",
            "Burundi",
            "Malawi",
            "Iraq",
            "Malaysia",
            "Finland",
            "Maldives",
            "Ethiopia",
            "Bahamas",
            "Cambodia",
            "Malta",
            "Eswatini",
            "Azerbaijan",
            "France",
            "Latvia",
            "Greece",
            "Laos",
            "Iran",
            "Ireland",
            "Indonesia",
            "Israel",
            "Bolivia",
            "Benin",
            "India",
            "Italy",
            "Jamaica",
            "Colombia",
            "Japan",
            "Belize",
            "Iceland",
            "Bosnia and Herzegovina",
            "Jordan",
            "Hungary",
            "Kazakhstan",
            "Haiti",
            "Kenya",
            "Botswana",
            "Belgium",
            "Kuwait",
            "Guyana",
            "Kyrgyzstan",
            "Belarus",
            "Guatemala",
            "Brazil",
            "Estonia",
            "Mauritius",
            "Bhutan",
            "Costa Rica",
            "Cameroon",
            "China",
            "Norway",
            "Australia",
            "Albania",
            "Denmark",
            "Nicaragua",
            "New Zealand",
            "Morocco",
            "Cote d'Ivoire",
            "Namibia",
            "Mozambique",
            "Niger",
            "Algeria",
            "Myanmar",
            "Democratic Republic of Congo",
            "Armenia",
            "Montenegro",
            "Dominican Republic",
            "Czechia",
            "Austria",
            "Netherlands",
            "El Salvador",
            "Chile",
            "Congo",
            "Cuba",
            "Croatia",
            "Moldova",
            "Pakistan",
            "Mexico",
            "Ecuador",
            "Canada",
            "Argentina",
            "Cyprus",
            "Oman",
            "Mongolia",
            "Afghanistan"
           ],
           "locations": [
            "SGP",
            "UZB",
            "URY",
            "USA",
            "CHE",
            "PHL",
            "SVK",
            "TGO",
            "LCA",
            "RUS",
            "RWA",
            "SYR",
            "PAN",
            "UKR",
            "ROU",
            "UGA",
            "TJK",
            "THA",
            "ZWE",
            "SVN",
            "PNG",
            "WSM",
            "POL",
            "PER",
            "SEN",
            "TUN",
            "ESP",
            "ARE",
            "PRT",
            "KOR",
            "SRB",
            "LKA",
            "SAU",
            "TZA",
            "GBR",
            "TTO",
            "SDN",
            "TUR",
            "SUR",
            "YEM",
            "QAT",
            "ZAF",
            "STP",
            "ZMB",
            "SLE",
            "VNM",
            "TON",
            "SWE",
            "VEN",
            "PRY",
            "LBN",
            "BHR",
            "DEU",
            "LSO",
            "BGR",
            "BRB",
            "LBR",
            "GEO",
            "LBY",
            "GMB",
            "BGD",
            "LTU",
            "BFA",
            "LUX",
            "GHA",
            "GAB",
            "BDI",
            "MWI",
            "IRQ",
            "MYS",
            "FIN",
            "MDV",
            "ETH",
            "BHS",
            "KHM",
            "MLT",
            "SWZ",
            "AZE",
            "FRA",
            "LVA",
            "GRC",
            "LAO",
            "IRN",
            "IRL",
            "IDN",
            "ISR",
            "BOL",
            "BEN",
            "IND",
            "ITA",
            "JAM",
            "COL",
            "JPN",
            "BLZ",
            "ISL",
            "BIH",
            "JOR",
            "HUN",
            "KAZ",
            "HTI",
            "KEN",
            "BWA",
            "BEL",
            "KWT",
            "GUY",
            "KGZ",
            "BLR",
            "GTM",
            "BRA",
            "EST",
            "MUS",
            "BTN",
            "CRI",
            "CMR",
            "CHN",
            "NOR",
            "AUS",
            "ALB",
            "DNK",
            "NIC",
            "NZL",
            "MAR",
            "CIV",
            "NAM",
            "MOZ",
            "NER",
            "DZA",
            "MMR",
            "COD",
            "ARM",
            "MNE",
            "DOM",
            "CZE",
            "AUT",
            "NLD",
            "SLV",
            "CHL",
            "COG",
            "CUB",
            "HRV",
            "MDA",
            "PAK",
            "MEX",
            "ECU",
            "CAN",
            "ARG",
            "CYP",
            "OMN",
            "MNG",
            "AFG"
           ],
           "name": "",
           "type": "choropleth",
           "z": [
            0.082000002,
            0.27900001,
            0.31999999,
            0.227,
            0.048999999,
            0.43700001,
            0.18000001,
            0.56699997,
            0.37,
            0.28999999,
            0.405,
            0.551,
            0.50700003,
            0.308,
            0.34400001,
            0.537,
            0.32100001,
            0.30700001,
            0.53200001,
            0.064000003,
            0.602,
            0.47799999,
            0.15000001,
            0.39399999,
            0.53200001,
            0.29899999,
            0.094999999,
            0.24699999,
            0.11,
            0.075999998,
            0.19,
            0.382,
            0.26699999,
            0.55299997,
            0.15899999,
            0.34299999,
            0.602,
            0.35100001,
            0.49599999,
            0.76200002,
            0.55199999,
            0.40599999,
            0.52899998,
            0.54400003,
            0.65600002,
            0.333,
            0.465,
            0.048,
            0.46599999,
            0.46900001,
            0.38699999,
            0.22,
            0.077,
            0.55299997,
            0.215,
            0.294,
            0.65399998,
            0.36899999,
            0.16599999,
            0.65399998,
            0.53500003,
            0.13500001,
            0.59799999,
            0.088,
            0.54900002,
            0.54900002,
            0.48899999,
            0.60500002,
            0.52899998,
            0.29300001,
            0.064000003,
            0.33500001,
            0.546,
            0.37200001,
            0.48500001,
            0.21600001,
            0.57599998,
            0.324,
            0.107,
            0.184,
            0.12800001,
            0.484,
            0.51599997,
            0.14,
            0.472,
            0.124,
            0.486,
            0.61500001,
            0.56099999,
            0.090000004,
            0.435,
            0.42300001,
            0.127,
            0.384,
            0.075999998,
            0.186,
            0.484,
            0.259,
            0.215,
            0.60000002,
            0.57300001,
            0.465,
            0.083999999,
            0.243,
            0.51200002,
            0.37799999,
            0.148,
            0.52200001,
            0.43099999,
            0.155,
            0.361,
            0.52399999,
            0.308,
            0.57700002,
            0.17200001,
            0.061999999,
            0.124,
            0.27200001,
            0.044,
            0.47400001,
            0.171,
            0.52200001,
            0.671,
            0.50099999,
            0.58700001,
            0.70200002,
            0.42899999,
            0.44299999,
            0.667,
            0.308,
            0.17399999,
            0.48300001,
            0.13500001,
            0.086999997,
            0.046999998,
            0.40599999,
            0.329,
            0.60600001,
            0.31099999,
            0.12800001,
            0.24699999,
            0.55500001,
            0.36399999,
            0.405,
            0.108,
            0.36399999,
            0.13500001,
            0.294,
            0.292,
            0.68900001
           ]
          }
         ],
         "name": "2013"
        },
        {
         "data": [
          {
           "coloraxis": "coloraxis",
           "geo": "geo",
           "hovertemplate": "<b>%{hovertext}</b><br><br>Year=2014<br>Code=%{location}<br>Gender Inequality Index(%)=%{z}<extra></extra>",
           "hovertext": [
            "Guyana",
            "United Arab Emirates",
            "Haiti",
            "Croatia",
            "Spain",
            "Tajikistan",
            "Costa Rica",
            "Honduras",
            "Iran",
            "Bhutan",
            "South Africa",
            "Indonesia",
            "Congo",
            "Trinidad and Tobago",
            "Tonga",
            "India",
            "Bolivia",
            "Iceland",
            "South Korea",
            "Tunisia",
            "Cote d'Ivoire",
            "Hungary",
            "China",
            "Botswana",
            "Sudan",
            "Cuba",
            "Denmark",
            "Finland",
            "Switzerland",
            "Burundi",
            "Dominican Republic",
            "Fiji",
            "Uganda",
            "France",
            "Ethiopia",
            "Syria",
            "Eswatini",
            "Ecuador",
            "Cambodia",
            "Cameroon",
            "Estonia",
            "El Salvador",
            "Tanzania",
            "Turkey",
            "Gabon",
            "Democratic Republic of Congo",
            "Guatemala",
            "Chile",
            "Togo",
            "Greece",
            "Brazil",
            "Ghana",
            "Cyprus",
            "Germany",
            "Suriname",
            "Ukraine",
            "Czechia",
            "Georgia",
            "Bulgaria",
            "Canada",
            "Gambia",
            "Sweden",
            "Thailand",
            "Sri Lanka",
            "Pakistan",
            "Jamaica",
            "United Kingdom",
            "Portugal",
            "Austria",
            "Mexico",
            "Qatar",
            "Mauritius",
            "Vietnam",
            "Mauritania",
            "Romania",
            "Azerbaijan",
            "Malta",
            "Mali",
            "Maldives",
            "Russia",
            "Bahamas",
            "Iraq",
            "Malawi",
            "Rwanda",
            "Venezuela",
            "Luxembourg",
            "Saint Lucia",
            "Bahrain",
            "Moldova",
            "Mongolia",
            "Australia",
            "Montenegro",
            "Panama",
            "Afghanistan",
            "Oman",
            "Norway",
            "Papua New Guinea",
            "Albania",
            "Niger",
            "Nicaragua",
            "Paraguay",
            "Zambia",
            "Lithuania",
            "New Zealand",
            "Netherlands",
            "Peru",
            "Nepal",
            "Argentina",
            "Myanmar",
            "Philippines",
            "Armenia",
            "Morocco",
            "Yemen",
            "Poland",
            "Algeria",
            "Libya",
            "Malaysia",
            "Kuwait",
            "Senegal",
            "Kyrgyzstan",
            "Belarus",
            "Serbia",
            "Samoa",
            "Kenya",
            "Belgium",
            "Sierra Leone",
            "Kazakhstan",
            "Laos",
            "Jordan",
            "Japan",
            "Singapore",
            "Belize",
            "Italy",
            "Slovakia",
            "Benin",
            "Israel",
            "Ireland",
            "Slovenia",
            "United States",
            "Uruguay",
            "Colombia",
            "Barbados",
            "Latvia",
            "Uzbekistan",
            "Saudi Arabia",
            "Lesotho",
            "Sao Tome and Principe",
            "Liberia",
            "Zimbabwe",
            "Lebanon",
            "Bangladesh"
           ],
           "locations": [
            "GUY",
            "ARE",
            "HTI",
            "HRV",
            "ESP",
            "TJK",
            "CRI",
            "HND",
            "IRN",
            "BTN",
            "ZAF",
            "IDN",
            "COG",
            "TTO",
            "TON",
            "IND",
            "BOL",
            "ISL",
            "KOR",
            "TUN",
            "CIV",
            "HUN",
            "CHN",
            "BWA",
            "SDN",
            "CUB",
            "DNK",
            "FIN",
            "CHE",
            "BDI",
            "DOM",
            "FJI",
            "UGA",
            "FRA",
            "ETH",
            "SYR",
            "SWZ",
            "ECU",
            "KHM",
            "CMR",
            "EST",
            "SLV",
            "TZA",
            "TUR",
            "GAB",
            "COD",
            "GTM",
            "CHL",
            "TGO",
            "GRC",
            "BRA",
            "GHA",
            "CYP",
            "DEU",
            "SUR",
            "UKR",
            "CZE",
            "GEO",
            "BGR",
            "CAN",
            "GMB",
            "SWE",
            "THA",
            "LKA",
            "PAK",
            "JAM",
            "GBR",
            "PRT",
            "AUT",
            "MEX",
            "QAT",
            "MUS",
            "VNM",
            "MRT",
            "ROU",
            "AZE",
            "MLT",
            "MLI",
            "MDV",
            "RUS",
            "BHS",
            "IRQ",
            "MWI",
            "RWA",
            "VEN",
            "LUX",
            "LCA",
            "BHR",
            "MDA",
            "MNG",
            "AUS",
            "MNE",
            "PAN",
            "AFG",
            "OMN",
            "NOR",
            "PNG",
            "ALB",
            "NER",
            "NIC",
            "PRY",
            "ZMB",
            "LTU",
            "NZL",
            "NLD",
            "PER",
            "NPL",
            "ARG",
            "MMR",
            "PHL",
            "ARM",
            "MAR",
            "YEM",
            "POL",
            "DZA",
            "LBY",
            "MYS",
            "KWT",
            "SEN",
            "KGZ",
            "BLR",
            "SRB",
            "WSM",
            "KEN",
            "BEL",
            "SLE",
            "KAZ",
            "LAO",
            "JOR",
            "JPN",
            "SGP",
            "BLZ",
            "ITA",
            "SVK",
            "BEN",
            "ISR",
            "IRL",
            "SVN",
            "USA",
            "URY",
            "COL",
            "BRB",
            "LVA",
            "UZB",
            "SAU",
            "LSO",
            "STP",
            "LBR",
            "ZWE",
            "LBN",
            "BGD"
           ],
           "name": "",
           "type": "choropleth",
           "z": [
            0.509,
            0.24699999,
            0.597,
            0.12,
            0.086999997,
            0.324,
            0.31299999,
            0.46599999,
            0.514,
            0.49599999,
            0.40000001,
            0.472,
            0.59399998,
            0.34099999,
            0.662,
            0.54400003,
            0.45100001,
            0.064999998,
            0.071000002,
            0.28799999,
            0.67199999,
            0.249,
            0.168,
            0.44499999,
            0.59500003,
            0.30700001,
            0.043000001,
            0.059999999,
            0.045000002,
            0.48300001,
            0.47600001,
            0.36899999,
            0.52899998,
            0.103,
            0.53100002,
            0.55299997,
            0.56999999,
            0.39399999,
            0.48199999,
            0.57200003,
            0.154,
            0.39700001,
            0.54799998,
            0.34,
            0.54699999,
            0.65700001,
            0.50300002,
            0.32499999,
            0.55699998,
            0.121,
            0.41999999,
            0.54799998,
            0.12,
            0.072999999,
            0.493,
            0.28999999,
            0.134,
            0.36300001,
            0.226,
            0.102,
            0.64200002,
            0.046999998,
            0.36899999,
            0.38499999,
            0.55000001,
            0.426,
            0.149,
            0.103,
            0.082999997,
            0.35499999,
            0.546,
            0.35499999,
            0.33399999,
            0.63,
            0.34200001,
            0.33000001,
            0.213,
            0.68599999,
            0.32800001,
            0.28600001,
            0.37,
            0.528,
            0.616,
            0.39399999,
            0.463,
            0.081,
            0.36700001,
            0.22400001,
            0.25,
            0.28299999,
            0.123,
            0.163,
            0.458,
            0.676,
            0.28400001,
            0.057,
            0.597,
            0.26699999,
            0.69800001,
            0.46599999,
            0.46799999,
            0.54100001,
            0.12800001,
            0.16500001,
            0.044,
            0.389,
            0.50599998,
            0.36399999,
            0.44299999,
            0.43599999,
            0.29899999,
            0.51700002,
            0.75700003,
            0.146,
            0.42899999,
            0.169,
            0.287,
            0.34,
            0.52499998,
            0.38,
            0.146,
            0.18700001,
            0.44499999,
            0.56900001,
            0.075999998,
            0.653,
            0.20299999,
            0.47499999,
            0.47999999,
            0.124,
            0.068999998,
            0.37799999,
            0.085000001,
            0.18000001,
            0.60900003,
            0.118,
            0.13500001,
            0.057,
            0.214,
            0.317,
            0.39899999,
            0.29100001,
            0.19499999,
            0.27900001,
            0.26199999,
            0.54900002,
            0.52700001,
            0.64899999,
            0.53500003,
            0.38600001,
            0.52700001
           ]
          }
         ],
         "name": "2014"
        },
        {
         "data": [
          {
           "coloraxis": "coloraxis",
           "geo": "geo",
           "hovertemplate": "<b>%{hovertext}</b><br><br>Year=2015<br>Code=%{location}<br>Gender Inequality Index(%)=%{z}<extra></extra>",
           "hovertext": [
            "Benin",
            "United Kingdom",
            "Algeria",
            "China",
            "Bhutan",
            "Bolivia",
            "Uzbekistan",
            "Bahrain",
            "Chile",
            "Afghanistan",
            "Zambia",
            "Burkina Faso",
            "Venezuela",
            "Tunisia",
            "Bangladesh",
            "Albania",
            "Belize",
            "Uruguay",
            "United Arab Emirates",
            "United States",
            "Azerbaijan",
            "Cambodia",
            "Barbados",
            "Vietnam",
            "Austria",
            "Brazil",
            "Botswana",
            "Burundi",
            "Cameroon",
            "Chad",
            "Belarus",
            "Ukraine",
            "Turkey",
            "Bahamas",
            "Uganda",
            "Bosnia and Herzegovina",
            "Belgium",
            "Yemen",
            "Armenia",
            "Canada",
            "Australia",
            "Bulgaria",
            "Sudan",
            "Trinidad and Tobago",
            "Maldives",
            "Russia",
            "Malaysia",
            "Malawi",
            "Luxembourg",
            "Rwanda",
            "Saint Lucia",
            "Lithuania",
            "Libya",
            "Samoa",
            "Liberia",
            "Mali",
            "Sao Tome and Principe",
            "Lebanon",
            "Saudi Arabia",
            "Latvia",
            "Laos",
            "Senegal",
            "Kyrgyzstan",
            "Kuwait",
            "Serbia",
            "Kenya",
            "Kazakhstan",
            "Sierra Leone",
            "Lesotho",
            "Romania",
            "Malta",
            "Mauritania",
            "Panama",
            "Oman",
            "Norway",
            "North Macedonia",
            "Papua New Guinea",
            "Niger",
            "Nicaragua",
            "New Zealand",
            "Paraguay",
            "Netherlands",
            "Nepal",
            "Peru",
            "Namibia",
            "Myanmar",
            "Philippines",
            "Mozambique",
            "Morocco",
            "Montenegro",
            "Poland",
            "Mongolia",
            "Moldova",
            "Portugal",
            "Mexico",
            "Qatar",
            "Mauritius",
            "Jordan",
            "Colombia",
            "Japan",
            "Jamaica",
            "Finland",
            "Switzerland",
            "Fiji",
            "Ethiopia",
            "Eswatini",
            "Syria",
            "Estonia",
            "El Salvador",
            "Tajikistan",
            "Ecuador",
            "Dominican Republic",
            "France",
            "Tanzania",
            "Democratic Republic of Congo",
            "Thailand",
            "Czechia",
            "Cyprus",
            "Togo",
            "Cuba",
            "Croatia",
            "Cote d'Ivoire",
            "Tonga",
            "Costa Rica",
            "Congo",
            "Denmark",
            "Sweden",
            "Gabon",
            "Gambia",
            "Italy",
            "Slovakia",
            "Israel",
            "Ireland",
            "Slovenia",
            "Iraq",
            "Iran",
            "Indonesia",
            "South Africa",
            "India",
            "Iceland",
            "South Korea",
            "Hungary",
            "Honduras",
            "Haiti",
            "Spain",
            "Guyana",
            "Guatemala",
            "Sri Lanka",
            "Greece",
            "Ghana",
            "Pakistan",
            "Germany",
            "Suriname",
            "Georgia",
            "Singapore",
            "Zimbabwe"
           ],
           "locations": [
            "BEN",
            "GBR",
            "DZA",
            "CHN",
            "BTN",
            "BOL",
            "UZB",
            "BHR",
            "CHL",
            "AFG",
            "ZMB",
            "BFA",
            "VEN",
            "TUN",
            "BGD",
            "ALB",
            "BLZ",
            "URY",
            "ARE",
            "USA",
            "AZE",
            "KHM",
            "BRB",
            "VNM",
            "AUT",
            "BRA",
            "BWA",
            "BDI",
            "CMR",
            "TCD",
            "BLR",
            "UKR",
            "TUR",
            "BHS",
            "UGA",
            "BIH",
            "BEL",
            "YEM",
            "ARM",
            "CAN",
            "AUS",
            "BGR",
            "SDN",
            "TTO",
            "MDV",
            "RUS",
            "MYS",
            "MWI",
            "LUX",
            "RWA",
            "LCA",
            "LTU",
            "LBY",
            "WSM",
            "LBR",
            "MLI",
            "STP",
            "LBN",
            "SAU",
            "LVA",
            "LAO",
            "SEN",
            "KGZ",
            "KWT",
            "SRB",
            "KEN",
            "KAZ",
            "SLE",
            "LSO",
            "ROU",
            "MLT",
            "MRT",
            "PAN",
            "OMN",
            "NOR",
            "MKD",
            "PNG",
            "NER",
            "NIC",
            "NZL",
            "PRY",
            "NLD",
            "NPL",
            "PER",
            "NAM",
            "MMR",
            "PHL",
            "MOZ",
            "MAR",
            "MNE",
            "POL",
            "MNG",
            "MDA",
            "PRT",
            "MEX",
            "QAT",
            "MUS",
            "JOR",
            "COL",
            "JPN",
            "JAM",
            "FIN",
            "CHE",
            "FJI",
            "ETH",
            "SWZ",
            "SYR",
            "EST",
            "SLV",
            "TJK",
            "ECU",
            "DOM",
            "FRA",
            "TZA",
            "COD",
            "THA",
            "CZE",
            "CYP",
            "TGO",
            "CUB",
            "HRV",
            "CIV",
            "TON",
            "CRI",
            "COG",
            "DNK",
            "SWE",
            "GAB",
            "GMB",
            "ITA",
            "SVK",
            "ISR",
            "IRL",
            "SVN",
            "IRQ",
            "IRN",
            "IDN",
            "ZAF",
            "IND",
            "ISL",
            "KOR",
            "HUN",
            "HND",
            "HTI",
            "ESP",
            "GUY",
            "GTM",
            "LKA",
            "GRC",
            "GHA",
            "PAK",
            "DEU",
            "SUR",
            "GEO",
            "SGP",
            "ZWE"
           ],
           "name": "",
           "type": "choropleth",
           "z": [
            0.61299998,
            0.131,
            0.42899999,
            0.164,
            0.477,
            0.44600001,
            0.287,
            0.233,
            0.322,
            0.667,
            0.52600002,
            0.61500001,
            0.461,
            0.289,
            0.51999998,
            0.26699999,
            0.375,
            0.28400001,
            0.23199999,
            0.20299999,
            0.32600001,
            0.479,
            0.29100001,
            0.33700001,
            0.078000002,
            0.414,
            0.435,
            0.47400001,
            0.56800002,
            0.69499999,
            0.14399999,
            0.28400001,
            0.32800001,
            0.36199999,
            0.52200001,
            0.15800001,
            0.072999999,
            0.76700002,
            0.29300001,
            0.097999997,
            0.12,
            0.223,
            0.57499999,
            0.324,
            0.31200001,
            0.271,
            0.29100001,
            0.61400002,
            0.075000003,
            0.38299999,
            0.354,
            0.121,
            0.167,
            0.43900001,
            0.64899999,
            0.68900001,
            0.52399999,
            0.38100001,
            0.257,
            0.191,
            0.46799999,
            0.52100003,
            0.39399999,
            0.33500001,
            0.185,
            0.565,
            0.20200001,
            0.64999998,
            0.54900002,
            0.33899999,
            0.21699999,
            0.62699997,
            0.45699999,
            0.28099999,
            0.052999999,
            0.16,
            0.59500003,
            0.69499999,
            0.46200001,
            0.15800001,
            0.46399999,
            0.044,
            0.49700001,
            0.38499999,
            0.47400001,
            0.37400001,
            0.43599999,
            0.574,
            0.49399999,
            0.156,
            0.13699999,
            0.278,
            0.23199999,
            0.090999998,
            0.345,
            0.542,
            0.38,
            0.47799999,
            0.39300001,
            0.116,
            0.42199999,
            0.056000002,
            0.039999999,
            0.35800001,
            0.49900001,
            0.56599998,
            0.55400002,
            0.131,
            0.384,
            0.322,
            0.391,
            0.47,
            0.102,
            0.54400003,
            0.66299999,
            0.366,
            0.12899999,
            0.116,
            0.55599999,
            0.30399999,
            0.141,
            0.67199999,
            0.65899998,
            0.308,
            0.59200001,
            0.041000001,
            0.048,
            0.542,
            0.64099997,
            0.085000001,
            0.18000001,
            0.103,
            0.127,
            0.052999999,
            0.52499998,
            0.509,
            0.46700001,
            0.39399999,
            0.52999997,
            0.050999999,
            0.067000002,
            0.252,
            0.461,
            0.59299999,
            0.081,
            0.50800002,
            0.49399999,
            0.38600001,
            0.119,
            0.54699999,
            0.546,
            0.066,
            0.44800001,
            0.361,
            0.068000004,
            0.54000002
           ]
          }
         ],
         "name": "2015"
        }
       ],
       "layout": {
        "coloraxis": {
         "colorbar": {
          "title": {
           "text": "Gender Inequality Index(%)"
          }
         },
         "colorscale": [
          [
           0,
           "rgb(255,245,235)"
          ],
          [
           0.125,
           "rgb(254,230,206)"
          ],
          [
           0.25,
           "rgb(253,208,162)"
          ],
          [
           0.375,
           "rgb(253,174,107)"
          ],
          [
           0.5,
           "rgb(253,141,60)"
          ],
          [
           0.625,
           "rgb(241,105,19)"
          ],
          [
           0.75,
           "rgb(217,72,1)"
          ],
          [
           0.875,
           "rgb(166,54,3)"
          ],
          [
           1,
           "rgb(127,39,4)"
          ]
         ]
        },
        "geo": {
         "center": {},
         "domain": {
          "x": [
           0,
           1
          ],
          "y": [
           0,
           1
          ]
         }
        },
        "legend": {
         "tracegroupgap": 0
        },
        "margin": {
         "t": 60
        },
        "sliders": [
         {
          "active": 0,
          "currentvalue": {
           "prefix": "Year="
          },
          "len": 0.9,
          "pad": {
           "b": 10,
           "t": 60
          },
          "steps": [
           {
            "args": [
             [
              "1995"
             ],
             {
              "frame": {
               "duration": 0,
               "redraw": true
              },
              "fromcurrent": true,
              "mode": "immediate",
              "transition": {
               "duration": 0,
               "easing": "linear"
              }
             }
            ],
            "label": "1995",
            "method": "animate"
           },
           {
            "args": [
             [
              "2000"
             ],
             {
              "frame": {
               "duration": 0,
               "redraw": true
              },
              "fromcurrent": true,
              "mode": "immediate",
              "transition": {
               "duration": 0,
               "easing": "linear"
              }
             }
            ],
            "label": "2000",
            "method": "animate"
           },
           {
            "args": [
             [
              "2005"
             ],
             {
              "frame": {
               "duration": 0,
               "redraw": true
              },
              "fromcurrent": true,
              "mode": "immediate",
              "transition": {
               "duration": 0,
               "easing": "linear"
              }
             }
            ],
            "label": "2005",
            "method": "animate"
           },
           {
            "args": [
             [
              "2010"
             ],
             {
              "frame": {
               "duration": 0,
               "redraw": true
              },
              "fromcurrent": true,
              "mode": "immediate",
              "transition": {
               "duration": 0,
               "easing": "linear"
              }
             }
            ],
            "label": "2010",
            "method": "animate"
           },
           {
            "args": [
             [
              "2011"
             ],
             {
              "frame": {
               "duration": 0,
               "redraw": true
              },
              "fromcurrent": true,
              "mode": "immediate",
              "transition": {
               "duration": 0,
               "easing": "linear"
              }
             }
            ],
            "label": "2011",
            "method": "animate"
           },
           {
            "args": [
             [
              "2012"
             ],
             {
              "frame": {
               "duration": 0,
               "redraw": true
              },
              "fromcurrent": true,
              "mode": "immediate",
              "transition": {
               "duration": 0,
               "easing": "linear"
              }
             }
            ],
            "label": "2012",
            "method": "animate"
           },
           {
            "args": [
             [
              "2013"
             ],
             {
              "frame": {
               "duration": 0,
               "redraw": true
              },
              "fromcurrent": true,
              "mode": "immediate",
              "transition": {
               "duration": 0,
               "easing": "linear"
              }
             }
            ],
            "label": "2013",
            "method": "animate"
           },
           {
            "args": [
             [
              "2014"
             ],
             {
              "frame": {
               "duration": 0,
               "redraw": true
              },
              "fromcurrent": true,
              "mode": "immediate",
              "transition": {
               "duration": 0,
               "easing": "linear"
              }
             }
            ],
            "label": "2014",
            "method": "animate"
           },
           {
            "args": [
             [
              "2015"
             ],
             {
              "frame": {
               "duration": 0,
               "redraw": true
              },
              "fromcurrent": true,
              "mode": "immediate",
              "transition": {
               "duration": 0,
               "easing": "linear"
              }
             }
            ],
            "label": "2015",
            "method": "animate"
           }
          ],
          "x": 0.1,
          "xanchor": "left",
          "y": 0,
          "yanchor": "top"
         }
        ],
        "template": {
         "data": {
          "bar": [
           {
            "error_x": {
             "color": "#2a3f5f"
            },
            "error_y": {
             "color": "#2a3f5f"
            },
            "marker": {
             "line": {
              "color": "#E5ECF6",
              "width": 0.5
             },
             "pattern": {
              "fillmode": "overlay",
              "size": 10,
              "solidity": 0.2
             }
            },
            "type": "bar"
           }
          ],
          "barpolar": [
           {
            "marker": {
             "line": {
              "color": "#E5ECF6",
              "width": 0.5
             },
             "pattern": {
              "fillmode": "overlay",
              "size": 10,
              "solidity": 0.2
             }
            },
            "type": "barpolar"
           }
          ],
          "carpet": [
           {
            "aaxis": {
             "endlinecolor": "#2a3f5f",
             "gridcolor": "white",
             "linecolor": "white",
             "minorgridcolor": "white",
             "startlinecolor": "#2a3f5f"
            },
            "baxis": {
             "endlinecolor": "#2a3f5f",
             "gridcolor": "white",
             "linecolor": "white",
             "minorgridcolor": "white",
             "startlinecolor": "#2a3f5f"
            },
            "type": "carpet"
           }
          ],
          "choropleth": [
           {
            "colorbar": {
             "outlinewidth": 0,
             "ticks": ""
            },
            "type": "choropleth"
           }
          ],
          "contour": [
           {
            "colorbar": {
             "outlinewidth": 0,
             "ticks": ""
            },
            "colorscale": [
             [
              0,
              "#0d0887"
             ],
             [
              0.1111111111111111,
              "#46039f"
             ],
             [
              0.2222222222222222,
              "#7201a8"
             ],
             [
              0.3333333333333333,
              "#9c179e"
             ],
             [
              0.4444444444444444,
              "#bd3786"
             ],
             [
              0.5555555555555556,
              "#d8576b"
             ],
             [
              0.6666666666666666,
              "#ed7953"
             ],
             [
              0.7777777777777778,
              "#fb9f3a"
             ],
             [
              0.8888888888888888,
              "#fdca26"
             ],
             [
              1,
              "#f0f921"
             ]
            ],
            "type": "contour"
           }
          ],
          "contourcarpet": [
           {
            "colorbar": {
             "outlinewidth": 0,
             "ticks": ""
            },
            "type": "contourcarpet"
           }
          ],
          "heatmap": [
           {
            "colorbar": {
             "outlinewidth": 0,
             "ticks": ""
            },
            "colorscale": [
             [
              0,
              "#0d0887"
             ],
             [
              0.1111111111111111,
              "#46039f"
             ],
             [
              0.2222222222222222,
              "#7201a8"
             ],
             [
              0.3333333333333333,
              "#9c179e"
             ],
             [
              0.4444444444444444,
              "#bd3786"
             ],
             [
              0.5555555555555556,
              "#d8576b"
             ],
             [
              0.6666666666666666,
              "#ed7953"
             ],
             [
              0.7777777777777778,
              "#fb9f3a"
             ],
             [
              0.8888888888888888,
              "#fdca26"
             ],
             [
              1,
              "#f0f921"
             ]
            ],
            "type": "heatmap"
           }
          ],
          "heatmapgl": [
           {
            "colorbar": {
             "outlinewidth": 0,
             "ticks": ""
            },
            "colorscale": [
             [
              0,
              "#0d0887"
             ],
             [
              0.1111111111111111,
              "#46039f"
             ],
             [
              0.2222222222222222,
              "#7201a8"
             ],
             [
              0.3333333333333333,
              "#9c179e"
             ],
             [
              0.4444444444444444,
              "#bd3786"
             ],
             [
              0.5555555555555556,
              "#d8576b"
             ],
             [
              0.6666666666666666,
              "#ed7953"
             ],
             [
              0.7777777777777778,
              "#fb9f3a"
             ],
             [
              0.8888888888888888,
              "#fdca26"
             ],
             [
              1,
              "#f0f921"
             ]
            ],
            "type": "heatmapgl"
           }
          ],
          "histogram": [
           {
            "marker": {
             "pattern": {
              "fillmode": "overlay",
              "size": 10,
              "solidity": 0.2
             }
            },
            "type": "histogram"
           }
          ],
          "histogram2d": [
           {
            "colorbar": {
             "outlinewidth": 0,
             "ticks": ""
            },
            "colorscale": [
             [
              0,
              "#0d0887"
             ],
             [
              0.1111111111111111,
              "#46039f"
             ],
             [
              0.2222222222222222,
              "#7201a8"
             ],
             [
              0.3333333333333333,
              "#9c179e"
             ],
             [
              0.4444444444444444,
              "#bd3786"
             ],
             [
              0.5555555555555556,
              "#d8576b"
             ],
             [
              0.6666666666666666,
              "#ed7953"
             ],
             [
              0.7777777777777778,
              "#fb9f3a"
             ],
             [
              0.8888888888888888,
              "#fdca26"
             ],
             [
              1,
              "#f0f921"
             ]
            ],
            "type": "histogram2d"
           }
          ],
          "histogram2dcontour": [
           {
            "colorbar": {
             "outlinewidth": 0,
             "ticks": ""
            },
            "colorscale": [
             [
              0,
              "#0d0887"
             ],
             [
              0.1111111111111111,
              "#46039f"
             ],
             [
              0.2222222222222222,
              "#7201a8"
             ],
             [
              0.3333333333333333,
              "#9c179e"
             ],
             [
              0.4444444444444444,
              "#bd3786"
             ],
             [
              0.5555555555555556,
              "#d8576b"
             ],
             [
              0.6666666666666666,
              "#ed7953"
             ],
             [
              0.7777777777777778,
              "#fb9f3a"
             ],
             [
              0.8888888888888888,
              "#fdca26"
             ],
             [
              1,
              "#f0f921"
             ]
            ],
            "type": "histogram2dcontour"
           }
          ],
          "mesh3d": [
           {
            "colorbar": {
             "outlinewidth": 0,
             "ticks": ""
            },
            "type": "mesh3d"
           }
          ],
          "parcoords": [
           {
            "line": {
             "colorbar": {
              "outlinewidth": 0,
              "ticks": ""
             }
            },
            "type": "parcoords"
           }
          ],
          "pie": [
           {
            "automargin": true,
            "type": "pie"
           }
          ],
          "scatter": [
           {
            "fillpattern": {
             "fillmode": "overlay",
             "size": 10,
             "solidity": 0.2
            },
            "type": "scatter"
           }
          ],
          "scatter3d": [
           {
            "line": {
             "colorbar": {
              "outlinewidth": 0,
              "ticks": ""
             }
            },
            "marker": {
             "colorbar": {
              "outlinewidth": 0,
              "ticks": ""
             }
            },
            "type": "scatter3d"
           }
          ],
          "scattercarpet": [
           {
            "marker": {
             "colorbar": {
              "outlinewidth": 0,
              "ticks": ""
             }
            },
            "type": "scattercarpet"
           }
          ],
          "scattergeo": [
           {
            "marker": {
             "colorbar": {
              "outlinewidth": 0,
              "ticks": ""
             }
            },
            "type": "scattergeo"
           }
          ],
          "scattergl": [
           {
            "marker": {
             "colorbar": {
              "outlinewidth": 0,
              "ticks": ""
             }
            },
            "type": "scattergl"
           }
          ],
          "scattermapbox": [
           {
            "marker": {
             "colorbar": {
              "outlinewidth": 0,
              "ticks": ""
             }
            },
            "type": "scattermapbox"
           }
          ],
          "scatterpolar": [
           {
            "marker": {
             "colorbar": {
              "outlinewidth": 0,
              "ticks": ""
             }
            },
            "type": "scatterpolar"
           }
          ],
          "scatterpolargl": [
           {
            "marker": {
             "colorbar": {
              "outlinewidth": 0,
              "ticks": ""
             }
            },
            "type": "scatterpolargl"
           }
          ],
          "scatterternary": [
           {
            "marker": {
             "colorbar": {
              "outlinewidth": 0,
              "ticks": ""
             }
            },
            "type": "scatterternary"
           }
          ],
          "surface": [
           {
            "colorbar": {
             "outlinewidth": 0,
             "ticks": ""
            },
            "colorscale": [
             [
              0,
              "#0d0887"
             ],
             [
              0.1111111111111111,
              "#46039f"
             ],
             [
              0.2222222222222222,
              "#7201a8"
             ],
             [
              0.3333333333333333,
              "#9c179e"
             ],
             [
              0.4444444444444444,
              "#bd3786"
             ],
             [
              0.5555555555555556,
              "#d8576b"
             ],
             [
              0.6666666666666666,
              "#ed7953"
             ],
             [
              0.7777777777777778,
              "#fb9f3a"
             ],
             [
              0.8888888888888888,
              "#fdca26"
             ],
             [
              1,
              "#f0f921"
             ]
            ],
            "type": "surface"
           }
          ],
          "table": [
           {
            "cells": {
             "fill": {
              "color": "#EBF0F8"
             },
             "line": {
              "color": "white"
             }
            },
            "header": {
             "fill": {
              "color": "#C8D4E3"
             },
             "line": {
              "color": "white"
             }
            },
            "type": "table"
           }
          ]
         },
         "layout": {
          "annotationdefaults": {
           "arrowcolor": "#2a3f5f",
           "arrowhead": 0,
           "arrowwidth": 1
          },
          "autotypenumbers": "strict",
          "coloraxis": {
           "colorbar": {
            "outlinewidth": 0,
            "ticks": ""
           }
          },
          "colorscale": {
           "diverging": [
            [
             0,
             "#8e0152"
            ],
            [
             0.1,
             "#c51b7d"
            ],
            [
             0.2,
             "#de77ae"
            ],
            [
             0.3,
             "#f1b6da"
            ],
            [
             0.4,
             "#fde0ef"
            ],
            [
             0.5,
             "#f7f7f7"
            ],
            [
             0.6,
             "#e6f5d0"
            ],
            [
             0.7,
             "#b8e186"
            ],
            [
             0.8,
             "#7fbc41"
            ],
            [
             0.9,
             "#4d9221"
            ],
            [
             1,
             "#276419"
            ]
           ],
           "sequential": [
            [
             0,
             "#0d0887"
            ],
            [
             0.1111111111111111,
             "#46039f"
            ],
            [
             0.2222222222222222,
             "#7201a8"
            ],
            [
             0.3333333333333333,
             "#9c179e"
            ],
            [
             0.4444444444444444,
             "#bd3786"
            ],
            [
             0.5555555555555556,
             "#d8576b"
            ],
            [
             0.6666666666666666,
             "#ed7953"
            ],
            [
             0.7777777777777778,
             "#fb9f3a"
            ],
            [
             0.8888888888888888,
             "#fdca26"
            ],
            [
             1,
             "#f0f921"
            ]
           ],
           "sequentialminus": [
            [
             0,
             "#0d0887"
            ],
            [
             0.1111111111111111,
             "#46039f"
            ],
            [
             0.2222222222222222,
             "#7201a8"
            ],
            [
             0.3333333333333333,
             "#9c179e"
            ],
            [
             0.4444444444444444,
             "#bd3786"
            ],
            [
             0.5555555555555556,
             "#d8576b"
            ],
            [
             0.6666666666666666,
             "#ed7953"
            ],
            [
             0.7777777777777778,
             "#fb9f3a"
            ],
            [
             0.8888888888888888,
             "#fdca26"
            ],
            [
             1,
             "#f0f921"
            ]
           ]
          },
          "colorway": [
           "#636efa",
           "#EF553B",
           "#00cc96",
           "#ab63fa",
           "#FFA15A",
           "#19d3f3",
           "#FF6692",
           "#B6E880",
           "#FF97FF",
           "#FECB52"
          ],
          "font": {
           "color": "#2a3f5f"
          },
          "geo": {
           "bgcolor": "white",
           "lakecolor": "white",
           "landcolor": "#E5ECF6",
           "showlakes": true,
           "showland": true,
           "subunitcolor": "white"
          },
          "hoverlabel": {
           "align": "left"
          },
          "hovermode": "closest",
          "mapbox": {
           "style": "light"
          },
          "paper_bgcolor": "white",
          "plot_bgcolor": "#E5ECF6",
          "polar": {
           "angularaxis": {
            "gridcolor": "white",
            "linecolor": "white",
            "ticks": ""
           },
           "bgcolor": "#E5ECF6",
           "radialaxis": {
            "gridcolor": "white",
            "linecolor": "white",
            "ticks": ""
           }
          },
          "scene": {
           "xaxis": {
            "backgroundcolor": "#E5ECF6",
            "gridcolor": "white",
            "gridwidth": 2,
            "linecolor": "white",
            "showbackground": true,
            "ticks": "",
            "zerolinecolor": "white"
           },
           "yaxis": {
            "backgroundcolor": "#E5ECF6",
            "gridcolor": "white",
            "gridwidth": 2,
            "linecolor": "white",
            "showbackground": true,
            "ticks": "",
            "zerolinecolor": "white"
           },
           "zaxis": {
            "backgroundcolor": "#E5ECF6",
            "gridcolor": "white",
            "gridwidth": 2,
            "linecolor": "white",
            "showbackground": true,
            "ticks": "",
            "zerolinecolor": "white"
           }
          },
          "shapedefaults": {
           "line": {
            "color": "#2a3f5f"
           }
          },
          "ternary": {
           "aaxis": {
            "gridcolor": "white",
            "linecolor": "white",
            "ticks": ""
           },
           "baxis": {
            "gridcolor": "white",
            "linecolor": "white",
            "ticks": ""
           },
           "bgcolor": "#E5ECF6",
           "caxis": {
            "gridcolor": "white",
            "linecolor": "white",
            "ticks": ""
           }
          },
          "title": {
           "x": 0.05
          },
          "xaxis": {
           "automargin": true,
           "gridcolor": "white",
           "linecolor": "white",
           "ticks": "",
           "title": {
            "standoff": 15
           },
           "zerolinecolor": "white",
           "zerolinewidth": 2
          },
          "yaxis": {
           "automargin": true,
           "gridcolor": "white",
           "linecolor": "white",
           "ticks": "",
           "title": {
            "standoff": 15
           },
           "zerolinecolor": "white",
           "zerolinewidth": 2
          }
         }
        },
        "updatemenus": [
         {
          "buttons": [
           {
            "args": [
             null,
             {
              "frame": {
               "duration": 500,
               "redraw": true
              },
              "fromcurrent": true,
              "mode": "immediate",
              "transition": {
               "duration": 500,
               "easing": "linear"
              }
             }
            ],
            "label": "&#9654;",
            "method": "animate"
           },
           {
            "args": [
             [
              null
             ],
             {
              "frame": {
               "duration": 0,
               "redraw": true
              },
              "fromcurrent": true,
              "mode": "immediate",
              "transition": {
               "duration": 0,
               "easing": "linear"
              }
             }
            ],
            "label": "&#9724;",
            "method": "animate"
           }
          ],
          "direction": "left",
          "pad": {
           "r": 10,
           "t": 70
          },
          "showactive": false,
          "type": "buttons",
          "x": 0.1,
          "xanchor": "right",
          "y": 0,
          "yanchor": "top"
         }
        ]
       }
      },
      "text/html": [
       "<div>                            <div id=\"4a2e70da-ed1e-4dd7-85fa-84e18843f46a\" class=\"plotly-graph-div\" style=\"height:525px; width:100%;\"></div>            <script type=\"text/javascript\">                require([\"plotly\"], function(Plotly) {                    window.PLOTLYENV=window.PLOTLYENV || {};                                    if (document.getElementById(\"4a2e70da-ed1e-4dd7-85fa-84e18843f46a\")) {                    Plotly.newPlot(                        \"4a2e70da-ed1e-4dd7-85fa-84e18843f46a\",                        [{\"coloraxis\":\"coloraxis\",\"geo\":\"geo\",\"hovertemplate\":\"<b>%{hovertext}</b><br><br>Year=1995<br>Code=%{location}<br>Gender Inequality Index(%)=%{z}<extra></extra>\",\"hovertext\":[\"Thailand\",\"Colombia\",\"Maldives\",\"Rwanda\",\"Sri Lanka\",\"Belgium\",\"Turkey\",\"Mali\",\"Hungary\",\"Uruguay\",\"Belize\",\"Iceland\",\"Malawi\",\"Spain\",\"Luxembourg\",\"Malaysia\",\"Chile\",\"Venezuela\",\"Malta\",\"Germany\",\"Mexico\",\"Romania\",\"Vietnam\",\"Ghana\",\"Bangladesh\",\"Sudan\",\"Costa Rica\",\"Mauritius\",\"Tunisia\",\"Mauritania\",\"Slovakia\",\"Barbados\",\"Guatemala\",\"Greece\",\"India\",\"Benin\",\"Indonesia\",\"Kuwait\",\"Cambodia\",\"Slovenia\",\"Brazil\",\"Ukraine\",\"Kenya\",\"Israel\",\"Singapore\",\"Jamaica\",\"United Arab Emirates\",\"Bulgaria\",\"Kazakhstan\",\"Japan\",\"Jordan\",\"Italy\",\"Ireland\",\"Botswana\",\"Kyrgyzstan\",\"Lithuania\",\"Central African Republic\",\"Turkmenistan\",\"United States\",\"South Korea\",\"Iran\",\"Lesotho\",\"Senegal\",\"Canada\",\"Uganda\",\"Iraq\",\"Latvia\",\"South Africa\",\"Cameroon\",\"United Kingdom\",\"Sweden\",\"Moldova\",\"Russia\",\"New Zealand\",\"Syria\",\"Argentina\",\"Nepal\",\"Paraguay\",\"Tonga\",\"Cyprus\",\"Algeria\",\"Australia\",\"Zambia\",\"Denmark\",\"Tanzania\",\"Philippines\",\"Netherlands\",\"Finland\",\"Estonia\",\"Cote d'Ivoire\",\"Togo\",\"Fiji\",\"Armenia\",\"Czechia\",\"Tajikistan\",\"Zimbabwe\",\"Peru\",\"Nicaragua\",\"Eswatini\",\"France\",\"El Salvador\",\"Norway\",\"Switzerland\",\"Mongolia\",\"Ecuador\",\"Panama\",\"Georgia\",\"Trinidad and Tobago\",\"Croatia\",\"Portugal\",\"Morocco\",\"Gambia\",\"Mozambique\",\"Austria\",\"Pakistan\",\"Papua New Guinea\",\"Niger\",\"Egypt\",\"Gabon\",\"Namibia\",\"Dominican Republic\",\"Poland\",\"Cuba\"],\"locations\":[\"THA\",\"COL\",\"MDV\",\"RWA\",\"LKA\",\"BEL\",\"TUR\",\"MLI\",\"HUN\",\"URY\",\"BLZ\",\"ISL\",\"MWI\",\"ESP\",\"LUX\",\"MYS\",\"CHL\",\"VEN\",\"MLT\",\"DEU\",\"MEX\",\"ROU\",\"VNM\",\"GHA\",\"BGD\",\"SDN\",\"CRI\",\"MUS\",\"TUN\",\"MRT\",\"SVK\",\"BRB\",\"GTM\",\"GRC\",\"IND\",\"BEN\",\"IDN\",\"KWT\",\"KHM\",\"SVN\",\"BRA\",\"UKR\",\"KEN\",\"ISR\",\"SGP\",\"JAM\",\"ARE\",\"BGR\",\"KAZ\",\"JPN\",\"JOR\",\"ITA\",\"IRL\",\"BWA\",\"KGZ\",\"LTU\",\"CAF\",\"TKM\",\"USA\",\"KOR\",\"IRN\",\"LSO\",\"SEN\",\"CAN\",\"UGA\",\"IRQ\",\"LVA\",\"ZAF\",\"CMR\",\"GBR\",\"SWE\",\"MDA\",\"RUS\",\"NZL\",\"SYR\",\"ARG\",\"NPL\",\"PRY\",\"TON\",\"CYP\",\"DZA\",\"AUS\",\"ZMB\",\"DNK\",\"TZA\",\"PHL\",\"NLD\",\"FIN\",\"EST\",\"CIV\",\"TGO\",\"FJI\",\"ARM\",\"CZE\",\"TJK\",\"ZWE\",\"PER\",\"NIC\",\"SWZ\",\"FRA\",\"SLV\",\"NOR\",\"CHE\",\"MNG\",\"ECU\",\"PAN\",\"GEO\",\"TTO\",\"HRV\",\"PRT\",\"MAR\",\"GMB\",\"MOZ\",\"AUT\",\"PAK\",\"PNG\",\"NER\",\"EGY\",\"GAB\",\"NAM\",\"DOM\",\"POL\",\"CUB\"],\"name\":\"\",\"z\":[0.40000001,0.53799999,0.64899999,0.583,0.47099999,0.163,0.63099998,0.72600001,0.322,0.44,0.51499999,0.184,0.71899998,0.15700001,0.2,0.398,0.47600001,0.54699999,0.331,0.156,0.50800002,0.47400001,0.38299999,0.62599999,0.65600002,0.72000003,0.463,0.479,0.53200001,0.80900002,0.248,0.37200001,0.59600002,0.28299999,0.68699998,0.68199998,0.57800001,0.58499998,0.66000003,0.24699999,0.509,0.48199999,0.708,0.244,0.252,0.47999999,0.64300001,0.373,0.449,0.15899999,0.67400002,0.198,0.20200001,0.551,0.50999999,0.32499999,0.74000001,0.36899999,0.30500001,0.27700001,0.66500002,0.57700002,0.62800002,0.184,0.64999998,0.65799999,0.41,0.42399999,0.70300001,0.237,0.090000004,0.486,0.46700001,0.222,0.56900001,0.43099999,0.70999998,0.57499999,0.68400002,0.347,0.68000001,0.18000001,0.625,0.102,0.65200001,0.48300001,0.113,0.103,0.38600001,0.70899999,0.741,0.49900001,0.47099999,0.252,0.55800003,0.59799999,0.54699999,0.62900001,0.65200001,0.22,0.52600002,0.122,0.117,0.5,0.58899999,0.51700002,0.426,0.426,0.28,0.243,0.713,0.74699998,0.66399997,0.18700001,0.76599997,0.66799998,0.83099997,0.66500002,0.60600001,0.55500001,0.57099998,0.25799999,0.428],\"type\":\"choropleth\"}],                        {\"template\":{\"data\":{\"histogram2dcontour\":[{\"type\":\"histogram2dcontour\",\"colorbar\":{\"outlinewidth\":0,\"ticks\":\"\"},\"colorscale\":[[0.0,\"#0d0887\"],[0.1111111111111111,\"#46039f\"],[0.2222222222222222,\"#7201a8\"],[0.3333333333333333,\"#9c179e\"],[0.4444444444444444,\"#bd3786\"],[0.5555555555555556,\"#d8576b\"],[0.6666666666666666,\"#ed7953\"],[0.7777777777777778,\"#fb9f3a\"],[0.8888888888888888,\"#fdca26\"],[1.0,\"#f0f921\"]]}],\"choropleth\":[{\"type\":\"choropleth\",\"colorbar\":{\"outlinewidth\":0,\"ticks\":\"\"}}],\"histogram2d\":[{\"type\":\"histogram2d\",\"colorbar\":{\"outlinewidth\":0,\"ticks\":\"\"},\"colorscale\":[[0.0,\"#0d0887\"],[0.1111111111111111,\"#46039f\"],[0.2222222222222222,\"#7201a8\"],[0.3333333333333333,\"#9c179e\"],[0.4444444444444444,\"#bd3786\"],[0.5555555555555556,\"#d8576b\"],[0.6666666666666666,\"#ed7953\"],[0.7777777777777778,\"#fb9f3a\"],[0.8888888888888888,\"#fdca26\"],[1.0,\"#f0f921\"]]}],\"heatmap\":[{\"type\":\"heatmap\",\"colorbar\":{\"outlinewidth\":0,\"ticks\":\"\"},\"colorscale\":[[0.0,\"#0d0887\"],[0.1111111111111111,\"#46039f\"],[0.2222222222222222,\"#7201a8\"],[0.3333333333333333,\"#9c179e\"],[0.4444444444444444,\"#bd3786\"],[0.5555555555555556,\"#d8576b\"],[0.6666666666666666,\"#ed7953\"],[0.7777777777777778,\"#fb9f3a\"],[0.8888888888888888,\"#fdca26\"],[1.0,\"#f0f921\"]]}],\"heatmapgl\":[{\"type\":\"heatmapgl\",\"colorbar\":{\"outlinewidth\":0,\"ticks\":\"\"},\"colorscale\":[[0.0,\"#0d0887\"],[0.1111111111111111,\"#46039f\"],[0.2222222222222222,\"#7201a8\"],[0.3333333333333333,\"#9c179e\"],[0.4444444444444444,\"#bd3786\"],[0.5555555555555556,\"#d8576b\"],[0.6666666666666666,\"#ed7953\"],[0.7777777777777778,\"#fb9f3a\"],[0.8888888888888888,\"#fdca26\"],[1.0,\"#f0f921\"]]}],\"contourcarpet\":[{\"type\":\"contourcarpet\",\"colorbar\":{\"outlinewidth\":0,\"ticks\":\"\"}}],\"contour\":[{\"type\":\"contour\",\"colorbar\":{\"outlinewidth\":0,\"ticks\":\"\"},\"colorscale\":[[0.0,\"#0d0887\"],[0.1111111111111111,\"#46039f\"],[0.2222222222222222,\"#7201a8\"],[0.3333333333333333,\"#9c179e\"],[0.4444444444444444,\"#bd3786\"],[0.5555555555555556,\"#d8576b\"],[0.6666666666666666,\"#ed7953\"],[0.7777777777777778,\"#fb9f3a\"],[0.8888888888888888,\"#fdca26\"],[1.0,\"#f0f921\"]]}],\"surface\":[{\"type\":\"surface\",\"colorbar\":{\"outlinewidth\":0,\"ticks\":\"\"},\"colorscale\":[[0.0,\"#0d0887\"],[0.1111111111111111,\"#46039f\"],[0.2222222222222222,\"#7201a8\"],[0.3333333333333333,\"#9c179e\"],[0.4444444444444444,\"#bd3786\"],[0.5555555555555556,\"#d8576b\"],[0.6666666666666666,\"#ed7953\"],[0.7777777777777778,\"#fb9f3a\"],[0.8888888888888888,\"#fdca26\"],[1.0,\"#f0f921\"]]}],\"mesh3d\":[{\"type\":\"mesh3d\",\"colorbar\":{\"outlinewidth\":0,\"ticks\":\"\"}}],\"scatter\":[{\"fillpattern\":{\"fillmode\":\"overlay\",\"size\":10,\"solidity\":0.2},\"type\":\"scatter\"}],\"parcoords\":[{\"type\":\"parcoords\",\"line\":{\"colorbar\":{\"outlinewidth\":0,\"ticks\":\"\"}}}],\"scatterpolargl\":[{\"type\":\"scatterpolargl\",\"marker\":{\"colorbar\":{\"outlinewidth\":0,\"ticks\":\"\"}}}],\"bar\":[{\"error_x\":{\"color\":\"#2a3f5f\"},\"error_y\":{\"color\":\"#2a3f5f\"},\"marker\":{\"line\":{\"color\":\"#E5ECF6\",\"width\":0.5},\"pattern\":{\"fillmode\":\"overlay\",\"size\":10,\"solidity\":0.2}},\"type\":\"bar\"}],\"scattergeo\":[{\"type\":\"scattergeo\",\"marker\":{\"colorbar\":{\"outlinewidth\":0,\"ticks\":\"\"}}}],\"scatterpolar\":[{\"type\":\"scatterpolar\",\"marker\":{\"colorbar\":{\"outlinewidth\":0,\"ticks\":\"\"}}}],\"histogram\":[{\"marker\":{\"pattern\":{\"fillmode\":\"overlay\",\"size\":10,\"solidity\":0.2}},\"type\":\"histogram\"}],\"scattergl\":[{\"type\":\"scattergl\",\"marker\":{\"colorbar\":{\"outlinewidth\":0,\"ticks\":\"\"}}}],\"scatter3d\":[{\"type\":\"scatter3d\",\"line\":{\"colorbar\":{\"outlinewidth\":0,\"ticks\":\"\"}},\"marker\":{\"colorbar\":{\"outlinewidth\":0,\"ticks\":\"\"}}}],\"scattermapbox\":[{\"type\":\"scattermapbox\",\"marker\":{\"colorbar\":{\"outlinewidth\":0,\"ticks\":\"\"}}}],\"scatterternary\":[{\"type\":\"scatterternary\",\"marker\":{\"colorbar\":{\"outlinewidth\":0,\"ticks\":\"\"}}}],\"scattercarpet\":[{\"type\":\"scattercarpet\",\"marker\":{\"colorbar\":{\"outlinewidth\":0,\"ticks\":\"\"}}}],\"carpet\":[{\"aaxis\":{\"endlinecolor\":\"#2a3f5f\",\"gridcolor\":\"white\",\"linecolor\":\"white\",\"minorgridcolor\":\"white\",\"startlinecolor\":\"#2a3f5f\"},\"baxis\":{\"endlinecolor\":\"#2a3f5f\",\"gridcolor\":\"white\",\"linecolor\":\"white\",\"minorgridcolor\":\"white\",\"startlinecolor\":\"#2a3f5f\"},\"type\":\"carpet\"}],\"table\":[{\"cells\":{\"fill\":{\"color\":\"#EBF0F8\"},\"line\":{\"color\":\"white\"}},\"header\":{\"fill\":{\"color\":\"#C8D4E3\"},\"line\":{\"color\":\"white\"}},\"type\":\"table\"}],\"barpolar\":[{\"marker\":{\"line\":{\"color\":\"#E5ECF6\",\"width\":0.5},\"pattern\":{\"fillmode\":\"overlay\",\"size\":10,\"solidity\":0.2}},\"type\":\"barpolar\"}],\"pie\":[{\"automargin\":true,\"type\":\"pie\"}]},\"layout\":{\"autotypenumbers\":\"strict\",\"colorway\":[\"#636efa\",\"#EF553B\",\"#00cc96\",\"#ab63fa\",\"#FFA15A\",\"#19d3f3\",\"#FF6692\",\"#B6E880\",\"#FF97FF\",\"#FECB52\"],\"font\":{\"color\":\"#2a3f5f\"},\"hovermode\":\"closest\",\"hoverlabel\":{\"align\":\"left\"},\"paper_bgcolor\":\"white\",\"plot_bgcolor\":\"#E5ECF6\",\"polar\":{\"bgcolor\":\"#E5ECF6\",\"angularaxis\":{\"gridcolor\":\"white\",\"linecolor\":\"white\",\"ticks\":\"\"},\"radialaxis\":{\"gridcolor\":\"white\",\"linecolor\":\"white\",\"ticks\":\"\"}},\"ternary\":{\"bgcolor\":\"#E5ECF6\",\"aaxis\":{\"gridcolor\":\"white\",\"linecolor\":\"white\",\"ticks\":\"\"},\"baxis\":{\"gridcolor\":\"white\",\"linecolor\":\"white\",\"ticks\":\"\"},\"caxis\":{\"gridcolor\":\"white\",\"linecolor\":\"white\",\"ticks\":\"\"}},\"coloraxis\":{\"colorbar\":{\"outlinewidth\":0,\"ticks\":\"\"}},\"colorscale\":{\"sequential\":[[0.0,\"#0d0887\"],[0.1111111111111111,\"#46039f\"],[0.2222222222222222,\"#7201a8\"],[0.3333333333333333,\"#9c179e\"],[0.4444444444444444,\"#bd3786\"],[0.5555555555555556,\"#d8576b\"],[0.6666666666666666,\"#ed7953\"],[0.7777777777777778,\"#fb9f3a\"],[0.8888888888888888,\"#fdca26\"],[1.0,\"#f0f921\"]],\"sequentialminus\":[[0.0,\"#0d0887\"],[0.1111111111111111,\"#46039f\"],[0.2222222222222222,\"#7201a8\"],[0.3333333333333333,\"#9c179e\"],[0.4444444444444444,\"#bd3786\"],[0.5555555555555556,\"#d8576b\"],[0.6666666666666666,\"#ed7953\"],[0.7777777777777778,\"#fb9f3a\"],[0.8888888888888888,\"#fdca26\"],[1.0,\"#f0f921\"]],\"diverging\":[[0,\"#8e0152\"],[0.1,\"#c51b7d\"],[0.2,\"#de77ae\"],[0.3,\"#f1b6da\"],[0.4,\"#fde0ef\"],[0.5,\"#f7f7f7\"],[0.6,\"#e6f5d0\"],[0.7,\"#b8e186\"],[0.8,\"#7fbc41\"],[0.9,\"#4d9221\"],[1,\"#276419\"]]},\"xaxis\":{\"gridcolor\":\"white\",\"linecolor\":\"white\",\"ticks\":\"\",\"title\":{\"standoff\":15},\"zerolinecolor\":\"white\",\"automargin\":true,\"zerolinewidth\":2},\"yaxis\":{\"gridcolor\":\"white\",\"linecolor\":\"white\",\"ticks\":\"\",\"title\":{\"standoff\":15},\"zerolinecolor\":\"white\",\"automargin\":true,\"zerolinewidth\":2},\"scene\":{\"xaxis\":{\"backgroundcolor\":\"#E5ECF6\",\"gridcolor\":\"white\",\"linecolor\":\"white\",\"showbackground\":true,\"ticks\":\"\",\"zerolinecolor\":\"white\",\"gridwidth\":2},\"yaxis\":{\"backgroundcolor\":\"#E5ECF6\",\"gridcolor\":\"white\",\"linecolor\":\"white\",\"showbackground\":true,\"ticks\":\"\",\"zerolinecolor\":\"white\",\"gridwidth\":2},\"zaxis\":{\"backgroundcolor\":\"#E5ECF6\",\"gridcolor\":\"white\",\"linecolor\":\"white\",\"showbackground\":true,\"ticks\":\"\",\"zerolinecolor\":\"white\",\"gridwidth\":2}},\"shapedefaults\":{\"line\":{\"color\":\"#2a3f5f\"}},\"annotationdefaults\":{\"arrowcolor\":\"#2a3f5f\",\"arrowhead\":0,\"arrowwidth\":1},\"geo\":{\"bgcolor\":\"white\",\"landcolor\":\"#E5ECF6\",\"subunitcolor\":\"white\",\"showland\":true,\"showlakes\":true,\"lakecolor\":\"white\"},\"title\":{\"x\":0.05},\"mapbox\":{\"style\":\"light\"}}},\"geo\":{\"domain\":{\"x\":[0.0,1.0],\"y\":[0.0,1.0]},\"center\":{}},\"coloraxis\":{\"colorbar\":{\"title\":{\"text\":\"Gender Inequality Index(%)\"}},\"colorscale\":[[0.0,\"rgb(255,245,235)\"],[0.125,\"rgb(254,230,206)\"],[0.25,\"rgb(253,208,162)\"],[0.375,\"rgb(253,174,107)\"],[0.5,\"rgb(253,141,60)\"],[0.625,\"rgb(241,105,19)\"],[0.75,\"rgb(217,72,1)\"],[0.875,\"rgb(166,54,3)\"],[1.0,\"rgb(127,39,4)\"]]},\"legend\":{\"tracegroupgap\":0},\"margin\":{\"t\":60},\"updatemenus\":[{\"buttons\":[{\"args\":[null,{\"frame\":{\"duration\":500,\"redraw\":true},\"mode\":\"immediate\",\"fromcurrent\":true,\"transition\":{\"duration\":500,\"easing\":\"linear\"}}],\"label\":\"&#9654;\",\"method\":\"animate\"},{\"args\":[[null],{\"frame\":{\"duration\":0,\"redraw\":true},\"mode\":\"immediate\",\"fromcurrent\":true,\"transition\":{\"duration\":0,\"easing\":\"linear\"}}],\"label\":\"&#9724;\",\"method\":\"animate\"}],\"direction\":\"left\",\"pad\":{\"r\":10,\"t\":70},\"showactive\":false,\"type\":\"buttons\",\"x\":0.1,\"xanchor\":\"right\",\"y\":0,\"yanchor\":\"top\"}],\"sliders\":[{\"active\":0,\"currentvalue\":{\"prefix\":\"Year=\"},\"len\":0.9,\"pad\":{\"b\":10,\"t\":60},\"steps\":[{\"args\":[[\"1995\"],{\"frame\":{\"duration\":0,\"redraw\":true},\"mode\":\"immediate\",\"fromcurrent\":true,\"transition\":{\"duration\":0,\"easing\":\"linear\"}}],\"label\":\"1995\",\"method\":\"animate\"},{\"args\":[[\"2000\"],{\"frame\":{\"duration\":0,\"redraw\":true},\"mode\":\"immediate\",\"fromcurrent\":true,\"transition\":{\"duration\":0,\"easing\":\"linear\"}}],\"label\":\"2000\",\"method\":\"animate\"},{\"args\":[[\"2005\"],{\"frame\":{\"duration\":0,\"redraw\":true},\"mode\":\"immediate\",\"fromcurrent\":true,\"transition\":{\"duration\":0,\"easing\":\"linear\"}}],\"label\":\"2005\",\"method\":\"animate\"},{\"args\":[[\"2010\"],{\"frame\":{\"duration\":0,\"redraw\":true},\"mode\":\"immediate\",\"fromcurrent\":true,\"transition\":{\"duration\":0,\"easing\":\"linear\"}}],\"label\":\"2010\",\"method\":\"animate\"},{\"args\":[[\"2011\"],{\"frame\":{\"duration\":0,\"redraw\":true},\"mode\":\"immediate\",\"fromcurrent\":true,\"transition\":{\"duration\":0,\"easing\":\"linear\"}}],\"label\":\"2011\",\"method\":\"animate\"},{\"args\":[[\"2012\"],{\"frame\":{\"duration\":0,\"redraw\":true},\"mode\":\"immediate\",\"fromcurrent\":true,\"transition\":{\"duration\":0,\"easing\":\"linear\"}}],\"label\":\"2012\",\"method\":\"animate\"},{\"args\":[[\"2013\"],{\"frame\":{\"duration\":0,\"redraw\":true},\"mode\":\"immediate\",\"fromcurrent\":true,\"transition\":{\"duration\":0,\"easing\":\"linear\"}}],\"label\":\"2013\",\"method\":\"animate\"},{\"args\":[[\"2014\"],{\"frame\":{\"duration\":0,\"redraw\":true},\"mode\":\"immediate\",\"fromcurrent\":true,\"transition\":{\"duration\":0,\"easing\":\"linear\"}}],\"label\":\"2014\",\"method\":\"animate\"},{\"args\":[[\"2015\"],{\"frame\":{\"duration\":0,\"redraw\":true},\"mode\":\"immediate\",\"fromcurrent\":true,\"transition\":{\"duration\":0,\"easing\":\"linear\"}}],\"label\":\"2015\",\"method\":\"animate\"}],\"x\":0.1,\"xanchor\":\"left\",\"y\":0,\"yanchor\":\"top\"}]},                        {\"responsive\": true}                    ).then(function(){\n",
       "                            Plotly.addFrames('4a2e70da-ed1e-4dd7-85fa-84e18843f46a', [{\"data\":[{\"coloraxis\":\"coloraxis\",\"geo\":\"geo\",\"hovertemplate\":\"<b>%{hovertext}</b><br><br>Year=1995<br>Code=%{location}<br>Gender Inequality Index(%)=%{z}<extra></extra>\",\"hovertext\":[\"Thailand\",\"Colombia\",\"Maldives\",\"Rwanda\",\"Sri Lanka\",\"Belgium\",\"Turkey\",\"Mali\",\"Hungary\",\"Uruguay\",\"Belize\",\"Iceland\",\"Malawi\",\"Spain\",\"Luxembourg\",\"Malaysia\",\"Chile\",\"Venezuela\",\"Malta\",\"Germany\",\"Mexico\",\"Romania\",\"Vietnam\",\"Ghana\",\"Bangladesh\",\"Sudan\",\"Costa Rica\",\"Mauritius\",\"Tunisia\",\"Mauritania\",\"Slovakia\",\"Barbados\",\"Guatemala\",\"Greece\",\"India\",\"Benin\",\"Indonesia\",\"Kuwait\",\"Cambodia\",\"Slovenia\",\"Brazil\",\"Ukraine\",\"Kenya\",\"Israel\",\"Singapore\",\"Jamaica\",\"United Arab Emirates\",\"Bulgaria\",\"Kazakhstan\",\"Japan\",\"Jordan\",\"Italy\",\"Ireland\",\"Botswana\",\"Kyrgyzstan\",\"Lithuania\",\"Central African Republic\",\"Turkmenistan\",\"United States\",\"South Korea\",\"Iran\",\"Lesotho\",\"Senegal\",\"Canada\",\"Uganda\",\"Iraq\",\"Latvia\",\"South Africa\",\"Cameroon\",\"United Kingdom\",\"Sweden\",\"Moldova\",\"Russia\",\"New Zealand\",\"Syria\",\"Argentina\",\"Nepal\",\"Paraguay\",\"Tonga\",\"Cyprus\",\"Algeria\",\"Australia\",\"Zambia\",\"Denmark\",\"Tanzania\",\"Philippines\",\"Netherlands\",\"Finland\",\"Estonia\",\"Cote d'Ivoire\",\"Togo\",\"Fiji\",\"Armenia\",\"Czechia\",\"Tajikistan\",\"Zimbabwe\",\"Peru\",\"Nicaragua\",\"Eswatini\",\"France\",\"El Salvador\",\"Norway\",\"Switzerland\",\"Mongolia\",\"Ecuador\",\"Panama\",\"Georgia\",\"Trinidad and Tobago\",\"Croatia\",\"Portugal\",\"Morocco\",\"Gambia\",\"Mozambique\",\"Austria\",\"Pakistan\",\"Papua New Guinea\",\"Niger\",\"Egypt\",\"Gabon\",\"Namibia\",\"Dominican Republic\",\"Poland\",\"Cuba\"],\"locations\":[\"THA\",\"COL\",\"MDV\",\"RWA\",\"LKA\",\"BEL\",\"TUR\",\"MLI\",\"HUN\",\"URY\",\"BLZ\",\"ISL\",\"MWI\",\"ESP\",\"LUX\",\"MYS\",\"CHL\",\"VEN\",\"MLT\",\"DEU\",\"MEX\",\"ROU\",\"VNM\",\"GHA\",\"BGD\",\"SDN\",\"CRI\",\"MUS\",\"TUN\",\"MRT\",\"SVK\",\"BRB\",\"GTM\",\"GRC\",\"IND\",\"BEN\",\"IDN\",\"KWT\",\"KHM\",\"SVN\",\"BRA\",\"UKR\",\"KEN\",\"ISR\",\"SGP\",\"JAM\",\"ARE\",\"BGR\",\"KAZ\",\"JPN\",\"JOR\",\"ITA\",\"IRL\",\"BWA\",\"KGZ\",\"LTU\",\"CAF\",\"TKM\",\"USA\",\"KOR\",\"IRN\",\"LSO\",\"SEN\",\"CAN\",\"UGA\",\"IRQ\",\"LVA\",\"ZAF\",\"CMR\",\"GBR\",\"SWE\",\"MDA\",\"RUS\",\"NZL\",\"SYR\",\"ARG\",\"NPL\",\"PRY\",\"TON\",\"CYP\",\"DZA\",\"AUS\",\"ZMB\",\"DNK\",\"TZA\",\"PHL\",\"NLD\",\"FIN\",\"EST\",\"CIV\",\"TGO\",\"FJI\",\"ARM\",\"CZE\",\"TJK\",\"ZWE\",\"PER\",\"NIC\",\"SWZ\",\"FRA\",\"SLV\",\"NOR\",\"CHE\",\"MNG\",\"ECU\",\"PAN\",\"GEO\",\"TTO\",\"HRV\",\"PRT\",\"MAR\",\"GMB\",\"MOZ\",\"AUT\",\"PAK\",\"PNG\",\"NER\",\"EGY\",\"GAB\",\"NAM\",\"DOM\",\"POL\",\"CUB\"],\"name\":\"\",\"z\":[0.40000001,0.53799999,0.64899999,0.583,0.47099999,0.163,0.63099998,0.72600001,0.322,0.44,0.51499999,0.184,0.71899998,0.15700001,0.2,0.398,0.47600001,0.54699999,0.331,0.156,0.50800002,0.47400001,0.38299999,0.62599999,0.65600002,0.72000003,0.463,0.479,0.53200001,0.80900002,0.248,0.37200001,0.59600002,0.28299999,0.68699998,0.68199998,0.57800001,0.58499998,0.66000003,0.24699999,0.509,0.48199999,0.708,0.244,0.252,0.47999999,0.64300001,0.373,0.449,0.15899999,0.67400002,0.198,0.20200001,0.551,0.50999999,0.32499999,0.74000001,0.36899999,0.30500001,0.27700001,0.66500002,0.57700002,0.62800002,0.184,0.64999998,0.65799999,0.41,0.42399999,0.70300001,0.237,0.090000004,0.486,0.46700001,0.222,0.56900001,0.43099999,0.70999998,0.57499999,0.68400002,0.347,0.68000001,0.18000001,0.625,0.102,0.65200001,0.48300001,0.113,0.103,0.38600001,0.70899999,0.741,0.49900001,0.47099999,0.252,0.55800003,0.59799999,0.54699999,0.62900001,0.65200001,0.22,0.52600002,0.122,0.117,0.5,0.58899999,0.51700002,0.426,0.426,0.28,0.243,0.713,0.74699998,0.66399997,0.18700001,0.76599997,0.66799998,0.83099997,0.66500002,0.60600001,0.55500001,0.57099998,0.25799999,0.428],\"type\":\"choropleth\"}],\"name\":\"1995\"},{\"data\":[{\"coloraxis\":\"coloraxis\",\"geo\":\"geo\",\"hovertemplate\":\"<b>%{hovertext}</b><br><br>Year=2000<br>Code=%{location}<br>Gender Inequality Index(%)=%{z}<extra></extra>\",\"hovertext\":[\"Ireland\",\"Iraq\",\"South Africa\",\"El Salvador\",\"Ukraine\",\"Cameroon\",\"Slovakia\",\"Estonia\",\"Jamaica\",\"Denmark\",\"Ecuador\",\"Cambodia\",\"Israel\",\"Burundi\",\"Italy\",\"Dominican Republic\",\"Egypt\",\"Sweden\",\"Uganda\",\"Cuba\",\"Colombia\",\"Guyana\",\"Congo\",\"Guatemala\",\"Gabon\",\"France\",\"Switzerland\",\"Tunisia\",\"Gambia\",\"Croatia\",\"Costa Rica\",\"Georgia\",\"Germany\",\"Greece\",\"Togo\",\"Honduras\",\"Hungary\",\"Iran\",\"Eswatini\",\"Tajikistan\",\"South Korea\",\"Central African Republic\",\"Indonesia\",\"Tonga\",\"Syria\",\"Finland\",\"Iceland\",\"Cyprus\",\"Spain\",\"Turkey\",\"China\",\"Chile\",\"Japan\",\"United Arab Emirates\",\"Jordan\",\"Australia\",\"Maldives\",\"Rwanda\",\"Belgium\",\"Zambia\",\"Netherlands\",\"Malaysia\",\"Malawi\",\"Uruguay\",\"Belize\",\"Samoa\",\"Armenia\",\"New Zealand\",\"Benin\",\"Lithuania\",\"Nepal\",\"Philippines\",\"Mali\",\"Namibia\",\"Mongolia\",\"Portugal\",\"Morocco\",\"Moldova\",\"Vietnam\",\"Yemen\",\"Mexico\",\"Nicaragua\",\"Mozambique\",\"Bangladesh\",\"Mauritius\",\"Mauritania\",\"Russia\",\"Austria\",\"Barbados\",\"Malta\",\"Poland\",\"Argentina\",\"Luxembourg\",\"Liberia\",\"Laos\",\"Zimbabwe\",\"Kyrgyzstan\",\"Botswana\",\"Sierra Leone\",\"Norway\",\"Kuwait\",\"United Kingdom\",\"Kenya\",\"Singapore\",\"Albania\",\"Kazakhstan\",\"Papua New Guinea\",\"Thailand\",\"Bulgaria\",\"Panama\",\"Brazil\",\"Algeria\",\"Bahamas\",\"Senegal\",\"Niger\",\"Paraguay\",\"Lesotho\",\"Bolivia\",\"Latvia\"],\"locations\":[\"IRL\",\"IRQ\",\"ZAF\",\"SLV\",\"UKR\",\"CMR\",\"SVK\",\"EST\",\"JAM\",\"DNK\",\"ECU\",\"KHM\",\"ISR\",\"BDI\",\"ITA\",\"DOM\",\"EGY\",\"SWE\",\"UGA\",\"CUB\",\"COL\",\"GUY\",\"COG\",\"GTM\",\"GAB\",\"FRA\",\"CHE\",\"TUN\",\"GMB\",\"HRV\",\"CRI\",\"GEO\",\"DEU\",\"GRC\",\"TGO\",\"HND\",\"HUN\",\"IRN\",\"SWZ\",\"TJK\",\"KOR\",\"CAF\",\"IDN\",\"TON\",\"SYR\",\"FIN\",\"ISL\",\"CYP\",\"ESP\",\"TUR\",\"CHN\",\"CHL\",\"JPN\",\"ARE\",\"JOR\",\"AUS\",\"MDV\",\"RWA\",\"BEL\",\"ZMB\",\"NLD\",\"MYS\",\"MWI\",\"URY\",\"BLZ\",\"WSM\",\"ARM\",\"NZL\",\"BEN\",\"LTU\",\"NPL\",\"PHL\",\"MLI\",\"NAM\",\"MNG\",\"PRT\",\"MAR\",\"MDA\",\"VNM\",\"YEM\",\"MEX\",\"NIC\",\"MOZ\",\"BGD\",\"MUS\",\"MRT\",\"RUS\",\"AUT\",\"BRB\",\"MLT\",\"POL\",\"ARG\",\"LUX\",\"LBR\",\"LAO\",\"ZWE\",\"KGZ\",\"BWA\",\"SLE\",\"NOR\",\"KWT\",\"GBR\",\"KEN\",\"SGP\",\"ALB\",\"KAZ\",\"PNG\",\"THA\",\"BGR\",\"PAN\",\"BRA\",\"DZA\",\"BHS\",\"SEN\",\"NER\",\"PRY\",\"LSO\",\"BOL\",\"LVA\"],\"name\":\"\",\"z\":[0.20100001,0.62,0.419,0.51800001,0.384,0.69300002,0.219,0.28400001,0.46900001,0.075999998,0.491,0.59899998,0.197,0.59399998,0.178,0.48500001,0.634,0.061999999,0.64300001,0.39300001,0.49700001,0.54000002,0.62300003,0.59899998,0.59500003,0.192,0.093999997,0.42699999,0.73900002,0.206,0.428,0.42199999,0.13,0.221,0.66500002,0.54699999,0.28799999,0.60100001,0.66100001,0.41,0.191,0.70599997,0.56400001,0.671,0.55000001,0.085000001,0.149,0.25799999,0.119,0.58899999,0.25400001,0.43399999,0.13500001,0.60900003,0.63200003,0.16,0.54100001,0.55199999,0.122,0.62599999,0.096000001,0.34,0.69199997,0.389,0.48100001,0.49599999,0.46700001,0.19,0.67799997,0.28099999,0.67000002,0.479,0.72500002,0.546,0.44999999,0.208,0.69599998,0.42500001,0.347,0.81400001,0.493,0.602,0.64499998,0.63,0.45199999,0.75599998,0.42300001,0.15099999,0.35600001,0.32100001,0.205,0.42199999,0.175,0.68900001,0.57700002,0.63099998,0.47600001,0.52100003,0.69499999,0.109,0.58499998,0.215,0.69599998,0.27200001,0.38100001,0.405,0.66299999,0.39700001,0.336,0.50700003,0.50300002,0.62699997,0.38499999,0.63200003,0.81800002,0.55699998,0.59500003,0.59100002,0.27599999],\"type\":\"choropleth\"}],\"name\":\"2000\"},{\"data\":[{\"coloraxis\":\"coloraxis\",\"geo\":\"geo\",\"hovertemplate\":\"<b>%{hovertext}</b><br><br>Year=2005<br>Code=%{location}<br>Gender Inequality Index(%)=%{z}<extra></extra>\",\"hovertext\":[\"Morocco\",\"Tanzania\",\"Estonia\",\"Pakistan\",\"Eswatini\",\"Peru\",\"Gabon\",\"Mozambique\",\"Poland\",\"New Zealand\",\"Ethiopia\",\"Tajikistan\",\"Ecuador\",\"Netherlands\",\"Papua New Guinea\",\"Switzerland\",\"Oman\",\"Egypt\",\"France\",\"Norway\",\"Namibia\",\"Philippines\",\"Nicaragua\",\"Niger\",\"Nepal\",\"Paraguay\",\"Fiji\",\"Finland\",\"Syria\",\"Portugal\",\"El Salvador\",\"Malta\",\"Mongolia\",\"India\",\"South Korea\",\"Libya\",\"Liberia\",\"Indonesia\",\"Saudi Arabia\",\"Lesotho\",\"Iran\",\"Senegal\",\"Latvia\",\"Laos\",\"South Africa\",\"Kyrgyzstan\",\"Ireland\",\"Sierra Leone\",\"Kuwait\",\"Israel\",\"Slovenia\",\"Kenya\",\"Kazakhstan\",\"Italy\",\"Singapore\",\"Jamaica\",\"Slovakia\",\"Jordan\",\"Lithuania\",\"Gambia\",\"Samoa\",\"Iceland\",\"Georgia\",\"Sweden\",\"Moldova\",\"Mexico\",\"Germany\",\"Romania\",\"Ghana\",\"Panama\",\"Mauritius\",\"Japan\",\"Greece\",\"Russia\",\"Guatemala\",\"Sudan\",\"Mali\",\"Guyana\",\"Haiti\",\"Sri Lanka\",\"Maldives\",\"Rwanda\",\"Honduras\",\"Malaysia\",\"Hungary\",\"Malawi\",\"Spain\",\"Luxembourg\",\"Afghanistan\",\"Suriname\",\"Barbados\",\"Yemen\",\"Azerbaijan\",\"Burkina Faso\",\"Trinidad and Tobago\",\"Croatia\",\"Bulgaria\",\"United Arab Emirates\",\"Cote d'Ivoire\",\"Algeria\",\"Cuba\",\"Botswana\",\"Bahamas\",\"Tonga\",\"United Kingdom\",\"Cyprus\",\"Bolivia\",\"Zimbabwe\",\"Vietnam\",\"Ukraine\",\"Cambodia\",\"China\",\"Colombia\",\"Turkey\",\"Zambia\",\"Armenia\",\"Chile\",\"Australia\",\"Burundi\",\"Central African Republic\",\"Tunisia\",\"Congo\",\"Uganda\",\"Austria\",\"Cameroon\",\"Argentina\",\"Costa Rica\",\"Canada\",\"Czechia\",\"Brazil\",\"Democratic Republic of Congo\",\"Bangladesh\",\"United States\",\"Uruguay\",\"Albania\",\"Belgium\",\"Benin\",\"Thailand\",\"Togo\",\"Dominican Republic\",\"Bahrain\",\"Belize\",\"Venezuela\"],\"locations\":[\"MAR\",\"TZA\",\"EST\",\"PAK\",\"SWZ\",\"PER\",\"GAB\",\"MOZ\",\"POL\",\"NZL\",\"ETH\",\"TJK\",\"ECU\",\"NLD\",\"PNG\",\"CHE\",\"OMN\",\"EGY\",\"FRA\",\"NOR\",\"NAM\",\"PHL\",\"NIC\",\"NER\",\"NPL\",\"PRY\",\"FJI\",\"FIN\",\"SYR\",\"PRT\",\"SLV\",\"MLT\",\"MNG\",\"IND\",\"KOR\",\"LBY\",\"LBR\",\"IDN\",\"SAU\",\"LSO\",\"IRN\",\"SEN\",\"LVA\",\"LAO\",\"ZAF\",\"KGZ\",\"IRL\",\"SLE\",\"KWT\",\"ISR\",\"SVN\",\"KEN\",\"KAZ\",\"ITA\",\"SGP\",\"JAM\",\"SVK\",\"JOR\",\"LTU\",\"GMB\",\"WSM\",\"ISL\",\"GEO\",\"SWE\",\"MDA\",\"MEX\",\"DEU\",\"ROU\",\"GHA\",\"PAN\",\"MUS\",\"JPN\",\"GRC\",\"RUS\",\"GTM\",\"SDN\",\"MLI\",\"GUY\",\"HTI\",\"LKA\",\"MDV\",\"RWA\",\"HND\",\"MYS\",\"HUN\",\"MWI\",\"ESP\",\"LUX\",\"AFG\",\"SUR\",\"BRB\",\"YEM\",\"AZE\",\"BFA\",\"TTO\",\"HRV\",\"BGR\",\"ARE\",\"CIV\",\"DZA\",\"CUB\",\"BWA\",\"BHS\",\"TON\",\"GBR\",\"CYP\",\"BOL\",\"ZWE\",\"VNM\",\"UKR\",\"KHM\",\"CHN\",\"COL\",\"TUR\",\"ZMB\",\"ARM\",\"CHL\",\"AUS\",\"BDI\",\"CAF\",\"TUN\",\"COG\",\"UGA\",\"AUT\",\"CMR\",\"ARG\",\"CRI\",\"CAN\",\"CZE\",\"BRA\",\"COD\",\"BGD\",\"USA\",\"URY\",\"ALB\",\"BEL\",\"BEN\",\"THA\",\"TGO\",\"DOM\",\"BHR\",\"BLZ\",\"VEN\"],\"name\":\"\",\"z\":[0.57999998,0.59200001,0.214,0.59500003,0.61900002,0.456,0.574,0.63800001,0.164,0.18799999,0.611,0.345,0.454,0.082000002,0.68199998,0.072999999,0.38699999,0.58099997,0.156,0.085000001,0.52499998,0.46700001,0.54100001,0.73000002,0.653,0.537,0.40900001,0.088,0.54000002,0.182,0.486,0.30899999,0.41,0.61900002,0.107,0.26800001,0.676,0.53299999,0.67199999,0.58499998,0.51200002,0.62900001,0.21699999,0.542,0.426,0.67699999,0.192,0.66900003,0.37400001,0.17299999,0.139,0.65399998,0.36000001,0.175,0.167,0.46599999,0.189,0.55699998,0.185,0.64700001,0.493,0.125,0.38800001,0.052999999,0.292,0.43099999,0.117,0.35499999,0.57300001,0.472,0.36899999,0.148,0.17900001,0.359,0.56999999,0.66500002,0.72299999,0.52700001,0.579,0.44499999,0.41999999,0.484,0.51499999,0.324,0.25999999,0.65499997,0.118,0.156,0.73900002,0.49200001,0.345,0.79100001,0.324,0.63599998,0.35299999,0.164,0.25099999,0.59100002,0.69099998,0.56099999,0.34299999,0.523,0.35800001,0.47600001,0.206,0.14,0.55900002,0.58899999,0.317,0.37,0.56099999,0.228,0.484,0.56400001,0.59299999,0.40599999,0.38600001,0.139,0.52700001,0.68400002,0.336,0.625,0.59200001,0.118,0.66100001,0.37400001,0.347,0.132,0.153,0.46900001,0.667,0.59100002,0.264,0.373,0.33199999,0.104,0.65600002,0.34799999,0.63300002,0.46900001,0.331,0.46399999,0.47],\"type\":\"choropleth\"}],\"name\":\"2005\"},{\"data\":[{\"coloraxis\":\"coloraxis\",\"geo\":\"geo\",\"hovertemplate\":\"<b>%{hovertext}</b><br><br>Year=2010<br>Code=%{location}<br>Gender Inequality Index(%)=%{z}<extra></extra>\",\"hovertext\":[\"Maldives\",\"Cameroon\",\"Spain\",\"Belgium\",\"Uganda\",\"Rwanda\",\"Malawi\",\"Philippines\",\"Ireland\",\"Austria\",\"Myanmar\",\"Israel\",\"Slovenia\",\"Hungary\",\"Burundi\",\"Italy\",\"Mozambique\",\"Russia\",\"China\",\"Cambodia\",\"Venezuela\",\"Mali\",\"Barbados\",\"Malta\",\"Nepal\",\"India\",\"Belarus\",\"South Korea\",\"Central African Republic\",\"Iceland\",\"Australia\",\"Indonesia\",\"Canada\",\"Chile\",\"Turkey\",\"Mauritania\",\"Uruguay\",\"Iran\",\"Yemen\",\"Namibia\",\"South Africa\",\"Malaysia\",\"Iraq\",\"United States\",\"Jamaica\",\"Ukraine\",\"Kyrgyzstan\",\"Mongolia\",\"Sao Tome and Principe\",\"Serbia\",\"Bosnia and Herzegovina\",\"Bahrain\",\"Libya\",\"Laos\",\"Bahamas\",\"United Kingdom\",\"Qatar\",\"Latvia\",\"Senegal\",\"Bolivia\",\"Mexico\",\"Lebanon\",\"Moldova\",\"Vietnam\",\"Liberia\",\"Lesotho\",\"Saudi Arabia\",\"Botswana\",\"Portugal\",\"Kuwait\",\"Montenegro\",\"Belize\",\"Slovakia\",\"Luxembourg\",\"Burkina Faso\",\"Mauritius\",\"Samoa\",\"Japan\",\"Poland\",\"Morocco\",\"Jordan\",\"Bangladesh\",\"Azerbaijan\",\"Bulgaria\",\"Romania\",\"Lithuania\",\"Kazakhstan\",\"Brazil\",\"Armenia\",\"United Arab Emirates\",\"Benin\",\"Kenya\",\"Sierra Leone\",\"Singapore\",\"Netherlands\",\"Panama\",\"Honduras\",\"Oman\",\"Nicaragua\",\"Czechia\",\"Costa Rica\",\"Switzerland\",\"Eswatini\",\"Ghana\",\"Togo\",\"Suriname\",\"Tajikistan\",\"Argentina\",\"Greece\",\"Estonia\",\"Democratic Republic of Congo\",\"Sudan\",\"Ethiopia\",\"Albania\",\"Germany\",\"Papua New Guinea\",\"Gabon\",\"Zimbabwe\",\"Algeria\",\"France\",\"Cuba\",\"Croatia\",\"Gambia\",\"Congo\",\"Norway\",\"Cyprus\",\"Sweden\",\"Paraguay\",\"Georgia\",\"Syria\",\"Cote d'Ivoire\",\"Trinidad and Tobago\",\"Finland\",\"Guatemala\",\"Tonga\",\"Dominican Republic\",\"Ecuador\",\"Thailand\",\"Afghanistan\",\"Guyana\",\"New Zealand\",\"Denmark\",\"Tunisia\",\"Sri Lanka\",\"Zambia\",\"Colombia\",\"Pakistan\",\"Peru\",\"El Salvador\"],\"locations\":[\"MDV\",\"CMR\",\"ESP\",\"BEL\",\"UGA\",\"RWA\",\"MWI\",\"PHL\",\"IRL\",\"AUT\",\"MMR\",\"ISR\",\"SVN\",\"HUN\",\"BDI\",\"ITA\",\"MOZ\",\"RUS\",\"CHN\",\"KHM\",\"VEN\",\"MLI\",\"BRB\",\"MLT\",\"NPL\",\"IND\",\"BLR\",\"KOR\",\"CAF\",\"ISL\",\"AUS\",\"IDN\",\"CAN\",\"CHL\",\"TUR\",\"MRT\",\"URY\",\"IRN\",\"YEM\",\"NAM\",\"ZAF\",\"MYS\",\"IRQ\",\"USA\",\"JAM\",\"UKR\",\"KGZ\",\"MNG\",\"STP\",\"SRB\",\"BIH\",\"BHR\",\"LBY\",\"LAO\",\"BHS\",\"GBR\",\"QAT\",\"LVA\",\"SEN\",\"BOL\",\"MEX\",\"LBN\",\"MDA\",\"VNM\",\"LBR\",\"LSO\",\"SAU\",\"BWA\",\"PRT\",\"KWT\",\"MNE\",\"BLZ\",\"SVK\",\"LUX\",\"BFA\",\"MUS\",\"WSM\",\"JPN\",\"POL\",\"MAR\",\"JOR\",\"BGD\",\"AZE\",\"BGR\",\"ROU\",\"LTU\",\"KAZ\",\"BRA\",\"ARM\",\"ARE\",\"BEN\",\"KEN\",\"SLE\",\"SGP\",\"NLD\",\"PAN\",\"HND\",\"OMN\",\"NIC\",\"CZE\",\"CRI\",\"CHE\",\"SWZ\",\"GHA\",\"TGO\",\"SUR\",\"TJK\",\"ARG\",\"GRC\",\"EST\",\"COD\",\"SDN\",\"ETH\",\"ALB\",\"DEU\",\"PNG\",\"GAB\",\"ZWE\",\"DZA\",\"FRA\",\"CUB\",\"HRV\",\"GMB\",\"COG\",\"NOR\",\"CYP\",\"SWE\",\"PRY\",\"GEO\",\"SYR\",\"CIV\",\"TTO\",\"FIN\",\"GTM\",\"TON\",\"DOM\",\"ECU\",\"THA\",\"AFG\",\"GUY\",\"NZL\",\"DNK\",\"TUN\",\"LKA\",\"ZMB\",\"COL\",\"PAK\",\"PER\",\"SLV\"],\"name\":\"\",\"z\":[0.38299999,0.62300003,0.113,0.093000002,0.56400001,0.44400001,0.616,0.449,0.171,0.111,0.45899999,0.149,0.124,0.255,0.50199997,0.124,0.61699998,0.315,0.197,0.49200001,0.46900001,0.67699999,0.32100001,0.27700001,0.537,0.59100002,0.15099999,0.098999999,0.67400002,0.098999999,0.138,0.486,0.127,0.359,0.426,0.65600002,0.32699999,0.52899998,0.77899998,0.51200002,0.42300001,0.308,0.53600001,0.25400001,0.45500001,0.33399999,0.36500001,0.40599999,0.53299999,0.22,0.23899999,0.241,0.215,0.50999999,0.38299999,0.184,0.579,0.208,0.57499999,0.50300002,0.40099999,0.40400001,0.28600001,0.324,0.66100001,0.56900001,0.63300002,0.49599999,0.141,0.236,0.21799999,0.42300001,0.19400001,0.132,0.611,0.382,0.456,0.12,0.17,0.56300002,0.48800001,0.55900002,0.317,0.23199999,0.35800001,0.168,0.26699999,0.454,0.34400001,0.23100001,0.62099999,0.616,0.66500002,0.098999999,0.054000001,0.51499999,0.51300001,0.32300001,0.51999998,0.13500001,0.32699999,0.061999999,0.57200003,0.56999999,0.59799999,0.514,0.33000001,0.37,0.15899999,0.168,0.67699999,0.62199998,0.57599998,0.273,0.097000003,0.667,0.55800003,0.58099997,0.523,0.125,0.32800001,0.146,0.662,0.61699998,0.075000003,0.134,0.050999999,0.50099999,0.41999999,0.53899997,0.68300003,0.35299999,0.077,0.54000002,0.67299998,0.46700001,0.421,0.31900001,0.72399998,0.52200001,0.186,0.056000002,0.30899999,0.40900001,0.55299997,0.43700001,0.56999999,0.40599999,0.43799999],\"type\":\"choropleth\"}],\"name\":\"2010\"},{\"data\":[{\"coloraxis\":\"coloraxis\",\"geo\":\"geo\",\"hovertemplate\":\"<b>%{hovertext}</b><br><br>Year=2011<br>Code=%{location}<br>Gender Inequality Index(%)=%{z}<extra></extra>\",\"hovertext\":[\"Bahamas\",\"Senegal\",\"Pakistan\",\"Cyprus\",\"Venezuela\",\"Bolivia\",\"Maldives\",\"Latvia\",\"Papua New Guinea\",\"Togo\",\"Laos\",\"Finland\",\"Serbia\",\"Russia\",\"Vietnam\",\"Botswana\",\"Switzerland\",\"Barbados\",\"Kuwait\",\"Dominican Republic\",\"France\",\"Norway\",\"Mali\",\"Mongolia\",\"Bosnia and Herzegovina\",\"Ecuador\",\"Kyrgyzstan\",\"Malta\",\"Cuba\",\"Albania\",\"Portugal\",\"Lebanon\",\"United Kingdom\",\"Tanzania\",\"Bahrain\",\"Belgium\",\"Tajikistan\",\"United States\",\"Estonia\",\"Rwanda\",\"Lithuania\",\"Malawi\",\"Samoa\",\"Mauritius\",\"Zimbabwe\",\"Belize\",\"Romania\",\"Luxembourg\",\"El Salvador\",\"Denmark\",\"Panama\",\"Malaysia\",\"Sao Tome and Principe\",\"Moldova\",\"Syria\",\"Belarus\",\"Bangladesh\",\"Qatar\",\"Ethiopia\",\"Lesotho\",\"Afghanistan\",\"Saudi Arabia\",\"Thailand\",\"Czechia\",\"Liberia\",\"Mexico\",\"Oman\",\"Eswatini\",\"Mauritania\",\"Uruguay\",\"Benin\",\"Yemen\",\"Montenegro\",\"Guatemala\",\"Iran\",\"South Africa\",\"Sudan\",\"Greece\",\"Iraq\",\"Cameroon\",\"Congo\",\"Argentina\",\"Uganda\",\"Ghana\",\"Ireland\",\"Sierra Leone\",\"Slovenia\",\"Cambodia\",\"Costa Rica\",\"Suriname\",\"Israel\",\"Austria\",\"Canada\",\"Namibia\",\"Australia\",\"Indonesia\",\"Spain\",\"China\",\"Netherlands\",\"Hungary\",\"Armenia\",\"Peru\",\"Haiti\",\"Chile\",\"Iceland\",\"Burundi\",\"Sri Lanka\",\"Turkey\",\"Guyana\",\"India\",\"Colombia\",\"South Korea\",\"Zambia\",\"Central African Republic\",\"Tunisia\",\"New Zealand\",\"Nepal\",\"Nicaragua\",\"Myanmar\",\"Cote d'Ivoire\",\"Algeria\",\"Ukraine\",\"Kazakhstan\",\"Japan\",\"Sweden\",\"Croatia\",\"Burkina Faso\",\"Azerbaijan\",\"Niger\",\"Singapore\",\"Germany\",\"Gambia\",\"Jordan\",\"Morocco\",\"Poland\",\"Brazil\",\"Bulgaria\",\"Paraguay\",\"Italy\",\"Honduras\",\"Kenya\",\"Tonga\",\"Mozambique\",\"Georgia\",\"Slovakia\",\"Gabon\",\"United Arab Emirates\",\"Jamaica\",\"Trinidad and Tobago\"],\"locations\":[\"BHS\",\"SEN\",\"PAK\",\"CYP\",\"VEN\",\"BOL\",\"MDV\",\"LVA\",\"PNG\",\"TGO\",\"LAO\",\"FIN\",\"SRB\",\"RUS\",\"VNM\",\"BWA\",\"CHE\",\"BRB\",\"KWT\",\"DOM\",\"FRA\",\"NOR\",\"MLI\",\"MNG\",\"BIH\",\"ECU\",\"KGZ\",\"MLT\",\"CUB\",\"ALB\",\"PRT\",\"LBN\",\"GBR\",\"TZA\",\"BHR\",\"BEL\",\"TJK\",\"USA\",\"EST\",\"RWA\",\"LTU\",\"MWI\",\"WSM\",\"MUS\",\"ZWE\",\"BLZ\",\"ROU\",\"LUX\",\"SLV\",\"DNK\",\"PAN\",\"MYS\",\"STP\",\"MDA\",\"SYR\",\"BLR\",\"BGD\",\"QAT\",\"ETH\",\"LSO\",\"AFG\",\"SAU\",\"THA\",\"CZE\",\"LBR\",\"MEX\",\"OMN\",\"SWZ\",\"MRT\",\"URY\",\"BEN\",\"YEM\",\"MNE\",\"GTM\",\"IRN\",\"ZAF\",\"SDN\",\"GRC\",\"IRQ\",\"CMR\",\"COG\",\"ARG\",\"UGA\",\"GHA\",\"IRL\",\"SLE\",\"SVN\",\"KHM\",\"CRI\",\"SUR\",\"ISR\",\"AUT\",\"CAN\",\"NAM\",\"AUS\",\"IDN\",\"ESP\",\"CHN\",\"NLD\",\"HUN\",\"ARM\",\"PER\",\"HTI\",\"CHL\",\"ISL\",\"BDI\",\"LKA\",\"TUR\",\"GUY\",\"IND\",\"COL\",\"KOR\",\"ZMB\",\"CAF\",\"TUN\",\"NZL\",\"NPL\",\"NIC\",\"MMR\",\"CIV\",\"DZA\",\"UKR\",\"KAZ\",\"JPN\",\"SWE\",\"HRV\",\"BFA\",\"AZE\",\"NER\",\"SGP\",\"DEU\",\"GMB\",\"JOR\",\"MAR\",\"POL\",\"BRA\",\"BGR\",\"PRY\",\"ITA\",\"HND\",\"KEN\",\"TON\",\"MOZ\",\"GEO\",\"SVK\",\"GAB\",\"ARE\",\"JAM\",\"TTO\"],\"name\":\"\",\"z\":[0.38100001,0.56699997,0.56900001,0.14,0.46799999,0.498,0.36899999,0.204,0.662,0.58899999,0.50099999,0.071999997,0.21699999,0.308,0.32800001,0.486,0.059999999,0.31299999,0.234,0.493,0.123,0.071000002,0.68099999,0.39700001,0.20999999,0.42399999,0.37200001,0.27399999,0.322,0.27900001,0.12800001,0.398,0.17399999,0.55800003,0.22499999,0.090000004,0.32800001,0.248,0.171,0.433,0.169,0.60900003,0.491,0.37,0.57499999,0.41100001,0.35499999,0.112,0.43700001,0.050999999,0.51700002,0.31,0.53100002,0.257,0.542,0.148,0.54900002,0.55400002,0.56800002,0.56300002,0.713,0.62300003,0.30700001,0.132,0.66799998,0.39300001,0.31099999,0.565,0.65200001,0.32600001,0.62699997,0.77200001,0.20299999,0.53100002,0.52700001,0.419,0.616,0.148,0.53399998,0.61799997,0.61199999,0.36700001,0.55199999,0.56699997,0.155,0.662,0.072999999,0.48800001,0.31999999,0.498,0.141,0.105,0.118,0.50999999,0.133,0.48100001,0.106,0.191,0.050000001,0.26100001,0.338,0.412,0.597,0.352,0.094999999,0.49900001,0.39399999,0.38100001,0.51800001,0.58200002,0.43099999,0.093000002,0.55599999,0.65899998,0.301,0.17900001,0.528,0.477,0.47600001,0.67299998,0.514,0.329,0.25400001,0.119,0.048999999,0.142,0.60699999,0.31900001,0.71200001,0.102,0.092,0.65899998,0.48899999,0.52999997,0.155,0.44800001,0.229,0.49900001,0.12,0.50400001,0.61299998,0.472,0.60699999,0.41600001,0.192,0.55599999,0.24600001,0.44299999,0.34900001],\"type\":\"choropleth\"}],\"name\":\"2011\"},{\"data\":[{\"coloraxis\":\"coloraxis\",\"geo\":\"geo\",\"hovertemplate\":\"<b>%{hovertext}</b><br><br>Year=2012<br>Code=%{location}<br>Gender Inequality Index(%)=%{z}<extra></extra>\",\"hovertext\":[\"Nepal\",\"Mongolia\",\"Peru\",\"Niger\",\"Malta\",\"Netherlands\",\"Albania\",\"Azerbaijan\",\"Vietnam\",\"Panama\",\"Bangladesh\",\"Armenia\",\"Qatar\",\"Pakistan\",\"Mauritania\",\"Mozambique\",\"Austria\",\"Zambia\",\"Mexico\",\"Nicaragua\",\"Bahamas\",\"Paraguay\",\"Myanmar\",\"Oman\",\"Bahrain\",\"Papua New Guinea\",\"Moldova\",\"Algeria\",\"Norway\",\"New Zealand\",\"Mauritius\",\"Yemen\",\"Zimbabwe\",\"Venezuela\",\"Afghanistan\",\"Portugal\",\"Poland\",\"Morocco\",\"Namibia\",\"Australia\",\"Romania\",\"Argentina\",\"Montenegro\",\"Dominican Republic\",\"Barbados\",\"Guatemala\",\"Colombia\",\"Guyana\",\"Sri Lanka\",\"Haiti\",\"Tunisia\",\"China\",\"Honduras\",\"Spain\",\"Hungary\",\"Chile\",\"Iceland\",\"South Korea\",\"Central African Republic\",\"India\",\"Turkey\",\"Indonesia\",\"Canada\",\"Iran\",\"South Africa\",\"Cameroon\",\"Mali\",\"Uganda\",\"Ireland\",\"Slovenia\",\"Cambodia\",\"Israel\",\"Burundi\",\"Italy\",\"Sudan\",\"Slovakia\",\"Greece\",\"Suriname\",\"Ecuador\",\"Tanzania\",\"Egypt\",\"Denmark\",\"El Salvador\",\"Thailand\",\"Tajikistan\",\"Democratic Republic of Congo\",\"Estonia\",\"Czechia\",\"Eswatini\",\"Ethiopia\",\"Syria\",\"Togo\",\"Cyprus\",\"Finland\",\"Switzerland\",\"Cuba\",\"France\",\"Tonga\",\"Gabon\",\"Croatia\",\"Gambia\",\"Sweden\",\"Cote d'Ivoire\",\"Georgia\",\"Trinidad and Tobago\",\"Costa Rica\",\"Germany\",\"Congo\",\"Jamaica\",\"Iraq\",\"Japan\",\"Senegal\",\"Bolivia\",\"Latvia\",\"Lebanon\",\"Saudi Arabia\",\"United Kingdom\",\"Burkina Faso\",\"Bhutan\",\"Lesotho\",\"Benin\",\"Liberia\",\"Sao Tome and Principe\",\"Laos\",\"Libya\",\"Lithuania\",\"United States\",\"Belize\",\"Luxembourg\",\"Belgium\",\"Malawi\",\"Rwanda\",\"Malaysia\",\"Uruguay\",\"Belarus\",\"Maldives\",\"Russia\",\"Samoa\",\"Serbia\",\"Botswana\",\"Bosnia and Herzegovina\",\"Kyrgyzstan\",\"Brazil\",\"Jordan\",\"Kenya\",\"Bulgaria\",\"Kazakhstan\",\"Sierra Leone\",\"United Arab Emirates\",\"Singapore\",\"Ukraine\",\"Kuwait\"],\"locations\":[\"NPL\",\"MNG\",\"PER\",\"NER\",\"MLT\",\"NLD\",\"ALB\",\"AZE\",\"VNM\",\"PAN\",\"BGD\",\"ARM\",\"QAT\",\"PAK\",\"MRT\",\"MOZ\",\"AUT\",\"ZMB\",\"MEX\",\"NIC\",\"BHS\",\"PRY\",\"MMR\",\"OMN\",\"BHR\",\"PNG\",\"MDA\",\"DZA\",\"NOR\",\"NZL\",\"MUS\",\"YEM\",\"ZWE\",\"VEN\",\"AFG\",\"PRT\",\"POL\",\"MAR\",\"NAM\",\"AUS\",\"ROU\",\"ARG\",\"MNE\",\"DOM\",\"BRB\",\"GTM\",\"COL\",\"GUY\",\"LKA\",\"HTI\",\"TUN\",\"CHN\",\"HND\",\"ESP\",\"HUN\",\"CHL\",\"ISL\",\"KOR\",\"CAF\",\"IND\",\"TUR\",\"IDN\",\"CAN\",\"IRN\",\"ZAF\",\"CMR\",\"MLI\",\"UGA\",\"IRL\",\"SVN\",\"KHM\",\"ISR\",\"BDI\",\"ITA\",\"SDN\",\"SVK\",\"GRC\",\"SUR\",\"ECU\",\"TZA\",\"EGY\",\"DNK\",\"SLV\",\"THA\",\"TJK\",\"COD\",\"EST\",\"CZE\",\"SWZ\",\"ETH\",\"SYR\",\"TGO\",\"CYP\",\"FIN\",\"CHE\",\"CUB\",\"FRA\",\"TON\",\"GAB\",\"HRV\",\"GMB\",\"SWE\",\"CIV\",\"GEO\",\"TTO\",\"CRI\",\"DEU\",\"COG\",\"JAM\",\"IRQ\",\"JPN\",\"SEN\",\"BOL\",\"LVA\",\"LBN\",\"SAU\",\"GBR\",\"BFA\",\"BTN\",\"LSO\",\"BEN\",\"LBR\",\"STP\",\"LAO\",\"LBY\",\"LTU\",\"USA\",\"BLZ\",\"LUX\",\"BEL\",\"MWI\",\"RWA\",\"MYS\",\"URY\",\"BLR\",\"MDV\",\"RUS\",\"WSM\",\"SRB\",\"BWA\",\"BIH\",\"KGZ\",\"BRA\",\"JOR\",\"KEN\",\"BGR\",\"KAZ\",\"SLE\",\"ARE\",\"SGP\",\"UKR\",\"KWT\"],\"name\":\"\",\"z\":[0.51800001,0.30000001,0.40000001,0.70700002,0.26300001,0.048999999,0.28099999,0.31900001,0.331,0.51200002,0.542,0.317,0.55599999,0.55599999,0.64700001,0.59600002,0.1,0.55000001,0.36899999,0.479,0.377,0.491,0.44600001,0.30199999,0.22499999,0.60500002,0.255,0.43200001,0.067000002,0.175,0.36899999,0.76700002,0.56900001,0.46599999,0.70099998,0.127,0.152,0.52700001,0.50599998,0.131,0.34299999,0.366,0.175,0.447,0.30700001,0.523,0.42399999,0.51499999,0.391,0.60299999,0.29699999,0.184,0.495,0.1,0.259,0.347,0.085000001,0.082999997,0.65600002,0.57300001,0.36500001,0.47600001,0.113,0.51700002,0.41499999,0.61299998,0.68199998,0.54500002,0.149,0.067000002,0.486,0.13600001,0.49399999,0.116,0.60900003,0.182,0.134,0.495,0.41800001,0.55599999,0.57499999,0.048,0.41299999,0.30899999,0.32300001,0.67000002,0.162,0.131,0.55900002,0.56,0.54699999,0.58600003,0.138,0.068000004,0.056000002,0.317,0.108,0.47,0.55199999,0.13500001,0.65700001,0.048999999,0.67400002,0.375,0.34599999,0.31400001,0.086999997,0.60900003,0.43900001,0.53200001,0.127,0.53899997,0.49200001,0.18799999,0.39300001,0.61900002,0.168,0.602,0.48699999,0.55599999,0.62099999,0.66000003,0.52999997,0.493,0.16599999,0.141,0.235,0.39399999,0.114,0.086999997,0.60699999,0.42199999,0.303,0.31999999,0.15099999,0.35299999,0.296,0.48500001,0.189,0.47799999,0.199,0.373,0.44800001,0.48699999,0.61000001,0.214,0.226,0.66000003,0.24699999,0.090999998,0.31600001,0.24699999],\"type\":\"choropleth\"}],\"name\":\"2012\"},{\"data\":[{\"coloraxis\":\"coloraxis\",\"geo\":\"geo\",\"hovertemplate\":\"<b>%{hovertext}</b><br><br>Year=2013<br>Code=%{location}<br>Gender Inequality Index(%)=%{z}<extra></extra>\",\"hovertext\":[\"Singapore\",\"Uzbekistan\",\"Uruguay\",\"United States\",\"Switzerland\",\"Philippines\",\"Slovakia\",\"Togo\",\"Saint Lucia\",\"Russia\",\"Rwanda\",\"Syria\",\"Panama\",\"Ukraine\",\"Romania\",\"Uganda\",\"Tajikistan\",\"Thailand\",\"Zimbabwe\",\"Slovenia\",\"Papua New Guinea\",\"Samoa\",\"Poland\",\"Peru\",\"Senegal\",\"Tunisia\",\"Spain\",\"United Arab Emirates\",\"Portugal\",\"South Korea\",\"Serbia\",\"Sri Lanka\",\"Saudi Arabia\",\"Tanzania\",\"United Kingdom\",\"Trinidad and Tobago\",\"Sudan\",\"Turkey\",\"Suriname\",\"Yemen\",\"Qatar\",\"South Africa\",\"Sao Tome and Principe\",\"Zambia\",\"Sierra Leone\",\"Vietnam\",\"Tonga\",\"Sweden\",\"Venezuela\",\"Paraguay\",\"Lebanon\",\"Bahrain\",\"Germany\",\"Lesotho\",\"Bulgaria\",\"Barbados\",\"Liberia\",\"Georgia\",\"Libya\",\"Gambia\",\"Bangladesh\",\"Lithuania\",\"Burkina Faso\",\"Luxembourg\",\"Ghana\",\"Gabon\",\"Burundi\",\"Malawi\",\"Iraq\",\"Malaysia\",\"Finland\",\"Maldives\",\"Ethiopia\",\"Bahamas\",\"Cambodia\",\"Malta\",\"Eswatini\",\"Azerbaijan\",\"France\",\"Latvia\",\"Greece\",\"Laos\",\"Iran\",\"Ireland\",\"Indonesia\",\"Israel\",\"Bolivia\",\"Benin\",\"India\",\"Italy\",\"Jamaica\",\"Colombia\",\"Japan\",\"Belize\",\"Iceland\",\"Bosnia and Herzegovina\",\"Jordan\",\"Hungary\",\"Kazakhstan\",\"Haiti\",\"Kenya\",\"Botswana\",\"Belgium\",\"Kuwait\",\"Guyana\",\"Kyrgyzstan\",\"Belarus\",\"Guatemala\",\"Brazil\",\"Estonia\",\"Mauritius\",\"Bhutan\",\"Costa Rica\",\"Cameroon\",\"China\",\"Norway\",\"Australia\",\"Albania\",\"Denmark\",\"Nicaragua\",\"New Zealand\",\"Morocco\",\"Cote d'Ivoire\",\"Namibia\",\"Mozambique\",\"Niger\",\"Algeria\",\"Myanmar\",\"Democratic Republic of Congo\",\"Armenia\",\"Montenegro\",\"Dominican Republic\",\"Czechia\",\"Austria\",\"Netherlands\",\"El Salvador\",\"Chile\",\"Congo\",\"Cuba\",\"Croatia\",\"Moldova\",\"Pakistan\",\"Mexico\",\"Ecuador\",\"Canada\",\"Argentina\",\"Cyprus\",\"Oman\",\"Mongolia\",\"Afghanistan\"],\"locations\":[\"SGP\",\"UZB\",\"URY\",\"USA\",\"CHE\",\"PHL\",\"SVK\",\"TGO\",\"LCA\",\"RUS\",\"RWA\",\"SYR\",\"PAN\",\"UKR\",\"ROU\",\"UGA\",\"TJK\",\"THA\",\"ZWE\",\"SVN\",\"PNG\",\"WSM\",\"POL\",\"PER\",\"SEN\",\"TUN\",\"ESP\",\"ARE\",\"PRT\",\"KOR\",\"SRB\",\"LKA\",\"SAU\",\"TZA\",\"GBR\",\"TTO\",\"SDN\",\"TUR\",\"SUR\",\"YEM\",\"QAT\",\"ZAF\",\"STP\",\"ZMB\",\"SLE\",\"VNM\",\"TON\",\"SWE\",\"VEN\",\"PRY\",\"LBN\",\"BHR\",\"DEU\",\"LSO\",\"BGR\",\"BRB\",\"LBR\",\"GEO\",\"LBY\",\"GMB\",\"BGD\",\"LTU\",\"BFA\",\"LUX\",\"GHA\",\"GAB\",\"BDI\",\"MWI\",\"IRQ\",\"MYS\",\"FIN\",\"MDV\",\"ETH\",\"BHS\",\"KHM\",\"MLT\",\"SWZ\",\"AZE\",\"FRA\",\"LVA\",\"GRC\",\"LAO\",\"IRN\",\"IRL\",\"IDN\",\"ISR\",\"BOL\",\"BEN\",\"IND\",\"ITA\",\"JAM\",\"COL\",\"JPN\",\"BLZ\",\"ISL\",\"BIH\",\"JOR\",\"HUN\",\"KAZ\",\"HTI\",\"KEN\",\"BWA\",\"BEL\",\"KWT\",\"GUY\",\"KGZ\",\"BLR\",\"GTM\",\"BRA\",\"EST\",\"MUS\",\"BTN\",\"CRI\",\"CMR\",\"CHN\",\"NOR\",\"AUS\",\"ALB\",\"DNK\",\"NIC\",\"NZL\",\"MAR\",\"CIV\",\"NAM\",\"MOZ\",\"NER\",\"DZA\",\"MMR\",\"COD\",\"ARM\",\"MNE\",\"DOM\",\"CZE\",\"AUT\",\"NLD\",\"SLV\",\"CHL\",\"COG\",\"CUB\",\"HRV\",\"MDA\",\"PAK\",\"MEX\",\"ECU\",\"CAN\",\"ARG\",\"CYP\",\"OMN\",\"MNG\",\"AFG\"],\"name\":\"\",\"z\":[0.082000002,0.27900001,0.31999999,0.227,0.048999999,0.43700001,0.18000001,0.56699997,0.37,0.28999999,0.405,0.551,0.50700003,0.308,0.34400001,0.537,0.32100001,0.30700001,0.53200001,0.064000003,0.602,0.47799999,0.15000001,0.39399999,0.53200001,0.29899999,0.094999999,0.24699999,0.11,0.075999998,0.19,0.382,0.26699999,0.55299997,0.15899999,0.34299999,0.602,0.35100001,0.49599999,0.76200002,0.55199999,0.40599999,0.52899998,0.54400003,0.65600002,0.333,0.465,0.048,0.46599999,0.46900001,0.38699999,0.22,0.077,0.55299997,0.215,0.294,0.65399998,0.36899999,0.16599999,0.65399998,0.53500003,0.13500001,0.59799999,0.088,0.54900002,0.54900002,0.48899999,0.60500002,0.52899998,0.29300001,0.064000003,0.33500001,0.546,0.37200001,0.48500001,0.21600001,0.57599998,0.324,0.107,0.184,0.12800001,0.484,0.51599997,0.14,0.472,0.124,0.486,0.61500001,0.56099999,0.090000004,0.435,0.42300001,0.127,0.384,0.075999998,0.186,0.484,0.259,0.215,0.60000002,0.57300001,0.465,0.083999999,0.243,0.51200002,0.37799999,0.148,0.52200001,0.43099999,0.155,0.361,0.52399999,0.308,0.57700002,0.17200001,0.061999999,0.124,0.27200001,0.044,0.47400001,0.171,0.52200001,0.671,0.50099999,0.58700001,0.70200002,0.42899999,0.44299999,0.667,0.308,0.17399999,0.48300001,0.13500001,0.086999997,0.046999998,0.40599999,0.329,0.60600001,0.31099999,0.12800001,0.24699999,0.55500001,0.36399999,0.405,0.108,0.36399999,0.13500001,0.294,0.292,0.68900001],\"type\":\"choropleth\"}],\"name\":\"2013\"},{\"data\":[{\"coloraxis\":\"coloraxis\",\"geo\":\"geo\",\"hovertemplate\":\"<b>%{hovertext}</b><br><br>Year=2014<br>Code=%{location}<br>Gender Inequality Index(%)=%{z}<extra></extra>\",\"hovertext\":[\"Guyana\",\"United Arab Emirates\",\"Haiti\",\"Croatia\",\"Spain\",\"Tajikistan\",\"Costa Rica\",\"Honduras\",\"Iran\",\"Bhutan\",\"South Africa\",\"Indonesia\",\"Congo\",\"Trinidad and Tobago\",\"Tonga\",\"India\",\"Bolivia\",\"Iceland\",\"South Korea\",\"Tunisia\",\"Cote d'Ivoire\",\"Hungary\",\"China\",\"Botswana\",\"Sudan\",\"Cuba\",\"Denmark\",\"Finland\",\"Switzerland\",\"Burundi\",\"Dominican Republic\",\"Fiji\",\"Uganda\",\"France\",\"Ethiopia\",\"Syria\",\"Eswatini\",\"Ecuador\",\"Cambodia\",\"Cameroon\",\"Estonia\",\"El Salvador\",\"Tanzania\",\"Turkey\",\"Gabon\",\"Democratic Republic of Congo\",\"Guatemala\",\"Chile\",\"Togo\",\"Greece\",\"Brazil\",\"Ghana\",\"Cyprus\",\"Germany\",\"Suriname\",\"Ukraine\",\"Czechia\",\"Georgia\",\"Bulgaria\",\"Canada\",\"Gambia\",\"Sweden\",\"Thailand\",\"Sri Lanka\",\"Pakistan\",\"Jamaica\",\"United Kingdom\",\"Portugal\",\"Austria\",\"Mexico\",\"Qatar\",\"Mauritius\",\"Vietnam\",\"Mauritania\",\"Romania\",\"Azerbaijan\",\"Malta\",\"Mali\",\"Maldives\",\"Russia\",\"Bahamas\",\"Iraq\",\"Malawi\",\"Rwanda\",\"Venezuela\",\"Luxembourg\",\"Saint Lucia\",\"Bahrain\",\"Moldova\",\"Mongolia\",\"Australia\",\"Montenegro\",\"Panama\",\"Afghanistan\",\"Oman\",\"Norway\",\"Papua New Guinea\",\"Albania\",\"Niger\",\"Nicaragua\",\"Paraguay\",\"Zambia\",\"Lithuania\",\"New Zealand\",\"Netherlands\",\"Peru\",\"Nepal\",\"Argentina\",\"Myanmar\",\"Philippines\",\"Armenia\",\"Morocco\",\"Yemen\",\"Poland\",\"Algeria\",\"Libya\",\"Malaysia\",\"Kuwait\",\"Senegal\",\"Kyrgyzstan\",\"Belarus\",\"Serbia\",\"Samoa\",\"Kenya\",\"Belgium\",\"Sierra Leone\",\"Kazakhstan\",\"Laos\",\"Jordan\",\"Japan\",\"Singapore\",\"Belize\",\"Italy\",\"Slovakia\",\"Benin\",\"Israel\",\"Ireland\",\"Slovenia\",\"United States\",\"Uruguay\",\"Colombia\",\"Barbados\",\"Latvia\",\"Uzbekistan\",\"Saudi Arabia\",\"Lesotho\",\"Sao Tome and Principe\",\"Liberia\",\"Zimbabwe\",\"Lebanon\",\"Bangladesh\"],\"locations\":[\"GUY\",\"ARE\",\"HTI\",\"HRV\",\"ESP\",\"TJK\",\"CRI\",\"HND\",\"IRN\",\"BTN\",\"ZAF\",\"IDN\",\"COG\",\"TTO\",\"TON\",\"IND\",\"BOL\",\"ISL\",\"KOR\",\"TUN\",\"CIV\",\"HUN\",\"CHN\",\"BWA\",\"SDN\",\"CUB\",\"DNK\",\"FIN\",\"CHE\",\"BDI\",\"DOM\",\"FJI\",\"UGA\",\"FRA\",\"ETH\",\"SYR\",\"SWZ\",\"ECU\",\"KHM\",\"CMR\",\"EST\",\"SLV\",\"TZA\",\"TUR\",\"GAB\",\"COD\",\"GTM\",\"CHL\",\"TGO\",\"GRC\",\"BRA\",\"GHA\",\"CYP\",\"DEU\",\"SUR\",\"UKR\",\"CZE\",\"GEO\",\"BGR\",\"CAN\",\"GMB\",\"SWE\",\"THA\",\"LKA\",\"PAK\",\"JAM\",\"GBR\",\"PRT\",\"AUT\",\"MEX\",\"QAT\",\"MUS\",\"VNM\",\"MRT\",\"ROU\",\"AZE\",\"MLT\",\"MLI\",\"MDV\",\"RUS\",\"BHS\",\"IRQ\",\"MWI\",\"RWA\",\"VEN\",\"LUX\",\"LCA\",\"BHR\",\"MDA\",\"MNG\",\"AUS\",\"MNE\",\"PAN\",\"AFG\",\"OMN\",\"NOR\",\"PNG\",\"ALB\",\"NER\",\"NIC\",\"PRY\",\"ZMB\",\"LTU\",\"NZL\",\"NLD\",\"PER\",\"NPL\",\"ARG\",\"MMR\",\"PHL\",\"ARM\",\"MAR\",\"YEM\",\"POL\",\"DZA\",\"LBY\",\"MYS\",\"KWT\",\"SEN\",\"KGZ\",\"BLR\",\"SRB\",\"WSM\",\"KEN\",\"BEL\",\"SLE\",\"KAZ\",\"LAO\",\"JOR\",\"JPN\",\"SGP\",\"BLZ\",\"ITA\",\"SVK\",\"BEN\",\"ISR\",\"IRL\",\"SVN\",\"USA\",\"URY\",\"COL\",\"BRB\",\"LVA\",\"UZB\",\"SAU\",\"LSO\",\"STP\",\"LBR\",\"ZWE\",\"LBN\",\"BGD\"],\"name\":\"\",\"z\":[0.509,0.24699999,0.597,0.12,0.086999997,0.324,0.31299999,0.46599999,0.514,0.49599999,0.40000001,0.472,0.59399998,0.34099999,0.662,0.54400003,0.45100001,0.064999998,0.071000002,0.28799999,0.67199999,0.249,0.168,0.44499999,0.59500003,0.30700001,0.043000001,0.059999999,0.045000002,0.48300001,0.47600001,0.36899999,0.52899998,0.103,0.53100002,0.55299997,0.56999999,0.39399999,0.48199999,0.57200003,0.154,0.39700001,0.54799998,0.34,0.54699999,0.65700001,0.50300002,0.32499999,0.55699998,0.121,0.41999999,0.54799998,0.12,0.072999999,0.493,0.28999999,0.134,0.36300001,0.226,0.102,0.64200002,0.046999998,0.36899999,0.38499999,0.55000001,0.426,0.149,0.103,0.082999997,0.35499999,0.546,0.35499999,0.33399999,0.63,0.34200001,0.33000001,0.213,0.68599999,0.32800001,0.28600001,0.37,0.528,0.616,0.39399999,0.463,0.081,0.36700001,0.22400001,0.25,0.28299999,0.123,0.163,0.458,0.676,0.28400001,0.057,0.597,0.26699999,0.69800001,0.46599999,0.46799999,0.54100001,0.12800001,0.16500001,0.044,0.389,0.50599998,0.36399999,0.44299999,0.43599999,0.29899999,0.51700002,0.75700003,0.146,0.42899999,0.169,0.287,0.34,0.52499998,0.38,0.146,0.18700001,0.44499999,0.56900001,0.075999998,0.653,0.20299999,0.47499999,0.47999999,0.124,0.068999998,0.37799999,0.085000001,0.18000001,0.60900003,0.118,0.13500001,0.057,0.214,0.317,0.39899999,0.29100001,0.19499999,0.27900001,0.26199999,0.54900002,0.52700001,0.64899999,0.53500003,0.38600001,0.52700001],\"type\":\"choropleth\"}],\"name\":\"2014\"},{\"data\":[{\"coloraxis\":\"coloraxis\",\"geo\":\"geo\",\"hovertemplate\":\"<b>%{hovertext}</b><br><br>Year=2015<br>Code=%{location}<br>Gender Inequality Index(%)=%{z}<extra></extra>\",\"hovertext\":[\"Benin\",\"United Kingdom\",\"Algeria\",\"China\",\"Bhutan\",\"Bolivia\",\"Uzbekistan\",\"Bahrain\",\"Chile\",\"Afghanistan\",\"Zambia\",\"Burkina Faso\",\"Venezuela\",\"Tunisia\",\"Bangladesh\",\"Albania\",\"Belize\",\"Uruguay\",\"United Arab Emirates\",\"United States\",\"Azerbaijan\",\"Cambodia\",\"Barbados\",\"Vietnam\",\"Austria\",\"Brazil\",\"Botswana\",\"Burundi\",\"Cameroon\",\"Chad\",\"Belarus\",\"Ukraine\",\"Turkey\",\"Bahamas\",\"Uganda\",\"Bosnia and Herzegovina\",\"Belgium\",\"Yemen\",\"Armenia\",\"Canada\",\"Australia\",\"Bulgaria\",\"Sudan\",\"Trinidad and Tobago\",\"Maldives\",\"Russia\",\"Malaysia\",\"Malawi\",\"Luxembourg\",\"Rwanda\",\"Saint Lucia\",\"Lithuania\",\"Libya\",\"Samoa\",\"Liberia\",\"Mali\",\"Sao Tome and Principe\",\"Lebanon\",\"Saudi Arabia\",\"Latvia\",\"Laos\",\"Senegal\",\"Kyrgyzstan\",\"Kuwait\",\"Serbia\",\"Kenya\",\"Kazakhstan\",\"Sierra Leone\",\"Lesotho\",\"Romania\",\"Malta\",\"Mauritania\",\"Panama\",\"Oman\",\"Norway\",\"North Macedonia\",\"Papua New Guinea\",\"Niger\",\"Nicaragua\",\"New Zealand\",\"Paraguay\",\"Netherlands\",\"Nepal\",\"Peru\",\"Namibia\",\"Myanmar\",\"Philippines\",\"Mozambique\",\"Morocco\",\"Montenegro\",\"Poland\",\"Mongolia\",\"Moldova\",\"Portugal\",\"Mexico\",\"Qatar\",\"Mauritius\",\"Jordan\",\"Colombia\",\"Japan\",\"Jamaica\",\"Finland\",\"Switzerland\",\"Fiji\",\"Ethiopia\",\"Eswatini\",\"Syria\",\"Estonia\",\"El Salvador\",\"Tajikistan\",\"Ecuador\",\"Dominican Republic\",\"France\",\"Tanzania\",\"Democratic Republic of Congo\",\"Thailand\",\"Czechia\",\"Cyprus\",\"Togo\",\"Cuba\",\"Croatia\",\"Cote d'Ivoire\",\"Tonga\",\"Costa Rica\",\"Congo\",\"Denmark\",\"Sweden\",\"Gabon\",\"Gambia\",\"Italy\",\"Slovakia\",\"Israel\",\"Ireland\",\"Slovenia\",\"Iraq\",\"Iran\",\"Indonesia\",\"South Africa\",\"India\",\"Iceland\",\"South Korea\",\"Hungary\",\"Honduras\",\"Haiti\",\"Spain\",\"Guyana\",\"Guatemala\",\"Sri Lanka\",\"Greece\",\"Ghana\",\"Pakistan\",\"Germany\",\"Suriname\",\"Georgia\",\"Singapore\",\"Zimbabwe\"],\"locations\":[\"BEN\",\"GBR\",\"DZA\",\"CHN\",\"BTN\",\"BOL\",\"UZB\",\"BHR\",\"CHL\",\"AFG\",\"ZMB\",\"BFA\",\"VEN\",\"TUN\",\"BGD\",\"ALB\",\"BLZ\",\"URY\",\"ARE\",\"USA\",\"AZE\",\"KHM\",\"BRB\",\"VNM\",\"AUT\",\"BRA\",\"BWA\",\"BDI\",\"CMR\",\"TCD\",\"BLR\",\"UKR\",\"TUR\",\"BHS\",\"UGA\",\"BIH\",\"BEL\",\"YEM\",\"ARM\",\"CAN\",\"AUS\",\"BGR\",\"SDN\",\"TTO\",\"MDV\",\"RUS\",\"MYS\",\"MWI\",\"LUX\",\"RWA\",\"LCA\",\"LTU\",\"LBY\",\"WSM\",\"LBR\",\"MLI\",\"STP\",\"LBN\",\"SAU\",\"LVA\",\"LAO\",\"SEN\",\"KGZ\",\"KWT\",\"SRB\",\"KEN\",\"KAZ\",\"SLE\",\"LSO\",\"ROU\",\"MLT\",\"MRT\",\"PAN\",\"OMN\",\"NOR\",\"MKD\",\"PNG\",\"NER\",\"NIC\",\"NZL\",\"PRY\",\"NLD\",\"NPL\",\"PER\",\"NAM\",\"MMR\",\"PHL\",\"MOZ\",\"MAR\",\"MNE\",\"POL\",\"MNG\",\"MDA\",\"PRT\",\"MEX\",\"QAT\",\"MUS\",\"JOR\",\"COL\",\"JPN\",\"JAM\",\"FIN\",\"CHE\",\"FJI\",\"ETH\",\"SWZ\",\"SYR\",\"EST\",\"SLV\",\"TJK\",\"ECU\",\"DOM\",\"FRA\",\"TZA\",\"COD\",\"THA\",\"CZE\",\"CYP\",\"TGO\",\"CUB\",\"HRV\",\"CIV\",\"TON\",\"CRI\",\"COG\",\"DNK\",\"SWE\",\"GAB\",\"GMB\",\"ITA\",\"SVK\",\"ISR\",\"IRL\",\"SVN\",\"IRQ\",\"IRN\",\"IDN\",\"ZAF\",\"IND\",\"ISL\",\"KOR\",\"HUN\",\"HND\",\"HTI\",\"ESP\",\"GUY\",\"GTM\",\"LKA\",\"GRC\",\"GHA\",\"PAK\",\"DEU\",\"SUR\",\"GEO\",\"SGP\",\"ZWE\"],\"name\":\"\",\"z\":[0.61299998,0.131,0.42899999,0.164,0.477,0.44600001,0.287,0.233,0.322,0.667,0.52600002,0.61500001,0.461,0.289,0.51999998,0.26699999,0.375,0.28400001,0.23199999,0.20299999,0.32600001,0.479,0.29100001,0.33700001,0.078000002,0.414,0.435,0.47400001,0.56800002,0.69499999,0.14399999,0.28400001,0.32800001,0.36199999,0.52200001,0.15800001,0.072999999,0.76700002,0.29300001,0.097999997,0.12,0.223,0.57499999,0.324,0.31200001,0.271,0.29100001,0.61400002,0.075000003,0.38299999,0.354,0.121,0.167,0.43900001,0.64899999,0.68900001,0.52399999,0.38100001,0.257,0.191,0.46799999,0.52100003,0.39399999,0.33500001,0.185,0.565,0.20200001,0.64999998,0.54900002,0.33899999,0.21699999,0.62699997,0.45699999,0.28099999,0.052999999,0.16,0.59500003,0.69499999,0.46200001,0.15800001,0.46399999,0.044,0.49700001,0.38499999,0.47400001,0.37400001,0.43599999,0.574,0.49399999,0.156,0.13699999,0.278,0.23199999,0.090999998,0.345,0.542,0.38,0.47799999,0.39300001,0.116,0.42199999,0.056000002,0.039999999,0.35800001,0.49900001,0.56599998,0.55400002,0.131,0.384,0.322,0.391,0.47,0.102,0.54400003,0.66299999,0.366,0.12899999,0.116,0.55599999,0.30399999,0.141,0.67199999,0.65899998,0.308,0.59200001,0.041000001,0.048,0.542,0.64099997,0.085000001,0.18000001,0.103,0.127,0.052999999,0.52499998,0.509,0.46700001,0.39399999,0.52999997,0.050999999,0.067000002,0.252,0.461,0.59299999,0.081,0.50800002,0.49399999,0.38600001,0.119,0.54699999,0.546,0.066,0.44800001,0.361,0.068000004,0.54000002],\"type\":\"choropleth\"}],\"name\":\"2015\"}]);\n",
       "                        }).then(function(){\n",
       "                            \n",
       "var gd = document.getElementById('4a2e70da-ed1e-4dd7-85fa-84e18843f46a');\n",
       "var x = new MutationObserver(function (mutations, observer) {{\n",
       "        var display = window.getComputedStyle(gd).display;\n",
       "        if (!display || display === 'none') {{\n",
       "            console.log([gd, 'removed!']);\n",
       "            Plotly.purge(gd);\n",
       "            observer.disconnect();\n",
       "        }}\n",
       "}});\n",
       "\n",
       "// Listen for the removal of the full notebook cells\n",
       "var notebookContainer = gd.closest('#notebook-container');\n",
       "if (notebookContainer) {{\n",
       "    x.observe(notebookContainer, {childList: true});\n",
       "}}\n",
       "\n",
       "// Listen for the clearing of the current output cell\n",
       "var outputEl = gd.closest('.output');\n",
       "if (outputEl) {{\n",
       "    x.observe(outputEl, {childList: true});\n",
       "}}\n",
       "\n",
       "                        })                };                });            </script>        </div>"
      ]
     },
     "metadata": {},
     "output_type": "display_data"
    }
   ],
   "source": [
    "fig2 = px.choropleth(map3, locations=\"Code\",\n",
    "                    color=\"Gender Inequality Index(%)\",\n",
    "                    hover_name=\"Entity\",\n",
    "                    animation_frame='Year'\n",
    "                    ,color_continuous_scale='Oranges')\n",
    "fig2.show()\n",
    "#fig2.write_html(\"Gender wage gap.html\")"
   ]
  },
  {
   "cell_type": "markdown",
   "id": "381c220d",
   "metadata": {},
   "source": [
    "## Figure 3: Decomposition of gender wage gap"
   ]
  },
  {
   "cell_type": "code",
   "execution_count": 21,
   "id": "74c9ab3d",
   "metadata": {},
   "outputs": [],
   "source": [
    "df6 = pd.read_csv(\"../../datasets/decomposition-of-the-gender-wage-gap.csv\")"
   ]
  },
  {
   "cell_type": "code",
   "execution_count": 22,
   "id": "cd158573",
   "metadata": {},
   "outputs": [
    {
     "data": {
      "application/vnd.plotly.v1+json": {
       "config": {
        "plotlyServerURL": "https://plot.ly"
       },
       "data": [
        {
         "alignmentgroup": "True",
         "hovertemplate": "Year=2010<br>Percent of gender gap=%{text}<br>Entity=%{y}<extra></extra>",
         "legendgroup": "2010",
         "marker": {
          "color": "#1F77B4",
          "pattern": {
           "shape": ""
          }
         },
         "name": "2010",
         "offsetgroup": "2010",
         "orientation": "h",
         "showlegend": true,
         "text": [
          -5.9,
          14.1,
          17.6,
          32.9,
          4.3,
          0.3,
          38,
          -1.3
         ],
         "textposition": "outside",
         "texttemplate": "%{x:.}%",
         "type": "bar",
         "x": [
          -5.9,
          14.1,
          17.6,
          32.9,
          4.3,
          0.3,
          38,
          -1.3
         ],
         "xaxis": "x",
         "y": [
          "Education",
          "Experience",
          "Industry",
          "Occupation",
          "Race",
          "Region",
          "Unexplained",
          "Unionization"
         ],
         "yaxis": "y"
        },
        {
         "alignmentgroup": "True",
         "hovertemplate": "Year=1980<br>Percent of gender gap=%{text}<br>Entity=%{y}<extra></extra>",
         "legendgroup": "1980",
         "marker": {
          "color": "#FF7F0E",
          "pattern": {
           "shape": ""
          }
         },
         "name": "1980",
         "offsetgroup": "1980",
         "orientation": "h",
         "showlegend": true,
         "text": [
          2.6,
          21.1,
          9.6,
          10.7,
          1.4,
          0,
          48.5,
          6.2
         ],
         "textposition": "outside",
         "texttemplate": "%{x:.}%",
         "type": "bar",
         "x": [
          2.6,
          21.1,
          9.6,
          10.7,
          1.4,
          0,
          48.5,
          6.2
         ],
         "xaxis": "x",
         "y": [
          "Education",
          "Experience",
          "Industry",
          "Occupation",
          "Race",
          "Region",
          "Unexplained",
          "Unionization"
         ],
         "yaxis": "y"
        }
       ],
       "layout": {
        "bargap": 0.3,
        "bargroupgap": 0,
        "barmode": "group",
        "legend": {
         "title": {
          "text": "Year"
         },
         "tracegroupgap": 0,
         "traceorder": "reversed"
        },
        "margin": {
         "t": 60
        },
        "template": {
         "data": {
          "bar": [
           {
            "error_x": {
             "color": "rgb(36,36,36)"
            },
            "error_y": {
             "color": "rgb(36,36,36)"
            },
            "marker": {
             "line": {
              "color": "white",
              "width": 0.5
             },
             "pattern": {
              "fillmode": "overlay",
              "size": 10,
              "solidity": 0.2
             }
            },
            "type": "bar"
           }
          ],
          "barpolar": [
           {
            "marker": {
             "line": {
              "color": "white",
              "width": 0.5
             },
             "pattern": {
              "fillmode": "overlay",
              "size": 10,
              "solidity": 0.2
             }
            },
            "type": "barpolar"
           }
          ],
          "carpet": [
           {
            "aaxis": {
             "endlinecolor": "rgb(36,36,36)",
             "gridcolor": "white",
             "linecolor": "white",
             "minorgridcolor": "white",
             "startlinecolor": "rgb(36,36,36)"
            },
            "baxis": {
             "endlinecolor": "rgb(36,36,36)",
             "gridcolor": "white",
             "linecolor": "white",
             "minorgridcolor": "white",
             "startlinecolor": "rgb(36,36,36)"
            },
            "type": "carpet"
           }
          ],
          "choropleth": [
           {
            "colorbar": {
             "outlinewidth": 1,
             "tickcolor": "rgb(36,36,36)",
             "ticks": "outside"
            },
            "type": "choropleth"
           }
          ],
          "contour": [
           {
            "colorbar": {
             "outlinewidth": 1,
             "tickcolor": "rgb(36,36,36)",
             "ticks": "outside"
            },
            "colorscale": [
             [
              0,
              "#440154"
             ],
             [
              0.1111111111111111,
              "#482878"
             ],
             [
              0.2222222222222222,
              "#3e4989"
             ],
             [
              0.3333333333333333,
              "#31688e"
             ],
             [
              0.4444444444444444,
              "#26828e"
             ],
             [
              0.5555555555555556,
              "#1f9e89"
             ],
             [
              0.6666666666666666,
              "#35b779"
             ],
             [
              0.7777777777777778,
              "#6ece58"
             ],
             [
              0.8888888888888888,
              "#b5de2b"
             ],
             [
              1,
              "#fde725"
             ]
            ],
            "type": "contour"
           }
          ],
          "contourcarpet": [
           {
            "colorbar": {
             "outlinewidth": 1,
             "tickcolor": "rgb(36,36,36)",
             "ticks": "outside"
            },
            "type": "contourcarpet"
           }
          ],
          "heatmap": [
           {
            "colorbar": {
             "outlinewidth": 1,
             "tickcolor": "rgb(36,36,36)",
             "ticks": "outside"
            },
            "colorscale": [
             [
              0,
              "#440154"
             ],
             [
              0.1111111111111111,
              "#482878"
             ],
             [
              0.2222222222222222,
              "#3e4989"
             ],
             [
              0.3333333333333333,
              "#31688e"
             ],
             [
              0.4444444444444444,
              "#26828e"
             ],
             [
              0.5555555555555556,
              "#1f9e89"
             ],
             [
              0.6666666666666666,
              "#35b779"
             ],
             [
              0.7777777777777778,
              "#6ece58"
             ],
             [
              0.8888888888888888,
              "#b5de2b"
             ],
             [
              1,
              "#fde725"
             ]
            ],
            "type": "heatmap"
           }
          ],
          "heatmapgl": [
           {
            "colorbar": {
             "outlinewidth": 1,
             "tickcolor": "rgb(36,36,36)",
             "ticks": "outside"
            },
            "colorscale": [
             [
              0,
              "#440154"
             ],
             [
              0.1111111111111111,
              "#482878"
             ],
             [
              0.2222222222222222,
              "#3e4989"
             ],
             [
              0.3333333333333333,
              "#31688e"
             ],
             [
              0.4444444444444444,
              "#26828e"
             ],
             [
              0.5555555555555556,
              "#1f9e89"
             ],
             [
              0.6666666666666666,
              "#35b779"
             ],
             [
              0.7777777777777778,
              "#6ece58"
             ],
             [
              0.8888888888888888,
              "#b5de2b"
             ],
             [
              1,
              "#fde725"
             ]
            ],
            "type": "heatmapgl"
           }
          ],
          "histogram": [
           {
            "marker": {
             "line": {
              "color": "white",
              "width": 0.6
             }
            },
            "type": "histogram"
           }
          ],
          "histogram2d": [
           {
            "colorbar": {
             "outlinewidth": 1,
             "tickcolor": "rgb(36,36,36)",
             "ticks": "outside"
            },
            "colorscale": [
             [
              0,
              "#440154"
             ],
             [
              0.1111111111111111,
              "#482878"
             ],
             [
              0.2222222222222222,
              "#3e4989"
             ],
             [
              0.3333333333333333,
              "#31688e"
             ],
             [
              0.4444444444444444,
              "#26828e"
             ],
             [
              0.5555555555555556,
              "#1f9e89"
             ],
             [
              0.6666666666666666,
              "#35b779"
             ],
             [
              0.7777777777777778,
              "#6ece58"
             ],
             [
              0.8888888888888888,
              "#b5de2b"
             ],
             [
              1,
              "#fde725"
             ]
            ],
            "type": "histogram2d"
           }
          ],
          "histogram2dcontour": [
           {
            "colorbar": {
             "outlinewidth": 1,
             "tickcolor": "rgb(36,36,36)",
             "ticks": "outside"
            },
            "colorscale": [
             [
              0,
              "#440154"
             ],
             [
              0.1111111111111111,
              "#482878"
             ],
             [
              0.2222222222222222,
              "#3e4989"
             ],
             [
              0.3333333333333333,
              "#31688e"
             ],
             [
              0.4444444444444444,
              "#26828e"
             ],
             [
              0.5555555555555556,
              "#1f9e89"
             ],
             [
              0.6666666666666666,
              "#35b779"
             ],
             [
              0.7777777777777778,
              "#6ece58"
             ],
             [
              0.8888888888888888,
              "#b5de2b"
             ],
             [
              1,
              "#fde725"
             ]
            ],
            "type": "histogram2dcontour"
           }
          ],
          "mesh3d": [
           {
            "colorbar": {
             "outlinewidth": 1,
             "tickcolor": "rgb(36,36,36)",
             "ticks": "outside"
            },
            "type": "mesh3d"
           }
          ],
          "parcoords": [
           {
            "line": {
             "colorbar": {
              "outlinewidth": 1,
              "tickcolor": "rgb(36,36,36)",
              "ticks": "outside"
             }
            },
            "type": "parcoords"
           }
          ],
          "pie": [
           {
            "automargin": true,
            "type": "pie"
           }
          ],
          "scatter": [
           {
            "fillpattern": {
             "fillmode": "overlay",
             "size": 10,
             "solidity": 0.2
            },
            "type": "scatter"
           }
          ],
          "scatter3d": [
           {
            "line": {
             "colorbar": {
              "outlinewidth": 1,
              "tickcolor": "rgb(36,36,36)",
              "ticks": "outside"
             }
            },
            "marker": {
             "colorbar": {
              "outlinewidth": 1,
              "tickcolor": "rgb(36,36,36)",
              "ticks": "outside"
             }
            },
            "type": "scatter3d"
           }
          ],
          "scattercarpet": [
           {
            "marker": {
             "colorbar": {
              "outlinewidth": 1,
              "tickcolor": "rgb(36,36,36)",
              "ticks": "outside"
             }
            },
            "type": "scattercarpet"
           }
          ],
          "scattergeo": [
           {
            "marker": {
             "colorbar": {
              "outlinewidth": 1,
              "tickcolor": "rgb(36,36,36)",
              "ticks": "outside"
             }
            },
            "type": "scattergeo"
           }
          ],
          "scattergl": [
           {
            "marker": {
             "colorbar": {
              "outlinewidth": 1,
              "tickcolor": "rgb(36,36,36)",
              "ticks": "outside"
             }
            },
            "type": "scattergl"
           }
          ],
          "scattermapbox": [
           {
            "marker": {
             "colorbar": {
              "outlinewidth": 1,
              "tickcolor": "rgb(36,36,36)",
              "ticks": "outside"
             }
            },
            "type": "scattermapbox"
           }
          ],
          "scatterpolar": [
           {
            "marker": {
             "colorbar": {
              "outlinewidth": 1,
              "tickcolor": "rgb(36,36,36)",
              "ticks": "outside"
             }
            },
            "type": "scatterpolar"
           }
          ],
          "scatterpolargl": [
           {
            "marker": {
             "colorbar": {
              "outlinewidth": 1,
              "tickcolor": "rgb(36,36,36)",
              "ticks": "outside"
             }
            },
            "type": "scatterpolargl"
           }
          ],
          "scatterternary": [
           {
            "marker": {
             "colorbar": {
              "outlinewidth": 1,
              "tickcolor": "rgb(36,36,36)",
              "ticks": "outside"
             }
            },
            "type": "scatterternary"
           }
          ],
          "surface": [
           {
            "colorbar": {
             "outlinewidth": 1,
             "tickcolor": "rgb(36,36,36)",
             "ticks": "outside"
            },
            "colorscale": [
             [
              0,
              "#440154"
             ],
             [
              0.1111111111111111,
              "#482878"
             ],
             [
              0.2222222222222222,
              "#3e4989"
             ],
             [
              0.3333333333333333,
              "#31688e"
             ],
             [
              0.4444444444444444,
              "#26828e"
             ],
             [
              0.5555555555555556,
              "#1f9e89"
             ],
             [
              0.6666666666666666,
              "#35b779"
             ],
             [
              0.7777777777777778,
              "#6ece58"
             ],
             [
              0.8888888888888888,
              "#b5de2b"
             ],
             [
              1,
              "#fde725"
             ]
            ],
            "type": "surface"
           }
          ],
          "table": [
           {
            "cells": {
             "fill": {
              "color": "rgb(237,237,237)"
             },
             "line": {
              "color": "white"
             }
            },
            "header": {
             "fill": {
              "color": "rgb(217,217,217)"
             },
             "line": {
              "color": "white"
             }
            },
            "type": "table"
           }
          ]
         },
         "layout": {
          "annotationdefaults": {
           "arrowhead": 0,
           "arrowwidth": 1
          },
          "autotypenumbers": "strict",
          "coloraxis": {
           "colorbar": {
            "outlinewidth": 1,
            "tickcolor": "rgb(36,36,36)",
            "ticks": "outside"
           }
          },
          "colorscale": {
           "diverging": [
            [
             0,
             "rgb(103,0,31)"
            ],
            [
             0.1,
             "rgb(178,24,43)"
            ],
            [
             0.2,
             "rgb(214,96,77)"
            ],
            [
             0.3,
             "rgb(244,165,130)"
            ],
            [
             0.4,
             "rgb(253,219,199)"
            ],
            [
             0.5,
             "rgb(247,247,247)"
            ],
            [
             0.6,
             "rgb(209,229,240)"
            ],
            [
             0.7,
             "rgb(146,197,222)"
            ],
            [
             0.8,
             "rgb(67,147,195)"
            ],
            [
             0.9,
             "rgb(33,102,172)"
            ],
            [
             1,
             "rgb(5,48,97)"
            ]
           ],
           "sequential": [
            [
             0,
             "#440154"
            ],
            [
             0.1111111111111111,
             "#482878"
            ],
            [
             0.2222222222222222,
             "#3e4989"
            ],
            [
             0.3333333333333333,
             "#31688e"
            ],
            [
             0.4444444444444444,
             "#26828e"
            ],
            [
             0.5555555555555556,
             "#1f9e89"
            ],
            [
             0.6666666666666666,
             "#35b779"
            ],
            [
             0.7777777777777778,
             "#6ece58"
            ],
            [
             0.8888888888888888,
             "#b5de2b"
            ],
            [
             1,
             "#fde725"
            ]
           ],
           "sequentialminus": [
            [
             0,
             "#440154"
            ],
            [
             0.1111111111111111,
             "#482878"
            ],
            [
             0.2222222222222222,
             "#3e4989"
            ],
            [
             0.3333333333333333,
             "#31688e"
            ],
            [
             0.4444444444444444,
             "#26828e"
            ],
            [
             0.5555555555555556,
             "#1f9e89"
            ],
            [
             0.6666666666666666,
             "#35b779"
            ],
            [
             0.7777777777777778,
             "#6ece58"
            ],
            [
             0.8888888888888888,
             "#b5de2b"
            ],
            [
             1,
             "#fde725"
            ]
           ]
          },
          "colorway": [
           "#1F77B4",
           "#FF7F0E",
           "#2CA02C",
           "#D62728",
           "#9467BD",
           "#8C564B",
           "#E377C2",
           "#7F7F7F",
           "#BCBD22",
           "#17BECF"
          ],
          "font": {
           "color": "rgb(36,36,36)"
          },
          "geo": {
           "bgcolor": "white",
           "lakecolor": "white",
           "landcolor": "white",
           "showlakes": true,
           "showland": true,
           "subunitcolor": "white"
          },
          "hoverlabel": {
           "align": "left"
          },
          "hovermode": "closest",
          "mapbox": {
           "style": "light"
          },
          "paper_bgcolor": "white",
          "plot_bgcolor": "white",
          "polar": {
           "angularaxis": {
            "gridcolor": "rgb(232,232,232)",
            "linecolor": "rgb(36,36,36)",
            "showgrid": false,
            "showline": true,
            "ticks": "outside"
           },
           "bgcolor": "white",
           "radialaxis": {
            "gridcolor": "rgb(232,232,232)",
            "linecolor": "rgb(36,36,36)",
            "showgrid": false,
            "showline": true,
            "ticks": "outside"
           }
          },
          "scene": {
           "xaxis": {
            "backgroundcolor": "white",
            "gridcolor": "rgb(232,232,232)",
            "gridwidth": 2,
            "linecolor": "rgb(36,36,36)",
            "showbackground": true,
            "showgrid": false,
            "showline": true,
            "ticks": "outside",
            "zeroline": false,
            "zerolinecolor": "rgb(36,36,36)"
           },
           "yaxis": {
            "backgroundcolor": "white",
            "gridcolor": "rgb(232,232,232)",
            "gridwidth": 2,
            "linecolor": "rgb(36,36,36)",
            "showbackground": true,
            "showgrid": false,
            "showline": true,
            "ticks": "outside",
            "zeroline": false,
            "zerolinecolor": "rgb(36,36,36)"
           },
           "zaxis": {
            "backgroundcolor": "white",
            "gridcolor": "rgb(232,232,232)",
            "gridwidth": 2,
            "linecolor": "rgb(36,36,36)",
            "showbackground": true,
            "showgrid": false,
            "showline": true,
            "ticks": "outside",
            "zeroline": false,
            "zerolinecolor": "rgb(36,36,36)"
           }
          },
          "shapedefaults": {
           "fillcolor": "black",
           "line": {
            "width": 0
           },
           "opacity": 0.3
          },
          "ternary": {
           "aaxis": {
            "gridcolor": "rgb(232,232,232)",
            "linecolor": "rgb(36,36,36)",
            "showgrid": false,
            "showline": true,
            "ticks": "outside"
           },
           "baxis": {
            "gridcolor": "rgb(232,232,232)",
            "linecolor": "rgb(36,36,36)",
            "showgrid": false,
            "showline": true,
            "ticks": "outside"
           },
           "bgcolor": "white",
           "caxis": {
            "gridcolor": "rgb(232,232,232)",
            "linecolor": "rgb(36,36,36)",
            "showgrid": false,
            "showline": true,
            "ticks": "outside"
           }
          },
          "title": {
           "x": 0.05
          },
          "xaxis": {
           "automargin": true,
           "gridcolor": "rgb(232,232,232)",
           "linecolor": "rgb(36,36,36)",
           "showgrid": false,
           "showline": true,
           "ticks": "outside",
           "title": {
            "standoff": 15
           },
           "zeroline": false,
           "zerolinecolor": "rgb(36,36,36)"
          },
          "yaxis": {
           "automargin": true,
           "gridcolor": "rgb(232,232,232)",
           "linecolor": "rgb(36,36,36)",
           "showgrid": false,
           "showline": true,
           "ticks": "outside",
           "title": {
            "standoff": 15
           },
           "zeroline": false,
           "zerolinecolor": "rgb(36,36,36)"
          }
         }
        },
        "title": {
         "text": "Decomposition of the gender wage gap from 1980 and 2010"
        },
        "xaxis": {
         "anchor": "y",
         "domain": [
          0,
          1
         ],
         "tickfont": {
          "size": 14
         },
         "title": {
          "font": {
           "size": 14
          },
          "text": "Percentages"
         }
        },
        "yaxis": {
         "anchor": "x",
         "domain": [
          0,
          1
         ],
         "tickfont": {
          "size": 14
         },
         "title": {
          "font": {
           "size": 14
          },
          "text": "Entity"
         }
        }
       }
      },
      "text/html": [
       "<div>                            <div id=\"c6034910-60c1-446e-8844-3630a890abc0\" class=\"plotly-graph-div\" style=\"height:525px; width:100%;\"></div>            <script type=\"text/javascript\">                require([\"plotly\"], function(Plotly) {                    window.PLOTLYENV=window.PLOTLYENV || {};                                    if (document.getElementById(\"c6034910-60c1-446e-8844-3630a890abc0\")) {                    Plotly.newPlot(                        \"c6034910-60c1-446e-8844-3630a890abc0\",                        [{\"alignmentgroup\":\"True\",\"hovertemplate\":\"Year=2010<br>Percent of gender gap=%{text}<br>Entity=%{y}<extra></extra>\",\"legendgroup\":\"2010\",\"marker\":{\"color\":\"#1F77B4\",\"pattern\":{\"shape\":\"\"}},\"name\":\"2010\",\"offsetgroup\":\"2010\",\"orientation\":\"h\",\"showlegend\":true,\"text\":[-5.9,14.1,17.6,32.9,4.3,0.3,38.0,-1.3],\"textposition\":\"outside\",\"x\":[-5.9,14.1,17.6,32.9,4.3,0.3,38.0,-1.3],\"xaxis\":\"x\",\"y\":[\"Education\",\"Experience\",\"Industry\",\"Occupation\",\"Race\",\"Region\",\"Unexplained\",\"Unionization\"],\"yaxis\":\"y\",\"type\":\"bar\",\"texttemplate\":\"%{x:.}%\"},{\"alignmentgroup\":\"True\",\"hovertemplate\":\"Year=1980<br>Percent of gender gap=%{text}<br>Entity=%{y}<extra></extra>\",\"legendgroup\":\"1980\",\"marker\":{\"color\":\"#FF7F0E\",\"pattern\":{\"shape\":\"\"}},\"name\":\"1980\",\"offsetgroup\":\"1980\",\"orientation\":\"h\",\"showlegend\":true,\"text\":[2.6,21.1,9.6,10.7,1.4,0.0,48.5,6.2],\"textposition\":\"outside\",\"x\":[2.6,21.1,9.6,10.7,1.4,0.0,48.5,6.2],\"xaxis\":\"x\",\"y\":[\"Education\",\"Experience\",\"Industry\",\"Occupation\",\"Race\",\"Region\",\"Unexplained\",\"Unionization\"],\"yaxis\":\"y\",\"type\":\"bar\",\"texttemplate\":\"%{x:.}%\"}],                        {\"template\":{\"data\":{\"barpolar\":[{\"marker\":{\"line\":{\"color\":\"white\",\"width\":0.5},\"pattern\":{\"fillmode\":\"overlay\",\"size\":10,\"solidity\":0.2}},\"type\":\"barpolar\"}],\"bar\":[{\"error_x\":{\"color\":\"rgb(36,36,36)\"},\"error_y\":{\"color\":\"rgb(36,36,36)\"},\"marker\":{\"line\":{\"color\":\"white\",\"width\":0.5},\"pattern\":{\"fillmode\":\"overlay\",\"size\":10,\"solidity\":0.2}},\"type\":\"bar\"}],\"carpet\":[{\"aaxis\":{\"endlinecolor\":\"rgb(36,36,36)\",\"gridcolor\":\"white\",\"linecolor\":\"white\",\"minorgridcolor\":\"white\",\"startlinecolor\":\"rgb(36,36,36)\"},\"baxis\":{\"endlinecolor\":\"rgb(36,36,36)\",\"gridcolor\":\"white\",\"linecolor\":\"white\",\"minorgridcolor\":\"white\",\"startlinecolor\":\"rgb(36,36,36)\"},\"type\":\"carpet\"}],\"choropleth\":[{\"colorbar\":{\"outlinewidth\":1,\"tickcolor\":\"rgb(36,36,36)\",\"ticks\":\"outside\"},\"type\":\"choropleth\"}],\"contourcarpet\":[{\"colorbar\":{\"outlinewidth\":1,\"tickcolor\":\"rgb(36,36,36)\",\"ticks\":\"outside\"},\"type\":\"contourcarpet\"}],\"contour\":[{\"colorbar\":{\"outlinewidth\":1,\"tickcolor\":\"rgb(36,36,36)\",\"ticks\":\"outside\"},\"colorscale\":[[0.0,\"#440154\"],[0.1111111111111111,\"#482878\"],[0.2222222222222222,\"#3e4989\"],[0.3333333333333333,\"#31688e\"],[0.4444444444444444,\"#26828e\"],[0.5555555555555556,\"#1f9e89\"],[0.6666666666666666,\"#35b779\"],[0.7777777777777778,\"#6ece58\"],[0.8888888888888888,\"#b5de2b\"],[1.0,\"#fde725\"]],\"type\":\"contour\"}],\"heatmapgl\":[{\"colorbar\":{\"outlinewidth\":1,\"tickcolor\":\"rgb(36,36,36)\",\"ticks\":\"outside\"},\"colorscale\":[[0.0,\"#440154\"],[0.1111111111111111,\"#482878\"],[0.2222222222222222,\"#3e4989\"],[0.3333333333333333,\"#31688e\"],[0.4444444444444444,\"#26828e\"],[0.5555555555555556,\"#1f9e89\"],[0.6666666666666666,\"#35b779\"],[0.7777777777777778,\"#6ece58\"],[0.8888888888888888,\"#b5de2b\"],[1.0,\"#fde725\"]],\"type\":\"heatmapgl\"}],\"heatmap\":[{\"colorbar\":{\"outlinewidth\":1,\"tickcolor\":\"rgb(36,36,36)\",\"ticks\":\"outside\"},\"colorscale\":[[0.0,\"#440154\"],[0.1111111111111111,\"#482878\"],[0.2222222222222222,\"#3e4989\"],[0.3333333333333333,\"#31688e\"],[0.4444444444444444,\"#26828e\"],[0.5555555555555556,\"#1f9e89\"],[0.6666666666666666,\"#35b779\"],[0.7777777777777778,\"#6ece58\"],[0.8888888888888888,\"#b5de2b\"],[1.0,\"#fde725\"]],\"type\":\"heatmap\"}],\"histogram2dcontour\":[{\"colorbar\":{\"outlinewidth\":1,\"tickcolor\":\"rgb(36,36,36)\",\"ticks\":\"outside\"},\"colorscale\":[[0.0,\"#440154\"],[0.1111111111111111,\"#482878\"],[0.2222222222222222,\"#3e4989\"],[0.3333333333333333,\"#31688e\"],[0.4444444444444444,\"#26828e\"],[0.5555555555555556,\"#1f9e89\"],[0.6666666666666666,\"#35b779\"],[0.7777777777777778,\"#6ece58\"],[0.8888888888888888,\"#b5de2b\"],[1.0,\"#fde725\"]],\"type\":\"histogram2dcontour\"}],\"histogram2d\":[{\"colorbar\":{\"outlinewidth\":1,\"tickcolor\":\"rgb(36,36,36)\",\"ticks\":\"outside\"},\"colorscale\":[[0.0,\"#440154\"],[0.1111111111111111,\"#482878\"],[0.2222222222222222,\"#3e4989\"],[0.3333333333333333,\"#31688e\"],[0.4444444444444444,\"#26828e\"],[0.5555555555555556,\"#1f9e89\"],[0.6666666666666666,\"#35b779\"],[0.7777777777777778,\"#6ece58\"],[0.8888888888888888,\"#b5de2b\"],[1.0,\"#fde725\"]],\"type\":\"histogram2d\"}],\"histogram\":[{\"marker\":{\"line\":{\"color\":\"white\",\"width\":0.6}},\"type\":\"histogram\"}],\"mesh3d\":[{\"colorbar\":{\"outlinewidth\":1,\"tickcolor\":\"rgb(36,36,36)\",\"ticks\":\"outside\"},\"type\":\"mesh3d\"}],\"parcoords\":[{\"line\":{\"colorbar\":{\"outlinewidth\":1,\"tickcolor\":\"rgb(36,36,36)\",\"ticks\":\"outside\"}},\"type\":\"parcoords\"}],\"pie\":[{\"automargin\":true,\"type\":\"pie\"}],\"scatter3d\":[{\"line\":{\"colorbar\":{\"outlinewidth\":1,\"tickcolor\":\"rgb(36,36,36)\",\"ticks\":\"outside\"}},\"marker\":{\"colorbar\":{\"outlinewidth\":1,\"tickcolor\":\"rgb(36,36,36)\",\"ticks\":\"outside\"}},\"type\":\"scatter3d\"}],\"scattercarpet\":[{\"marker\":{\"colorbar\":{\"outlinewidth\":1,\"tickcolor\":\"rgb(36,36,36)\",\"ticks\":\"outside\"}},\"type\":\"scattercarpet\"}],\"scattergeo\":[{\"marker\":{\"colorbar\":{\"outlinewidth\":1,\"tickcolor\":\"rgb(36,36,36)\",\"ticks\":\"outside\"}},\"type\":\"scattergeo\"}],\"scattergl\":[{\"marker\":{\"colorbar\":{\"outlinewidth\":1,\"tickcolor\":\"rgb(36,36,36)\",\"ticks\":\"outside\"}},\"type\":\"scattergl\"}],\"scattermapbox\":[{\"marker\":{\"colorbar\":{\"outlinewidth\":1,\"tickcolor\":\"rgb(36,36,36)\",\"ticks\":\"outside\"}},\"type\":\"scattermapbox\"}],\"scatterpolargl\":[{\"marker\":{\"colorbar\":{\"outlinewidth\":1,\"tickcolor\":\"rgb(36,36,36)\",\"ticks\":\"outside\"}},\"type\":\"scatterpolargl\"}],\"scatterpolar\":[{\"marker\":{\"colorbar\":{\"outlinewidth\":1,\"tickcolor\":\"rgb(36,36,36)\",\"ticks\":\"outside\"}},\"type\":\"scatterpolar\"}],\"scatter\":[{\"fillpattern\":{\"fillmode\":\"overlay\",\"size\":10,\"solidity\":0.2},\"type\":\"scatter\"}],\"scatterternary\":[{\"marker\":{\"colorbar\":{\"outlinewidth\":1,\"tickcolor\":\"rgb(36,36,36)\",\"ticks\":\"outside\"}},\"type\":\"scatterternary\"}],\"surface\":[{\"colorbar\":{\"outlinewidth\":1,\"tickcolor\":\"rgb(36,36,36)\",\"ticks\":\"outside\"},\"colorscale\":[[0.0,\"#440154\"],[0.1111111111111111,\"#482878\"],[0.2222222222222222,\"#3e4989\"],[0.3333333333333333,\"#31688e\"],[0.4444444444444444,\"#26828e\"],[0.5555555555555556,\"#1f9e89\"],[0.6666666666666666,\"#35b779\"],[0.7777777777777778,\"#6ece58\"],[0.8888888888888888,\"#b5de2b\"],[1.0,\"#fde725\"]],\"type\":\"surface\"}],\"table\":[{\"cells\":{\"fill\":{\"color\":\"rgb(237,237,237)\"},\"line\":{\"color\":\"white\"}},\"header\":{\"fill\":{\"color\":\"rgb(217,217,217)\"},\"line\":{\"color\":\"white\"}},\"type\":\"table\"}]},\"layout\":{\"annotationdefaults\":{\"arrowhead\":0,\"arrowwidth\":1},\"autotypenumbers\":\"strict\",\"coloraxis\":{\"colorbar\":{\"outlinewidth\":1,\"tickcolor\":\"rgb(36,36,36)\",\"ticks\":\"outside\"}},\"colorscale\":{\"diverging\":[[0.0,\"rgb(103,0,31)\"],[0.1,\"rgb(178,24,43)\"],[0.2,\"rgb(214,96,77)\"],[0.3,\"rgb(244,165,130)\"],[0.4,\"rgb(253,219,199)\"],[0.5,\"rgb(247,247,247)\"],[0.6,\"rgb(209,229,240)\"],[0.7,\"rgb(146,197,222)\"],[0.8,\"rgb(67,147,195)\"],[0.9,\"rgb(33,102,172)\"],[1.0,\"rgb(5,48,97)\"]],\"sequential\":[[0.0,\"#440154\"],[0.1111111111111111,\"#482878\"],[0.2222222222222222,\"#3e4989\"],[0.3333333333333333,\"#31688e\"],[0.4444444444444444,\"#26828e\"],[0.5555555555555556,\"#1f9e89\"],[0.6666666666666666,\"#35b779\"],[0.7777777777777778,\"#6ece58\"],[0.8888888888888888,\"#b5de2b\"],[1.0,\"#fde725\"]],\"sequentialminus\":[[0.0,\"#440154\"],[0.1111111111111111,\"#482878\"],[0.2222222222222222,\"#3e4989\"],[0.3333333333333333,\"#31688e\"],[0.4444444444444444,\"#26828e\"],[0.5555555555555556,\"#1f9e89\"],[0.6666666666666666,\"#35b779\"],[0.7777777777777778,\"#6ece58\"],[0.8888888888888888,\"#b5de2b\"],[1.0,\"#fde725\"]]},\"colorway\":[\"#1F77B4\",\"#FF7F0E\",\"#2CA02C\",\"#D62728\",\"#9467BD\",\"#8C564B\",\"#E377C2\",\"#7F7F7F\",\"#BCBD22\",\"#17BECF\"],\"font\":{\"color\":\"rgb(36,36,36)\"},\"geo\":{\"bgcolor\":\"white\",\"lakecolor\":\"white\",\"landcolor\":\"white\",\"showlakes\":true,\"showland\":true,\"subunitcolor\":\"white\"},\"hoverlabel\":{\"align\":\"left\"},\"hovermode\":\"closest\",\"mapbox\":{\"style\":\"light\"},\"paper_bgcolor\":\"white\",\"plot_bgcolor\":\"white\",\"polar\":{\"angularaxis\":{\"gridcolor\":\"rgb(232,232,232)\",\"linecolor\":\"rgb(36,36,36)\",\"showgrid\":false,\"showline\":true,\"ticks\":\"outside\"},\"bgcolor\":\"white\",\"radialaxis\":{\"gridcolor\":\"rgb(232,232,232)\",\"linecolor\":\"rgb(36,36,36)\",\"showgrid\":false,\"showline\":true,\"ticks\":\"outside\"}},\"scene\":{\"xaxis\":{\"backgroundcolor\":\"white\",\"gridcolor\":\"rgb(232,232,232)\",\"gridwidth\":2,\"linecolor\":\"rgb(36,36,36)\",\"showbackground\":true,\"showgrid\":false,\"showline\":true,\"ticks\":\"outside\",\"zeroline\":false,\"zerolinecolor\":\"rgb(36,36,36)\"},\"yaxis\":{\"backgroundcolor\":\"white\",\"gridcolor\":\"rgb(232,232,232)\",\"gridwidth\":2,\"linecolor\":\"rgb(36,36,36)\",\"showbackground\":true,\"showgrid\":false,\"showline\":true,\"ticks\":\"outside\",\"zeroline\":false,\"zerolinecolor\":\"rgb(36,36,36)\"},\"zaxis\":{\"backgroundcolor\":\"white\",\"gridcolor\":\"rgb(232,232,232)\",\"gridwidth\":2,\"linecolor\":\"rgb(36,36,36)\",\"showbackground\":true,\"showgrid\":false,\"showline\":true,\"ticks\":\"outside\",\"zeroline\":false,\"zerolinecolor\":\"rgb(36,36,36)\"}},\"shapedefaults\":{\"fillcolor\":\"black\",\"line\":{\"width\":0},\"opacity\":0.3},\"ternary\":{\"aaxis\":{\"gridcolor\":\"rgb(232,232,232)\",\"linecolor\":\"rgb(36,36,36)\",\"showgrid\":false,\"showline\":true,\"ticks\":\"outside\"},\"baxis\":{\"gridcolor\":\"rgb(232,232,232)\",\"linecolor\":\"rgb(36,36,36)\",\"showgrid\":false,\"showline\":true,\"ticks\":\"outside\"},\"bgcolor\":\"white\",\"caxis\":{\"gridcolor\":\"rgb(232,232,232)\",\"linecolor\":\"rgb(36,36,36)\",\"showgrid\":false,\"showline\":true,\"ticks\":\"outside\"}},\"title\":{\"x\":0.05},\"xaxis\":{\"automargin\":true,\"gridcolor\":\"rgb(232,232,232)\",\"linecolor\":\"rgb(36,36,36)\",\"showgrid\":false,\"showline\":true,\"ticks\":\"outside\",\"title\":{\"standoff\":15},\"zeroline\":false,\"zerolinecolor\":\"rgb(36,36,36)\"},\"yaxis\":{\"automargin\":true,\"gridcolor\":\"rgb(232,232,232)\",\"linecolor\":\"rgb(36,36,36)\",\"showgrid\":false,\"showline\":true,\"ticks\":\"outside\",\"title\":{\"standoff\":15},\"zeroline\":false,\"zerolinecolor\":\"rgb(36,36,36)\"}}},\"xaxis\":{\"anchor\":\"y\",\"domain\":[0.0,1.0],\"title\":{\"text\":\"Percentages\",\"font\":{\"size\":14}},\"tickfont\":{\"size\":14}},\"yaxis\":{\"anchor\":\"x\",\"domain\":[0.0,1.0],\"title\":{\"text\":\"Entity\",\"font\":{\"size\":14}},\"tickfont\":{\"size\":14}},\"legend\":{\"title\":{\"text\":\"Year\"},\"tracegroupgap\":0,\"traceorder\":\"reversed\"},\"margin\":{\"t\":60},\"barmode\":\"group\",\"title\":{\"text\":\"Decomposition of the gender wage gap from 1980 and 2010\"},\"bargap\":0.3,\"bargroupgap\":0.0},                        {\"responsive\": true}                    ).then(function(){\n",
       "                            \n",
       "var gd = document.getElementById('c6034910-60c1-446e-8844-3630a890abc0');\n",
       "var x = new MutationObserver(function (mutations, observer) {{\n",
       "        var display = window.getComputedStyle(gd).display;\n",
       "        if (!display || display === 'none') {{\n",
       "            console.log([gd, 'removed!']);\n",
       "            Plotly.purge(gd);\n",
       "            observer.disconnect();\n",
       "        }}\n",
       "}});\n",
       "\n",
       "// Listen for the removal of the full notebook cells\n",
       "var notebookContainer = gd.closest('#notebook-container');\n",
       "if (notebookContainer) {{\n",
       "    x.observe(notebookContainer, {childList: true});\n",
       "}}\n",
       "\n",
       "// Listen for the clearing of the current output cell\n",
       "var outputEl = gd.closest('.output');\n",
       "if (outputEl) {{\n",
       "    x.observe(outputEl, {childList: true});\n",
       "}}\n",
       "\n",
       "                        })                };                });            </script>        </div>"
      ]
     },
     "metadata": {},
     "output_type": "display_data"
    }
   ],
   "source": [
    "df6['Year'] = df6['Year'].astype(str)\n",
    "fig3 = px.bar(df6, y=\"Entity\", x=\"Percent of gender gap\", color='Year',\n",
    "             barmode=\"group\",template=\"simple_white\",\n",
    "             orientation=\"h\",text=\"Percent of gender gap\")\n",
    "fig3.update_layout(\n",
    "    title='Decomposition of the gender wage gap from 1980 and 2010',\n",
    "    xaxis_tickfont_size=14,\n",
    "    xaxis=dict(\n",
    "        title='Percentages',\n",
    "        titlefont_size=14,\n",
    "        tickfont_size=14,\n",
    "    ),\n",
    "    yaxis=dict(\n",
    "        title='Entity',\n",
    "        titlefont_size=14,\n",
    "        tickfont_size=14,\n",
    "    ))\n",
    "\n",
    "fig3.update_layout(barmode='group', bargap=0.3,bargroupgap=0.0)\n",
    "fig3.update_traces(textposition='outside',\n",
    "            texttemplate = \"%{x:.}%\")\n",
    "fig3.update_layout(legend_traceorder=\"reversed\")\n",
    "fig3.show()\n",
    "#fig3.write_html(\"Bar chart for gender pap in%.html\")"
   ]
  },
  {
   "cell_type": "markdown",
   "id": "38e8b371",
   "metadata": {},
   "source": [
    "## Figure 4: Gender Wage disparity with Age"
   ]
  },
  {
   "cell_type": "code",
   "execution_count": 23,
   "id": "abc77690",
   "metadata": {},
   "outputs": [],
   "source": [
    "df11 =  pd.read_excel('../../datasets/pay gap with age.xlsx')"
   ]
  },
  {
   "cell_type": "code",
   "execution_count": 24,
   "id": "66a5f298",
   "metadata": {},
   "outputs": [
    {
     "data": {
      "application/vnd.plotly.v1+json": {
       "config": {
        "plotlyServerURL": "https://plot.ly"
       },
       "data": [
        {
         "hovertemplate": "Gap Type=Controlled Pay Gap<br>Ages=%{x}<br>Gap=%{text}<extra></extra>",
         "legendgroup": "Controlled Pay Gap",
         "line": {
          "color": "Orange",
          "dash": "solid"
         },
         "marker": {
          "symbol": "circle"
         },
         "mode": "text+markers+lines",
         "name": "Controlled Pay Gap",
         "orientation": "v",
         "showlegend": true,
         "text": [
          1,
          0.98,
          0.98
         ],
         "textposition": "bottom left",
         "type": "scatter",
         "x": [
          "20-29",
          "30-44",
          "45+"
         ],
         "xaxis": "x",
         "y": [
          1,
          0.98,
          0.98
         ],
         "yaxis": "y"
        },
        {
         "hovertemplate": "Gap Type=Uncontrolled Pay Gap<br>Ages=%{x}<br>Gap=%{text}<extra></extra>",
         "legendgroup": "Uncontrolled Pay Gap",
         "line": {
          "color": "Blue",
          "dash": "solid"
         },
         "marker": {
          "symbol": "diamond"
         },
         "mode": "text+markers+lines",
         "name": "Uncontrolled Pay Gap",
         "orientation": "v",
         "showlegend": true,
         "text": [
          0.86,
          0.82,
          0.73
         ],
         "textposition": "bottom left",
         "type": "scatter",
         "x": [
          "20-29",
          "30-44",
          "45+"
         ],
         "xaxis": "x",
         "y": [
          0.86,
          0.82,
          0.73
         ],
         "yaxis": "y"
        }
       ],
       "layout": {
        "legend": {
         "title": {
          "text": "Gap Type"
         },
         "tracegroupgap": 0
        },
        "template": {
         "data": {
          "bar": [
           {
            "error_x": {
             "color": "rgb(36,36,36)"
            },
            "error_y": {
             "color": "rgb(36,36,36)"
            },
            "marker": {
             "line": {
              "color": "white",
              "width": 0.5
             },
             "pattern": {
              "fillmode": "overlay",
              "size": 10,
              "solidity": 0.2
             }
            },
            "type": "bar"
           }
          ],
          "barpolar": [
           {
            "marker": {
             "line": {
              "color": "white",
              "width": 0.5
             },
             "pattern": {
              "fillmode": "overlay",
              "size": 10,
              "solidity": 0.2
             }
            },
            "type": "barpolar"
           }
          ],
          "carpet": [
           {
            "aaxis": {
             "endlinecolor": "rgb(36,36,36)",
             "gridcolor": "white",
             "linecolor": "white",
             "minorgridcolor": "white",
             "startlinecolor": "rgb(36,36,36)"
            },
            "baxis": {
             "endlinecolor": "rgb(36,36,36)",
             "gridcolor": "white",
             "linecolor": "white",
             "minorgridcolor": "white",
             "startlinecolor": "rgb(36,36,36)"
            },
            "type": "carpet"
           }
          ],
          "choropleth": [
           {
            "colorbar": {
             "outlinewidth": 1,
             "tickcolor": "rgb(36,36,36)",
             "ticks": "outside"
            },
            "type": "choropleth"
           }
          ],
          "contour": [
           {
            "colorbar": {
             "outlinewidth": 1,
             "tickcolor": "rgb(36,36,36)",
             "ticks": "outside"
            },
            "colorscale": [
             [
              0,
              "#440154"
             ],
             [
              0.1111111111111111,
              "#482878"
             ],
             [
              0.2222222222222222,
              "#3e4989"
             ],
             [
              0.3333333333333333,
              "#31688e"
             ],
             [
              0.4444444444444444,
              "#26828e"
             ],
             [
              0.5555555555555556,
              "#1f9e89"
             ],
             [
              0.6666666666666666,
              "#35b779"
             ],
             [
              0.7777777777777778,
              "#6ece58"
             ],
             [
              0.8888888888888888,
              "#b5de2b"
             ],
             [
              1,
              "#fde725"
             ]
            ],
            "type": "contour"
           }
          ],
          "contourcarpet": [
           {
            "colorbar": {
             "outlinewidth": 1,
             "tickcolor": "rgb(36,36,36)",
             "ticks": "outside"
            },
            "type": "contourcarpet"
           }
          ],
          "heatmap": [
           {
            "colorbar": {
             "outlinewidth": 1,
             "tickcolor": "rgb(36,36,36)",
             "ticks": "outside"
            },
            "colorscale": [
             [
              0,
              "#440154"
             ],
             [
              0.1111111111111111,
              "#482878"
             ],
             [
              0.2222222222222222,
              "#3e4989"
             ],
             [
              0.3333333333333333,
              "#31688e"
             ],
             [
              0.4444444444444444,
              "#26828e"
             ],
             [
              0.5555555555555556,
              "#1f9e89"
             ],
             [
              0.6666666666666666,
              "#35b779"
             ],
             [
              0.7777777777777778,
              "#6ece58"
             ],
             [
              0.8888888888888888,
              "#b5de2b"
             ],
             [
              1,
              "#fde725"
             ]
            ],
            "type": "heatmap"
           }
          ],
          "heatmapgl": [
           {
            "colorbar": {
             "outlinewidth": 1,
             "tickcolor": "rgb(36,36,36)",
             "ticks": "outside"
            },
            "colorscale": [
             [
              0,
              "#440154"
             ],
             [
              0.1111111111111111,
              "#482878"
             ],
             [
              0.2222222222222222,
              "#3e4989"
             ],
             [
              0.3333333333333333,
              "#31688e"
             ],
             [
              0.4444444444444444,
              "#26828e"
             ],
             [
              0.5555555555555556,
              "#1f9e89"
             ],
             [
              0.6666666666666666,
              "#35b779"
             ],
             [
              0.7777777777777778,
              "#6ece58"
             ],
             [
              0.8888888888888888,
              "#b5de2b"
             ],
             [
              1,
              "#fde725"
             ]
            ],
            "type": "heatmapgl"
           }
          ],
          "histogram": [
           {
            "marker": {
             "line": {
              "color": "white",
              "width": 0.6
             }
            },
            "type": "histogram"
           }
          ],
          "histogram2d": [
           {
            "colorbar": {
             "outlinewidth": 1,
             "tickcolor": "rgb(36,36,36)",
             "ticks": "outside"
            },
            "colorscale": [
             [
              0,
              "#440154"
             ],
             [
              0.1111111111111111,
              "#482878"
             ],
             [
              0.2222222222222222,
              "#3e4989"
             ],
             [
              0.3333333333333333,
              "#31688e"
             ],
             [
              0.4444444444444444,
              "#26828e"
             ],
             [
              0.5555555555555556,
              "#1f9e89"
             ],
             [
              0.6666666666666666,
              "#35b779"
             ],
             [
              0.7777777777777778,
              "#6ece58"
             ],
             [
              0.8888888888888888,
              "#b5de2b"
             ],
             [
              1,
              "#fde725"
             ]
            ],
            "type": "histogram2d"
           }
          ],
          "histogram2dcontour": [
           {
            "colorbar": {
             "outlinewidth": 1,
             "tickcolor": "rgb(36,36,36)",
             "ticks": "outside"
            },
            "colorscale": [
             [
              0,
              "#440154"
             ],
             [
              0.1111111111111111,
              "#482878"
             ],
             [
              0.2222222222222222,
              "#3e4989"
             ],
             [
              0.3333333333333333,
              "#31688e"
             ],
             [
              0.4444444444444444,
              "#26828e"
             ],
             [
              0.5555555555555556,
              "#1f9e89"
             ],
             [
              0.6666666666666666,
              "#35b779"
             ],
             [
              0.7777777777777778,
              "#6ece58"
             ],
             [
              0.8888888888888888,
              "#b5de2b"
             ],
             [
              1,
              "#fde725"
             ]
            ],
            "type": "histogram2dcontour"
           }
          ],
          "mesh3d": [
           {
            "colorbar": {
             "outlinewidth": 1,
             "tickcolor": "rgb(36,36,36)",
             "ticks": "outside"
            },
            "type": "mesh3d"
           }
          ],
          "parcoords": [
           {
            "line": {
             "colorbar": {
              "outlinewidth": 1,
              "tickcolor": "rgb(36,36,36)",
              "ticks": "outside"
             }
            },
            "type": "parcoords"
           }
          ],
          "pie": [
           {
            "automargin": true,
            "type": "pie"
           }
          ],
          "scatter": [
           {
            "fillpattern": {
             "fillmode": "overlay",
             "size": 10,
             "solidity": 0.2
            },
            "type": "scatter"
           }
          ],
          "scatter3d": [
           {
            "line": {
             "colorbar": {
              "outlinewidth": 1,
              "tickcolor": "rgb(36,36,36)",
              "ticks": "outside"
             }
            },
            "marker": {
             "colorbar": {
              "outlinewidth": 1,
              "tickcolor": "rgb(36,36,36)",
              "ticks": "outside"
             }
            },
            "type": "scatter3d"
           }
          ],
          "scattercarpet": [
           {
            "marker": {
             "colorbar": {
              "outlinewidth": 1,
              "tickcolor": "rgb(36,36,36)",
              "ticks": "outside"
             }
            },
            "type": "scattercarpet"
           }
          ],
          "scattergeo": [
           {
            "marker": {
             "colorbar": {
              "outlinewidth": 1,
              "tickcolor": "rgb(36,36,36)",
              "ticks": "outside"
             }
            },
            "type": "scattergeo"
           }
          ],
          "scattergl": [
           {
            "marker": {
             "colorbar": {
              "outlinewidth": 1,
              "tickcolor": "rgb(36,36,36)",
              "ticks": "outside"
             }
            },
            "type": "scattergl"
           }
          ],
          "scattermapbox": [
           {
            "marker": {
             "colorbar": {
              "outlinewidth": 1,
              "tickcolor": "rgb(36,36,36)",
              "ticks": "outside"
             }
            },
            "type": "scattermapbox"
           }
          ],
          "scatterpolar": [
           {
            "marker": {
             "colorbar": {
              "outlinewidth": 1,
              "tickcolor": "rgb(36,36,36)",
              "ticks": "outside"
             }
            },
            "type": "scatterpolar"
           }
          ],
          "scatterpolargl": [
           {
            "marker": {
             "colorbar": {
              "outlinewidth": 1,
              "tickcolor": "rgb(36,36,36)",
              "ticks": "outside"
             }
            },
            "type": "scatterpolargl"
           }
          ],
          "scatterternary": [
           {
            "marker": {
             "colorbar": {
              "outlinewidth": 1,
              "tickcolor": "rgb(36,36,36)",
              "ticks": "outside"
             }
            },
            "type": "scatterternary"
           }
          ],
          "surface": [
           {
            "colorbar": {
             "outlinewidth": 1,
             "tickcolor": "rgb(36,36,36)",
             "ticks": "outside"
            },
            "colorscale": [
             [
              0,
              "#440154"
             ],
             [
              0.1111111111111111,
              "#482878"
             ],
             [
              0.2222222222222222,
              "#3e4989"
             ],
             [
              0.3333333333333333,
              "#31688e"
             ],
             [
              0.4444444444444444,
              "#26828e"
             ],
             [
              0.5555555555555556,
              "#1f9e89"
             ],
             [
              0.6666666666666666,
              "#35b779"
             ],
             [
              0.7777777777777778,
              "#6ece58"
             ],
             [
              0.8888888888888888,
              "#b5de2b"
             ],
             [
              1,
              "#fde725"
             ]
            ],
            "type": "surface"
           }
          ],
          "table": [
           {
            "cells": {
             "fill": {
              "color": "rgb(237,237,237)"
             },
             "line": {
              "color": "white"
             }
            },
            "header": {
             "fill": {
              "color": "rgb(217,217,217)"
             },
             "line": {
              "color": "white"
             }
            },
            "type": "table"
           }
          ]
         },
         "layout": {
          "annotationdefaults": {
           "arrowhead": 0,
           "arrowwidth": 1
          },
          "autotypenumbers": "strict",
          "coloraxis": {
           "colorbar": {
            "outlinewidth": 1,
            "tickcolor": "rgb(36,36,36)",
            "ticks": "outside"
           }
          },
          "colorscale": {
           "diverging": [
            [
             0,
             "rgb(103,0,31)"
            ],
            [
             0.1,
             "rgb(178,24,43)"
            ],
            [
             0.2,
             "rgb(214,96,77)"
            ],
            [
             0.3,
             "rgb(244,165,130)"
            ],
            [
             0.4,
             "rgb(253,219,199)"
            ],
            [
             0.5,
             "rgb(247,247,247)"
            ],
            [
             0.6,
             "rgb(209,229,240)"
            ],
            [
             0.7,
             "rgb(146,197,222)"
            ],
            [
             0.8,
             "rgb(67,147,195)"
            ],
            [
             0.9,
             "rgb(33,102,172)"
            ],
            [
             1,
             "rgb(5,48,97)"
            ]
           ],
           "sequential": [
            [
             0,
             "#440154"
            ],
            [
             0.1111111111111111,
             "#482878"
            ],
            [
             0.2222222222222222,
             "#3e4989"
            ],
            [
             0.3333333333333333,
             "#31688e"
            ],
            [
             0.4444444444444444,
             "#26828e"
            ],
            [
             0.5555555555555556,
             "#1f9e89"
            ],
            [
             0.6666666666666666,
             "#35b779"
            ],
            [
             0.7777777777777778,
             "#6ece58"
            ],
            [
             0.8888888888888888,
             "#b5de2b"
            ],
            [
             1,
             "#fde725"
            ]
           ],
           "sequentialminus": [
            [
             0,
             "#440154"
            ],
            [
             0.1111111111111111,
             "#482878"
            ],
            [
             0.2222222222222222,
             "#3e4989"
            ],
            [
             0.3333333333333333,
             "#31688e"
            ],
            [
             0.4444444444444444,
             "#26828e"
            ],
            [
             0.5555555555555556,
             "#1f9e89"
            ],
            [
             0.6666666666666666,
             "#35b779"
            ],
            [
             0.7777777777777778,
             "#6ece58"
            ],
            [
             0.8888888888888888,
             "#b5de2b"
            ],
            [
             1,
             "#fde725"
            ]
           ]
          },
          "colorway": [
           "#1F77B4",
           "#FF7F0E",
           "#2CA02C",
           "#D62728",
           "#9467BD",
           "#8C564B",
           "#E377C2",
           "#7F7F7F",
           "#BCBD22",
           "#17BECF"
          ],
          "font": {
           "color": "rgb(36,36,36)"
          },
          "geo": {
           "bgcolor": "white",
           "lakecolor": "white",
           "landcolor": "white",
           "showlakes": true,
           "showland": true,
           "subunitcolor": "white"
          },
          "hoverlabel": {
           "align": "left"
          },
          "hovermode": "closest",
          "mapbox": {
           "style": "light"
          },
          "paper_bgcolor": "white",
          "plot_bgcolor": "white",
          "polar": {
           "angularaxis": {
            "gridcolor": "rgb(232,232,232)",
            "linecolor": "rgb(36,36,36)",
            "showgrid": false,
            "showline": true,
            "ticks": "outside"
           },
           "bgcolor": "white",
           "radialaxis": {
            "gridcolor": "rgb(232,232,232)",
            "linecolor": "rgb(36,36,36)",
            "showgrid": false,
            "showline": true,
            "ticks": "outside"
           }
          },
          "scene": {
           "xaxis": {
            "backgroundcolor": "white",
            "gridcolor": "rgb(232,232,232)",
            "gridwidth": 2,
            "linecolor": "rgb(36,36,36)",
            "showbackground": true,
            "showgrid": false,
            "showline": true,
            "ticks": "outside",
            "zeroline": false,
            "zerolinecolor": "rgb(36,36,36)"
           },
           "yaxis": {
            "backgroundcolor": "white",
            "gridcolor": "rgb(232,232,232)",
            "gridwidth": 2,
            "linecolor": "rgb(36,36,36)",
            "showbackground": true,
            "showgrid": false,
            "showline": true,
            "ticks": "outside",
            "zeroline": false,
            "zerolinecolor": "rgb(36,36,36)"
           },
           "zaxis": {
            "backgroundcolor": "white",
            "gridcolor": "rgb(232,232,232)",
            "gridwidth": 2,
            "linecolor": "rgb(36,36,36)",
            "showbackground": true,
            "showgrid": false,
            "showline": true,
            "ticks": "outside",
            "zeroline": false,
            "zerolinecolor": "rgb(36,36,36)"
           }
          },
          "shapedefaults": {
           "fillcolor": "black",
           "line": {
            "width": 0
           },
           "opacity": 0.3
          },
          "ternary": {
           "aaxis": {
            "gridcolor": "rgb(232,232,232)",
            "linecolor": "rgb(36,36,36)",
            "showgrid": false,
            "showline": true,
            "ticks": "outside"
           },
           "baxis": {
            "gridcolor": "rgb(232,232,232)",
            "linecolor": "rgb(36,36,36)",
            "showgrid": false,
            "showline": true,
            "ticks": "outside"
           },
           "bgcolor": "white",
           "caxis": {
            "gridcolor": "rgb(232,232,232)",
            "linecolor": "rgb(36,36,36)",
            "showgrid": false,
            "showline": true,
            "ticks": "outside"
           }
          },
          "title": {
           "x": 0.05
          },
          "xaxis": {
           "automargin": true,
           "gridcolor": "rgb(232,232,232)",
           "linecolor": "rgb(36,36,36)",
           "showgrid": false,
           "showline": true,
           "ticks": "outside",
           "title": {
            "standoff": 15
           },
           "zeroline": false,
           "zerolinecolor": "rgb(36,36,36)"
          },
          "yaxis": {
           "automargin": true,
           "gridcolor": "rgb(232,232,232)",
           "linecolor": "rgb(36,36,36)",
           "showgrid": false,
           "showline": true,
           "ticks": "outside",
           "title": {
            "standoff": 15
           },
           "zeroline": false,
           "zerolinecolor": "rgb(36,36,36)"
          }
         }
        },
        "title": {
         "text": "Wage disparity per age"
        },
        "xaxis": {
         "anchor": "y",
         "domain": [
          0,
          1
         ],
         "title": {
          "text": "Ages"
         }
        },
        "yaxis": {
         "anchor": "x",
         "domain": [
          0,
          1
         ],
         "title": {
          "text": "Gap"
         }
        }
       }
      },
      "text/html": [
       "<div>                            <div id=\"a5e958ab-95c8-438c-b33a-25f0e4216e01\" class=\"plotly-graph-div\" style=\"height:525px; width:100%;\"></div>            <script type=\"text/javascript\">                require([\"plotly\"], function(Plotly) {                    window.PLOTLYENV=window.PLOTLYENV || {};                                    if (document.getElementById(\"a5e958ab-95c8-438c-b33a-25f0e4216e01\")) {                    Plotly.newPlot(                        \"a5e958ab-95c8-438c-b33a-25f0e4216e01\",                        [{\"hovertemplate\":\"Gap Type=Controlled Pay Gap<br>Ages=%{x}<br>Gap=%{text}<extra></extra>\",\"legendgroup\":\"Controlled Pay Gap\",\"line\":{\"color\":\"Orange\",\"dash\":\"solid\"},\"marker\":{\"symbol\":\"circle\"},\"mode\":\"text+markers+lines\",\"name\":\"Controlled Pay Gap\",\"orientation\":\"v\",\"showlegend\":true,\"text\":[1.0,0.98,0.98],\"x\":[\"20-29\",\"30-44\",\"45+\"],\"xaxis\":\"x\",\"y\":[1.0,0.98,0.98],\"yaxis\":\"y\",\"type\":\"scatter\",\"textposition\":\"bottom left\"},{\"hovertemplate\":\"Gap Type=Uncontrolled Pay Gap<br>Ages=%{x}<br>Gap=%{text}<extra></extra>\",\"legendgroup\":\"Uncontrolled Pay Gap\",\"line\":{\"color\":\"Blue\",\"dash\":\"solid\"},\"marker\":{\"symbol\":\"diamond\"},\"mode\":\"text+markers+lines\",\"name\":\"Uncontrolled Pay Gap\",\"orientation\":\"v\",\"showlegend\":true,\"text\":[0.86,0.82,0.73],\"x\":[\"20-29\",\"30-44\",\"45+\"],\"xaxis\":\"x\",\"y\":[0.86,0.82,0.73],\"yaxis\":\"y\",\"type\":\"scatter\",\"textposition\":\"bottom left\"}],                        {\"template\":{\"data\":{\"barpolar\":[{\"marker\":{\"line\":{\"color\":\"white\",\"width\":0.5},\"pattern\":{\"fillmode\":\"overlay\",\"size\":10,\"solidity\":0.2}},\"type\":\"barpolar\"}],\"bar\":[{\"error_x\":{\"color\":\"rgb(36,36,36)\"},\"error_y\":{\"color\":\"rgb(36,36,36)\"},\"marker\":{\"line\":{\"color\":\"white\",\"width\":0.5},\"pattern\":{\"fillmode\":\"overlay\",\"size\":10,\"solidity\":0.2}},\"type\":\"bar\"}],\"carpet\":[{\"aaxis\":{\"endlinecolor\":\"rgb(36,36,36)\",\"gridcolor\":\"white\",\"linecolor\":\"white\",\"minorgridcolor\":\"white\",\"startlinecolor\":\"rgb(36,36,36)\"},\"baxis\":{\"endlinecolor\":\"rgb(36,36,36)\",\"gridcolor\":\"white\",\"linecolor\":\"white\",\"minorgridcolor\":\"white\",\"startlinecolor\":\"rgb(36,36,36)\"},\"type\":\"carpet\"}],\"choropleth\":[{\"colorbar\":{\"outlinewidth\":1,\"tickcolor\":\"rgb(36,36,36)\",\"ticks\":\"outside\"},\"type\":\"choropleth\"}],\"contourcarpet\":[{\"colorbar\":{\"outlinewidth\":1,\"tickcolor\":\"rgb(36,36,36)\",\"ticks\":\"outside\"},\"type\":\"contourcarpet\"}],\"contour\":[{\"colorbar\":{\"outlinewidth\":1,\"tickcolor\":\"rgb(36,36,36)\",\"ticks\":\"outside\"},\"colorscale\":[[0.0,\"#440154\"],[0.1111111111111111,\"#482878\"],[0.2222222222222222,\"#3e4989\"],[0.3333333333333333,\"#31688e\"],[0.4444444444444444,\"#26828e\"],[0.5555555555555556,\"#1f9e89\"],[0.6666666666666666,\"#35b779\"],[0.7777777777777778,\"#6ece58\"],[0.8888888888888888,\"#b5de2b\"],[1.0,\"#fde725\"]],\"type\":\"contour\"}],\"heatmapgl\":[{\"colorbar\":{\"outlinewidth\":1,\"tickcolor\":\"rgb(36,36,36)\",\"ticks\":\"outside\"},\"colorscale\":[[0.0,\"#440154\"],[0.1111111111111111,\"#482878\"],[0.2222222222222222,\"#3e4989\"],[0.3333333333333333,\"#31688e\"],[0.4444444444444444,\"#26828e\"],[0.5555555555555556,\"#1f9e89\"],[0.6666666666666666,\"#35b779\"],[0.7777777777777778,\"#6ece58\"],[0.8888888888888888,\"#b5de2b\"],[1.0,\"#fde725\"]],\"type\":\"heatmapgl\"}],\"heatmap\":[{\"colorbar\":{\"outlinewidth\":1,\"tickcolor\":\"rgb(36,36,36)\",\"ticks\":\"outside\"},\"colorscale\":[[0.0,\"#440154\"],[0.1111111111111111,\"#482878\"],[0.2222222222222222,\"#3e4989\"],[0.3333333333333333,\"#31688e\"],[0.4444444444444444,\"#26828e\"],[0.5555555555555556,\"#1f9e89\"],[0.6666666666666666,\"#35b779\"],[0.7777777777777778,\"#6ece58\"],[0.8888888888888888,\"#b5de2b\"],[1.0,\"#fde725\"]],\"type\":\"heatmap\"}],\"histogram2dcontour\":[{\"colorbar\":{\"outlinewidth\":1,\"tickcolor\":\"rgb(36,36,36)\",\"ticks\":\"outside\"},\"colorscale\":[[0.0,\"#440154\"],[0.1111111111111111,\"#482878\"],[0.2222222222222222,\"#3e4989\"],[0.3333333333333333,\"#31688e\"],[0.4444444444444444,\"#26828e\"],[0.5555555555555556,\"#1f9e89\"],[0.6666666666666666,\"#35b779\"],[0.7777777777777778,\"#6ece58\"],[0.8888888888888888,\"#b5de2b\"],[1.0,\"#fde725\"]],\"type\":\"histogram2dcontour\"}],\"histogram2d\":[{\"colorbar\":{\"outlinewidth\":1,\"tickcolor\":\"rgb(36,36,36)\",\"ticks\":\"outside\"},\"colorscale\":[[0.0,\"#440154\"],[0.1111111111111111,\"#482878\"],[0.2222222222222222,\"#3e4989\"],[0.3333333333333333,\"#31688e\"],[0.4444444444444444,\"#26828e\"],[0.5555555555555556,\"#1f9e89\"],[0.6666666666666666,\"#35b779\"],[0.7777777777777778,\"#6ece58\"],[0.8888888888888888,\"#b5de2b\"],[1.0,\"#fde725\"]],\"type\":\"histogram2d\"}],\"histogram\":[{\"marker\":{\"line\":{\"color\":\"white\",\"width\":0.6}},\"type\":\"histogram\"}],\"mesh3d\":[{\"colorbar\":{\"outlinewidth\":1,\"tickcolor\":\"rgb(36,36,36)\",\"ticks\":\"outside\"},\"type\":\"mesh3d\"}],\"parcoords\":[{\"line\":{\"colorbar\":{\"outlinewidth\":1,\"tickcolor\":\"rgb(36,36,36)\",\"ticks\":\"outside\"}},\"type\":\"parcoords\"}],\"pie\":[{\"automargin\":true,\"type\":\"pie\"}],\"scatter3d\":[{\"line\":{\"colorbar\":{\"outlinewidth\":1,\"tickcolor\":\"rgb(36,36,36)\",\"ticks\":\"outside\"}},\"marker\":{\"colorbar\":{\"outlinewidth\":1,\"tickcolor\":\"rgb(36,36,36)\",\"ticks\":\"outside\"}},\"type\":\"scatter3d\"}],\"scattercarpet\":[{\"marker\":{\"colorbar\":{\"outlinewidth\":1,\"tickcolor\":\"rgb(36,36,36)\",\"ticks\":\"outside\"}},\"type\":\"scattercarpet\"}],\"scattergeo\":[{\"marker\":{\"colorbar\":{\"outlinewidth\":1,\"tickcolor\":\"rgb(36,36,36)\",\"ticks\":\"outside\"}},\"type\":\"scattergeo\"}],\"scattergl\":[{\"marker\":{\"colorbar\":{\"outlinewidth\":1,\"tickcolor\":\"rgb(36,36,36)\",\"ticks\":\"outside\"}},\"type\":\"scattergl\"}],\"scattermapbox\":[{\"marker\":{\"colorbar\":{\"outlinewidth\":1,\"tickcolor\":\"rgb(36,36,36)\",\"ticks\":\"outside\"}},\"type\":\"scattermapbox\"}],\"scatterpolargl\":[{\"marker\":{\"colorbar\":{\"outlinewidth\":1,\"tickcolor\":\"rgb(36,36,36)\",\"ticks\":\"outside\"}},\"type\":\"scatterpolargl\"}],\"scatterpolar\":[{\"marker\":{\"colorbar\":{\"outlinewidth\":1,\"tickcolor\":\"rgb(36,36,36)\",\"ticks\":\"outside\"}},\"type\":\"scatterpolar\"}],\"scatter\":[{\"fillpattern\":{\"fillmode\":\"overlay\",\"size\":10,\"solidity\":0.2},\"type\":\"scatter\"}],\"scatterternary\":[{\"marker\":{\"colorbar\":{\"outlinewidth\":1,\"tickcolor\":\"rgb(36,36,36)\",\"ticks\":\"outside\"}},\"type\":\"scatterternary\"}],\"surface\":[{\"colorbar\":{\"outlinewidth\":1,\"tickcolor\":\"rgb(36,36,36)\",\"ticks\":\"outside\"},\"colorscale\":[[0.0,\"#440154\"],[0.1111111111111111,\"#482878\"],[0.2222222222222222,\"#3e4989\"],[0.3333333333333333,\"#31688e\"],[0.4444444444444444,\"#26828e\"],[0.5555555555555556,\"#1f9e89\"],[0.6666666666666666,\"#35b779\"],[0.7777777777777778,\"#6ece58\"],[0.8888888888888888,\"#b5de2b\"],[1.0,\"#fde725\"]],\"type\":\"surface\"}],\"table\":[{\"cells\":{\"fill\":{\"color\":\"rgb(237,237,237)\"},\"line\":{\"color\":\"white\"}},\"header\":{\"fill\":{\"color\":\"rgb(217,217,217)\"},\"line\":{\"color\":\"white\"}},\"type\":\"table\"}]},\"layout\":{\"annotationdefaults\":{\"arrowhead\":0,\"arrowwidth\":1},\"autotypenumbers\":\"strict\",\"coloraxis\":{\"colorbar\":{\"outlinewidth\":1,\"tickcolor\":\"rgb(36,36,36)\",\"ticks\":\"outside\"}},\"colorscale\":{\"diverging\":[[0.0,\"rgb(103,0,31)\"],[0.1,\"rgb(178,24,43)\"],[0.2,\"rgb(214,96,77)\"],[0.3,\"rgb(244,165,130)\"],[0.4,\"rgb(253,219,199)\"],[0.5,\"rgb(247,247,247)\"],[0.6,\"rgb(209,229,240)\"],[0.7,\"rgb(146,197,222)\"],[0.8,\"rgb(67,147,195)\"],[0.9,\"rgb(33,102,172)\"],[1.0,\"rgb(5,48,97)\"]],\"sequential\":[[0.0,\"#440154\"],[0.1111111111111111,\"#482878\"],[0.2222222222222222,\"#3e4989\"],[0.3333333333333333,\"#31688e\"],[0.4444444444444444,\"#26828e\"],[0.5555555555555556,\"#1f9e89\"],[0.6666666666666666,\"#35b779\"],[0.7777777777777778,\"#6ece58\"],[0.8888888888888888,\"#b5de2b\"],[1.0,\"#fde725\"]],\"sequentialminus\":[[0.0,\"#440154\"],[0.1111111111111111,\"#482878\"],[0.2222222222222222,\"#3e4989\"],[0.3333333333333333,\"#31688e\"],[0.4444444444444444,\"#26828e\"],[0.5555555555555556,\"#1f9e89\"],[0.6666666666666666,\"#35b779\"],[0.7777777777777778,\"#6ece58\"],[0.8888888888888888,\"#b5de2b\"],[1.0,\"#fde725\"]]},\"colorway\":[\"#1F77B4\",\"#FF7F0E\",\"#2CA02C\",\"#D62728\",\"#9467BD\",\"#8C564B\",\"#E377C2\",\"#7F7F7F\",\"#BCBD22\",\"#17BECF\"],\"font\":{\"color\":\"rgb(36,36,36)\"},\"geo\":{\"bgcolor\":\"white\",\"lakecolor\":\"white\",\"landcolor\":\"white\",\"showlakes\":true,\"showland\":true,\"subunitcolor\":\"white\"},\"hoverlabel\":{\"align\":\"left\"},\"hovermode\":\"closest\",\"mapbox\":{\"style\":\"light\"},\"paper_bgcolor\":\"white\",\"plot_bgcolor\":\"white\",\"polar\":{\"angularaxis\":{\"gridcolor\":\"rgb(232,232,232)\",\"linecolor\":\"rgb(36,36,36)\",\"showgrid\":false,\"showline\":true,\"ticks\":\"outside\"},\"bgcolor\":\"white\",\"radialaxis\":{\"gridcolor\":\"rgb(232,232,232)\",\"linecolor\":\"rgb(36,36,36)\",\"showgrid\":false,\"showline\":true,\"ticks\":\"outside\"}},\"scene\":{\"xaxis\":{\"backgroundcolor\":\"white\",\"gridcolor\":\"rgb(232,232,232)\",\"gridwidth\":2,\"linecolor\":\"rgb(36,36,36)\",\"showbackground\":true,\"showgrid\":false,\"showline\":true,\"ticks\":\"outside\",\"zeroline\":false,\"zerolinecolor\":\"rgb(36,36,36)\"},\"yaxis\":{\"backgroundcolor\":\"white\",\"gridcolor\":\"rgb(232,232,232)\",\"gridwidth\":2,\"linecolor\":\"rgb(36,36,36)\",\"showbackground\":true,\"showgrid\":false,\"showline\":true,\"ticks\":\"outside\",\"zeroline\":false,\"zerolinecolor\":\"rgb(36,36,36)\"},\"zaxis\":{\"backgroundcolor\":\"white\",\"gridcolor\":\"rgb(232,232,232)\",\"gridwidth\":2,\"linecolor\":\"rgb(36,36,36)\",\"showbackground\":true,\"showgrid\":false,\"showline\":true,\"ticks\":\"outside\",\"zeroline\":false,\"zerolinecolor\":\"rgb(36,36,36)\"}},\"shapedefaults\":{\"fillcolor\":\"black\",\"line\":{\"width\":0},\"opacity\":0.3},\"ternary\":{\"aaxis\":{\"gridcolor\":\"rgb(232,232,232)\",\"linecolor\":\"rgb(36,36,36)\",\"showgrid\":false,\"showline\":true,\"ticks\":\"outside\"},\"baxis\":{\"gridcolor\":\"rgb(232,232,232)\",\"linecolor\":\"rgb(36,36,36)\",\"showgrid\":false,\"showline\":true,\"ticks\":\"outside\"},\"bgcolor\":\"white\",\"caxis\":{\"gridcolor\":\"rgb(232,232,232)\",\"linecolor\":\"rgb(36,36,36)\",\"showgrid\":false,\"showline\":true,\"ticks\":\"outside\"}},\"title\":{\"x\":0.05},\"xaxis\":{\"automargin\":true,\"gridcolor\":\"rgb(232,232,232)\",\"linecolor\":\"rgb(36,36,36)\",\"showgrid\":false,\"showline\":true,\"ticks\":\"outside\",\"title\":{\"standoff\":15},\"zeroline\":false,\"zerolinecolor\":\"rgb(36,36,36)\"},\"yaxis\":{\"automargin\":true,\"gridcolor\":\"rgb(232,232,232)\",\"linecolor\":\"rgb(36,36,36)\",\"showgrid\":false,\"showline\":true,\"ticks\":\"outside\",\"title\":{\"standoff\":15},\"zeroline\":false,\"zerolinecolor\":\"rgb(36,36,36)\"}}},\"xaxis\":{\"anchor\":\"y\",\"domain\":[0.0,1.0],\"title\":{\"text\":\"Ages\"}},\"yaxis\":{\"anchor\":\"x\",\"domain\":[0.0,1.0],\"title\":{\"text\":\"Gap\"}},\"legend\":{\"title\":{\"text\":\"Gap Type\"},\"tracegroupgap\":0},\"title\":{\"text\":\"Wage disparity per age\"}},                        {\"responsive\": true}                    ).then(function(){\n",
       "                            \n",
       "var gd = document.getElementById('a5e958ab-95c8-438c-b33a-25f0e4216e01');\n",
       "var x = new MutationObserver(function (mutations, observer) {{\n",
       "        var display = window.getComputedStyle(gd).display;\n",
       "        if (!display || display === 'none') {{\n",
       "            console.log([gd, 'removed!']);\n",
       "            Plotly.purge(gd);\n",
       "            observer.disconnect();\n",
       "        }}\n",
       "}});\n",
       "\n",
       "// Listen for the removal of the full notebook cells\n",
       "var notebookContainer = gd.closest('#notebook-container');\n",
       "if (notebookContainer) {{\n",
       "    x.observe(notebookContainer, {childList: true});\n",
       "}}\n",
       "\n",
       "// Listen for the clearing of the current output cell\n",
       "var outputEl = gd.closest('.output');\n",
       "if (outputEl) {{\n",
       "    x.observe(outputEl, {childList: true});\n",
       "}}\n",
       "\n",
       "                        })                };                });            </script>        </div>"
      ]
     },
     "metadata": {},
     "output_type": "display_data"
    }
   ],
   "source": [
    "fig4 = px.line(df11, x=\"Ages\", y=\"Gap\", template=\"simple_white\",\n",
    "                symbol=\"Gap Type\",\n",
    "              color='Gap Type',\n",
    "              markers=True,text=\"Gap\",\n",
    "              title='Wage disparity per age',\n",
    "             color_discrete_map={'Controlled Pay Gap': 'Orange', \n",
    "                                  'Uncontrolled Pay Gap': 'Blue'\n",
    "                                })\n",
    "fig4.update_traces(textposition = \"bottom left\")"
   ]
  },
  {
   "cell_type": "markdown",
   "id": "51eb6cf9",
   "metadata": {},
   "source": [
    "## Figure 5: Relationship of gender disparity and GDP"
   ]
  },
  {
   "cell_type": "code",
   "execution_count": 25,
   "id": "f9b3a7ef",
   "metadata": {},
   "outputs": [],
   "source": [
    "df7 = pd.read_csv(\"../../datasets/gender-wage-gap-vs-gdp-per-capita.csv\")"
   ]
  },
  {
   "cell_type": "code",
   "execution_count": 26,
   "id": "9cbc87d6",
   "metadata": {},
   "outputs": [
    {
     "data": {
      "text/plain": [
       "Text(0.5, 33.99999999999995, 'GDP per capita, PPP (current international $) in log')"
      ]
     },
     "execution_count": 26,
     "metadata": {},
     "output_type": "execute_result"
    },
    {
     "data": {
      "image/png": "[encoded data removed]",
      "text/plain": [
       "<Figure size 432x432 with 3 Axes>"
      ]
     },
     "metadata": {},
     "output_type": "display_data"
    }
   ],
   "source": [
    "df7[\"GDP per capita, PPP (current international $)\"] = np.log(df7[\"GDP per capita, PPP (current international $)\"])\n",
    "with sns.axes_style('white'):\n",
    "    fig5=sns.jointplot( x=\"GDP per capita, PPP (current international $)\",y=\"Gender wage gap (%)\", data=df7, \n",
    "                    kind='hex', color=\"#03a1fc\")\n",
    "    fig5.fig.suptitle(\"Relationship between GDP per capita and Gender Wage gap percentages\")\n",
    "    fig5.fig.subplots_adjust(top=0.95)\n",
    "fig5.ax_joint.set_xlabel('GDP per capita, PPP (current international $) in log')\n",
    "#g.savefig(\"joint plot gdp gap%.png\")"
   ]
  },
  {
   "cell_type": "markdown",
   "id": "4b834c58",
   "metadata": {},
   "source": [
    "### Figure 6: Percentage of women in the top 10% income group is R code"
   ]
  },
  {
   "cell_type": "markdown",
   "id": "cc95eaee",
   "metadata": {},
   "source": [
    "## Figure 7: Gender Equality Index in different regions"
   ]
  },
  {
   "cell_type": "code",
   "execution_count": 27,
   "id": "212b5198",
   "metadata": {},
   "outputs": [],
   "source": [
    "df3 =  pd.read_csv(\"../../datasets/regional-averages-of-the-composite-gender-equality-index.csv\")"
   ]
  },
  {
   "cell_type": "code",
   "execution_count": 28,
   "id": "b800a10d",
   "metadata": {},
   "outputs": [
    {
     "data": {
      "application/vnd.plotly.v1+json": {
       "config": {
        "plotlyServerURL": "https://plot.ly"
       },
       "data": [
        {
         "hovertemplate": "Region=East Asia<br>Year=%{x}<br>Gender equality index(Average)=%{y}<extra></extra>",
         "legendgroup": "East Asia",
         "line": {
          "color": "#FF8E00",
          "dash": "solid"
         },
         "marker": {
          "symbol": "circle"
         },
         "mode": "markers+lines",
         "name": "East Asia",
         "orientation": "v",
         "showlegend": true,
         "type": "scatter",
         "x": [
          1950,
          1960,
          1970,
          1980,
          1990,
          2000
         ],
         "xaxis": "x",
         "y": [
          63,
          64,
          69,
          71,
          71,
          71
         ],
         "yaxis": "y"
        },
        {
         "hovertemplate": "Region=Eastern Europe<br>Year=%{x}<br>Gender equality index(Average)=%{y}<extra></extra>",
         "legendgroup": "Eastern Europe",
         "line": {
          "color": "#f0aa4f",
          "dash": "solid"
         },
         "marker": {
          "symbol": "diamond"
         },
         "mode": "markers+lines",
         "name": "Eastern Europe",
         "orientation": "v",
         "showlegend": true,
         "type": "scatter",
         "x": [
          1950,
          1960,
          1970,
          1980,
          1990,
          2000
         ],
         "xaxis": "x",
         "y": [
          72,
          75,
          78,
          80,
          73,
          73
         ],
         "yaxis": "y"
        },
        {
         "hovertemplate": "Region=Latin America and Caribbean<br>Year=%{x}<br>Gender equality index(Average)=%{y}<extra></extra>",
         "legendgroup": "Latin America and Caribbean",
         "line": {
          "color": "#4fd0f0",
          "dash": "solid"
         },
         "marker": {
          "symbol": "square"
         },
         "mode": "markers+lines",
         "name": "Latin America and Caribbean",
         "orientation": "v",
         "showlegend": true,
         "type": "scatter",
         "x": [
          1950,
          1960,
          1970,
          1980,
          1990,
          2000
         ],
         "xaxis": "x",
         "y": [
          62,
          62,
          63,
          66,
          69,
          71
         ],
         "yaxis": "y"
        },
        {
         "hovertemplate": "Region=Middle East and North Africa<br>Year=%{x}<br>Gender equality index(Average)=%{y}<extra></extra>",
         "legendgroup": "Middle East and North Africa",
         "line": {
          "color": "#FD7702",
          "dash": "solid"
         },
         "marker": {
          "symbol": "x"
         },
         "mode": "markers+lines",
         "name": "Middle East and North Africa",
         "orientation": "v",
         "showlegend": true,
         "type": "scatter",
         "x": [
          1950,
          1960,
          1970,
          1980,
          1990,
          2000
         ],
         "xaxis": "x",
         "y": [
          54,
          54,
          55,
          57,
          58,
          60
         ],
         "yaxis": "y"
        },
        {
         "hovertemplate": "Region=South and South-East Asia<br>Year=%{x}<br>Gender equality index(Average)=%{y}<extra></extra>",
         "legendgroup": "South and South-East Asia",
         "line": {
          "color": "#003F7D",
          "dash": "solid"
         },
         "marker": {
          "symbol": "cross"
         },
         "mode": "markers+lines",
         "name": "South and South-East Asia",
         "orientation": "v",
         "showlegend": true,
         "type": "scatter",
         "x": [
          1950,
          1960,
          1970,
          1980,
          1990,
          2000
         ],
         "xaxis": "x",
         "y": [
          55,
          56,
          57,
          59,
          61,
          62
         ],
         "yaxis": "y"
        },
        {
         "hovertemplate": "Region=Sub-Sahara Africa<br>Year=%{x}<br>Gender equality index(Average)=%{y}<extra></extra>",
         "legendgroup": "Sub-Sahara Africa",
         "line": {
          "color": "#FF5003",
          "dash": "solid"
         },
         "marker": {
          "symbol": "circle"
         },
         "mode": "markers+lines",
         "name": "Sub-Sahara Africa",
         "orientation": "v",
         "showlegend": true,
         "type": "scatter",
         "x": [
          1950,
          1960,
          1970,
          1980,
          1990,
          2000
         ],
         "xaxis": "x",
         "y": [
          60,
          60,
          61,
          62,
          64,
          66
         ],
         "yaxis": "y"
        },
        {
         "hovertemplate": "Region=Western Europe<br>Year=%{x}<br>Gender equality index(Average)=%{y}<extra></extra>",
         "legendgroup": "Western Europe",
         "line": {
          "color": "#ed5a40",
          "dash": "solid"
         },
         "marker": {
          "symbol": "diamond"
         },
         "mode": "markers+lines",
         "name": "Western Europe",
         "orientation": "v",
         "showlegend": true,
         "type": "scatter",
         "x": [
          1950,
          1960,
          1970,
          1980,
          1990,
          2000
         ],
         "xaxis": "x",
         "y": [
          66,
          66,
          67,
          70,
          74,
          77
         ],
         "yaxis": "y"
        },
        {
         "hovertemplate": "Region=Western Offshoots<br>Year=%{x}<br>Gender equality index(Average)=%{y}<extra></extra>",
         "legendgroup": "Western Offshoots",
         "line": {
          "color": "#1d36db",
          "dash": "solid"
         },
         "marker": {
          "symbol": "square"
         },
         "mode": "markers+lines",
         "name": "Western Offshoots",
         "orientation": "v",
         "showlegend": true,
         "type": "scatter",
         "x": [
          1950,
          1960,
          1970,
          1980,
          1990,
          2000
         ],
         "xaxis": "x",
         "y": [
          68,
          68,
          69,
          71,
          73,
          75
         ],
         "yaxis": "y"
        }
       ],
       "layout": {
        "legend": {
         "title": {
          "text": "Region"
         },
         "tracegroupgap": 0
        },
        "template": {
         "data": {
          "bar": [
           {
            "error_x": {
             "color": "rgb(36,36,36)"
            },
            "error_y": {
             "color": "rgb(36,36,36)"
            },
            "marker": {
             "line": {
              "color": "white",
              "width": 0.5
             },
             "pattern": {
              "fillmode": "overlay",
              "size": 10,
              "solidity": 0.2
             }
            },
            "type": "bar"
           }
          ],
          "barpolar": [
           {
            "marker": {
             "line": {
              "color": "white",
              "width": 0.5
             },
             "pattern": {
              "fillmode": "overlay",
              "size": 10,
              "solidity": 0.2
             }
            },
            "type": "barpolar"
           }
          ],
          "carpet": [
           {
            "aaxis": {
             "endlinecolor": "rgb(36,36,36)",
             "gridcolor": "white",
             "linecolor": "white",
             "minorgridcolor": "white",
             "startlinecolor": "rgb(36,36,36)"
            },
            "baxis": {
             "endlinecolor": "rgb(36,36,36)",
             "gridcolor": "white",
             "linecolor": "white",
             "minorgridcolor": "white",
             "startlinecolor": "rgb(36,36,36)"
            },
            "type": "carpet"
           }
          ],
          "choropleth": [
           {
            "colorbar": {
             "outlinewidth": 1,
             "tickcolor": "rgb(36,36,36)",
             "ticks": "outside"
            },
            "type": "choropleth"
           }
          ],
          "contour": [
           {
            "colorbar": {
             "outlinewidth": 1,
             "tickcolor": "rgb(36,36,36)",
             "ticks": "outside"
            },
            "colorscale": [
             [
              0,
              "#440154"
             ],
             [
              0.1111111111111111,
              "#482878"
             ],
             [
              0.2222222222222222,
              "#3e4989"
             ],
             [
              0.3333333333333333,
              "#31688e"
             ],
             [
              0.4444444444444444,
              "#26828e"
             ],
             [
              0.5555555555555556,
              "#1f9e89"
             ],
             [
              0.6666666666666666,
              "#35b779"
             ],
             [
              0.7777777777777778,
              "#6ece58"
             ],
             [
              0.8888888888888888,
              "#b5de2b"
             ],
             [
              1,
              "#fde725"
             ]
            ],
            "type": "contour"
           }
          ],
          "contourcarpet": [
           {
            "colorbar": {
             "outlinewidth": 1,
             "tickcolor": "rgb(36,36,36)",
             "ticks": "outside"
            },
            "type": "contourcarpet"
           }
          ],
          "heatmap": [
           {
            "colorbar": {
             "outlinewidth": 1,
             "tickcolor": "rgb(36,36,36)",
             "ticks": "outside"
            },
            "colorscale": [
             [
              0,
              "#440154"
             ],
             [
              0.1111111111111111,
              "#482878"
             ],
             [
              0.2222222222222222,
              "#3e4989"
             ],
             [
              0.3333333333333333,
              "#31688e"
             ],
             [
              0.4444444444444444,
              "#26828e"
             ],
             [
              0.5555555555555556,
              "#1f9e89"
             ],
             [
              0.6666666666666666,
              "#35b779"
             ],
             [
              0.7777777777777778,
              "#6ece58"
             ],
             [
              0.8888888888888888,
              "#b5de2b"
             ],
             [
              1,
              "#fde725"
             ]
            ],
            "type": "heatmap"
           }
          ],
          "heatmapgl": [
           {
            "colorbar": {
             "outlinewidth": 1,
             "tickcolor": "rgb(36,36,36)",
             "ticks": "outside"
            },
            "colorscale": [
             [
              0,
              "#440154"
             ],
             [
              0.1111111111111111,
              "#482878"
             ],
             [
              0.2222222222222222,
              "#3e4989"
             ],
             [
              0.3333333333333333,
              "#31688e"
             ],
             [
              0.4444444444444444,
              "#26828e"
             ],
             [
              0.5555555555555556,
              "#1f9e89"
             ],
             [
              0.6666666666666666,
              "#35b779"
             ],
             [
              0.7777777777777778,
              "#6ece58"
             ],
             [
              0.8888888888888888,
              "#b5de2b"
             ],
             [
              1,
              "#fde725"
             ]
            ],
            "type": "heatmapgl"
           }
          ],
          "histogram": [
           {
            "marker": {
             "line": {
              "color": "white",
              "width": 0.6
             }
            },
            "type": "histogram"
           }
          ],
          "histogram2d": [
           {
            "colorbar": {
             "outlinewidth": 1,
             "tickcolor": "rgb(36,36,36)",
             "ticks": "outside"
            },
            "colorscale": [
             [
              0,
              "#440154"
             ],
             [
              0.1111111111111111,
              "#482878"
             ],
             [
              0.2222222222222222,
              "#3e4989"
             ],
             [
              0.3333333333333333,
              "#31688e"
             ],
             [
              0.4444444444444444,
              "#26828e"
             ],
             [
              0.5555555555555556,
              "#1f9e89"
             ],
             [
              0.6666666666666666,
              "#35b779"
             ],
             [
              0.7777777777777778,
              "#6ece58"
             ],
             [
              0.8888888888888888,
              "#b5de2b"
             ],
             [
              1,
              "#fde725"
             ]
            ],
            "type": "histogram2d"
           }
          ],
          "histogram2dcontour": [
           {
            "colorbar": {
             "outlinewidth": 1,
             "tickcolor": "rgb(36,36,36)",
             "ticks": "outside"
            },
            "colorscale": [
             [
              0,
              "#440154"
             ],
             [
              0.1111111111111111,
              "#482878"
             ],
             [
              0.2222222222222222,
              "#3e4989"
             ],
             [
              0.3333333333333333,
              "#31688e"
             ],
             [
              0.4444444444444444,
              "#26828e"
             ],
             [
              0.5555555555555556,
              "#1f9e89"
             ],
             [
              0.6666666666666666,
              "#35b779"
             ],
             [
              0.7777777777777778,
              "#6ece58"
             ],
             [
              0.8888888888888888,
              "#b5de2b"
             ],
             [
              1,
              "#fde725"
             ]
            ],
            "type": "histogram2dcontour"
           }
          ],
          "mesh3d": [
           {
            "colorbar": {
             "outlinewidth": 1,
             "tickcolor": "rgb(36,36,36)",
             "ticks": "outside"
            },
            "type": "mesh3d"
           }
          ],
          "parcoords": [
           {
            "line": {
             "colorbar": {
              "outlinewidth": 1,
              "tickcolor": "rgb(36,36,36)",
              "ticks": "outside"
             }
            },
            "type": "parcoords"
           }
          ],
          "pie": [
           {
            "automargin": true,
            "type": "pie"
           }
          ],
          "scatter": [
           {
            "fillpattern": {
             "fillmode": "overlay",
             "size": 10,
             "solidity": 0.2
            },
            "type": "scatter"
           }
          ],
          "scatter3d": [
           {
            "line": {
             "colorbar": {
              "outlinewidth": 1,
              "tickcolor": "rgb(36,36,36)",
              "ticks": "outside"
             }
            },
            "marker": {
             "colorbar": {
              "outlinewidth": 1,
              "tickcolor": "rgb(36,36,36)",
              "ticks": "outside"
             }
            },
            "type": "scatter3d"
           }
          ],
          "scattercarpet": [
           {
            "marker": {
             "colorbar": {
              "outlinewidth": 1,
              "tickcolor": "rgb(36,36,36)",
              "ticks": "outside"
             }
            },
            "type": "scattercarpet"
           }
          ],
          "scattergeo": [
           {
            "marker": {
             "colorbar": {
              "outlinewidth": 1,
              "tickcolor": "rgb(36,36,36)",
              "ticks": "outside"
             }
            },
            "type": "scattergeo"
           }
          ],
          "scattergl": [
           {
            "marker": {
             "colorbar": {
              "outlinewidth": 1,
              "tickcolor": "rgb(36,36,36)",
              "ticks": "outside"
             }
            },
            "type": "scattergl"
           }
          ],
          "scattermapbox": [
           {
            "marker": {
             "colorbar": {
              "outlinewidth": 1,
              "tickcolor": "rgb(36,36,36)",
              "ticks": "outside"
             }
            },
            "type": "scattermapbox"
           }
          ],
          "scatterpolar": [
           {
            "marker": {
             "colorbar": {
              "outlinewidth": 1,
              "tickcolor": "rgb(36,36,36)",
              "ticks": "outside"
             }
            },
            "type": "scatterpolar"
           }
          ],
          "scatterpolargl": [
           {
            "marker": {
             "colorbar": {
              "outlinewidth": 1,
              "tickcolor": "rgb(36,36,36)",
              "ticks": "outside"
             }
            },
            "type": "scatterpolargl"
           }
          ],
          "scatterternary": [
           {
            "marker": {
             "colorbar": {
              "outlinewidth": 1,
              "tickcolor": "rgb(36,36,36)",
              "ticks": "outside"
             }
            },
            "type": "scatterternary"
           }
          ],
          "surface": [
           {
            "colorbar": {
             "outlinewidth": 1,
             "tickcolor": "rgb(36,36,36)",
             "ticks": "outside"
            },
            "colorscale": [
             [
              0,
              "#440154"
             ],
             [
              0.1111111111111111,
              "#482878"
             ],
             [
              0.2222222222222222,
              "#3e4989"
             ],
             [
              0.3333333333333333,
              "#31688e"
             ],
             [
              0.4444444444444444,
              "#26828e"
             ],
             [
              0.5555555555555556,
              "#1f9e89"
             ],
             [
              0.6666666666666666,
              "#35b779"
             ],
             [
              0.7777777777777778,
              "#6ece58"
             ],
             [
              0.8888888888888888,
              "#b5de2b"
             ],
             [
              1,
              "#fde725"
             ]
            ],
            "type": "surface"
           }
          ],
          "table": [
           {
            "cells": {
             "fill": {
              "color": "rgb(237,237,237)"
             },
             "line": {
              "color": "white"
             }
            },
            "header": {
             "fill": {
              "color": "rgb(217,217,217)"
             },
             "line": {
              "color": "white"
             }
            },
            "type": "table"
           }
          ]
         },
         "layout": {
          "annotationdefaults": {
           "arrowhead": 0,
           "arrowwidth": 1
          },
          "autotypenumbers": "strict",
          "coloraxis": {
           "colorbar": {
            "outlinewidth": 1,
            "tickcolor": "rgb(36,36,36)",
            "ticks": "outside"
           }
          },
          "colorscale": {
           "diverging": [
            [
             0,
             "rgb(103,0,31)"
            ],
            [
             0.1,
             "rgb(178,24,43)"
            ],
            [
             0.2,
             "rgb(214,96,77)"
            ],
            [
             0.3,
             "rgb(244,165,130)"
            ],
            [
             0.4,
             "rgb(253,219,199)"
            ],
            [
             0.5,
             "rgb(247,247,247)"
            ],
            [
             0.6,
             "rgb(209,229,240)"
            ],
            [
             0.7,
             "rgb(146,197,222)"
            ],
            [
             0.8,
             "rgb(67,147,195)"
            ],
            [
             0.9,
             "rgb(33,102,172)"
            ],
            [
             1,
             "rgb(5,48,97)"
            ]
           ],
           "sequential": [
            [
             0,
             "#440154"
            ],
            [
             0.1111111111111111,
             "#482878"
            ],
            [
             0.2222222222222222,
             "#3e4989"
            ],
            [
             0.3333333333333333,
             "#31688e"
            ],
            [
             0.4444444444444444,
             "#26828e"
            ],
            [
             0.5555555555555556,
             "#1f9e89"
            ],
            [
             0.6666666666666666,
             "#35b779"
            ],
            [
             0.7777777777777778,
             "#6ece58"
            ],
            [
             0.8888888888888888,
             "#b5de2b"
            ],
            [
             1,
             "#fde725"
            ]
           ],
           "sequentialminus": [
            [
             0,
             "#440154"
            ],
            [
             0.1111111111111111,
             "#482878"
            ],
            [
             0.2222222222222222,
             "#3e4989"
            ],
            [
             0.3333333333333333,
             "#31688e"
            ],
            [
             0.4444444444444444,
             "#26828e"
            ],
            [
             0.5555555555555556,
             "#1f9e89"
            ],
            [
             0.6666666666666666,
             "#35b779"
            ],
            [
             0.7777777777777778,
             "#6ece58"
            ],
            [
             0.8888888888888888,
             "#b5de2b"
            ],
            [
             1,
             "#fde725"
            ]
           ]
          },
          "colorway": [
           "#1F77B4",
           "#FF7F0E",
           "#2CA02C",
           "#D62728",
           "#9467BD",
           "#8C564B",
           "#E377C2",
           "#7F7F7F",
           "#BCBD22",
           "#17BECF"
          ],
          "font": {
           "color": "rgb(36,36,36)"
          },
          "geo": {
           "bgcolor": "white",
           "lakecolor": "white",
           "landcolor": "white",
           "showlakes": true,
           "showland": true,
           "subunitcolor": "white"
          },
          "hoverlabel": {
           "align": "left"
          },
          "hovermode": "closest",
          "mapbox": {
           "style": "light"
          },
          "paper_bgcolor": "white",
          "plot_bgcolor": "white",
          "polar": {
           "angularaxis": {
            "gridcolor": "rgb(232,232,232)",
            "linecolor": "rgb(36,36,36)",
            "showgrid": false,
            "showline": true,
            "ticks": "outside"
           },
           "bgcolor": "white",
           "radialaxis": {
            "gridcolor": "rgb(232,232,232)",
            "linecolor": "rgb(36,36,36)",
            "showgrid": false,
            "showline": true,
            "ticks": "outside"
           }
          },
          "scene": {
           "xaxis": {
            "backgroundcolor": "white",
            "gridcolor": "rgb(232,232,232)",
            "gridwidth": 2,
            "linecolor": "rgb(36,36,36)",
            "showbackground": true,
            "showgrid": false,
            "showline": true,
            "ticks": "outside",
            "zeroline": false,
            "zerolinecolor": "rgb(36,36,36)"
           },
           "yaxis": {
            "backgroundcolor": "white",
            "gridcolor": "rgb(232,232,232)",
            "gridwidth": 2,
            "linecolor": "rgb(36,36,36)",
            "showbackground": true,
            "showgrid": false,
            "showline": true,
            "ticks": "outside",
            "zeroline": false,
            "zerolinecolor": "rgb(36,36,36)"
           },
           "zaxis": {
            "backgroundcolor": "white",
            "gridcolor": "rgb(232,232,232)",
            "gridwidth": 2,
            "linecolor": "rgb(36,36,36)",
            "showbackground": true,
            "showgrid": false,
            "showline": true,
            "ticks": "outside",
            "zeroline": false,
            "zerolinecolor": "rgb(36,36,36)"
           }
          },
          "shapedefaults": {
           "fillcolor": "black",
           "line": {
            "width": 0
           },
           "opacity": 0.3
          },
          "ternary": {
           "aaxis": {
            "gridcolor": "rgb(232,232,232)",
            "linecolor": "rgb(36,36,36)",
            "showgrid": false,
            "showline": true,
            "ticks": "outside"
           },
           "baxis": {
            "gridcolor": "rgb(232,232,232)",
            "linecolor": "rgb(36,36,36)",
            "showgrid": false,
            "showline": true,
            "ticks": "outside"
           },
           "bgcolor": "white",
           "caxis": {
            "gridcolor": "rgb(232,232,232)",
            "linecolor": "rgb(36,36,36)",
            "showgrid": false,
            "showline": true,
            "ticks": "outside"
           }
          },
          "title": {
           "x": 0.05
          },
          "xaxis": {
           "automargin": true,
           "gridcolor": "rgb(232,232,232)",
           "linecolor": "rgb(36,36,36)",
           "showgrid": false,
           "showline": true,
           "ticks": "outside",
           "title": {
            "standoff": 15
           },
           "zeroline": false,
           "zerolinecolor": "rgb(36,36,36)"
          },
          "yaxis": {
           "automargin": true,
           "gridcolor": "rgb(232,232,232)",
           "linecolor": "rgb(36,36,36)",
           "showgrid": false,
           "showline": true,
           "ticks": "outside",
           "title": {
            "standoff": 15
           },
           "zeroline": false,
           "zerolinecolor": "rgb(36,36,36)"
          }
         }
        },
        "title": {
         "text": "Regional averages of the composite gender equality index"
        },
        "xaxis": {
         "anchor": "y",
         "domain": [
          0,
          1
         ],
         "title": {
          "text": "Year"
         }
        },
        "yaxis": {
         "anchor": "x",
         "domain": [
          0,
          1
         ],
         "title": {
          "text": "Gender equality index(Average)"
         }
        }
       }
      },
      "text/html": [
       "<div>                            <div id=\"39f0e8d9-322a-4045-a153-995cf50aadd9\" class=\"plotly-graph-div\" style=\"height:525px; width:100%;\"></div>            <script type=\"text/javascript\">                require([\"plotly\"], function(Plotly) {                    window.PLOTLYENV=window.PLOTLYENV || {};                                    if (document.getElementById(\"39f0e8d9-322a-4045-a153-995cf50aadd9\")) {                    Plotly.newPlot(                        \"39f0e8d9-322a-4045-a153-995cf50aadd9\",                        [{\"hovertemplate\":\"Region=East Asia<br>Year=%{x}<br>Gender equality index(Average)=%{y}<extra></extra>\",\"legendgroup\":\"East Asia\",\"line\":{\"color\":\"#FF8E00\",\"dash\":\"solid\"},\"marker\":{\"symbol\":\"circle\"},\"mode\":\"markers+lines\",\"name\":\"East Asia\",\"orientation\":\"v\",\"showlegend\":true,\"x\":[1950,1960,1970,1980,1990,2000],\"xaxis\":\"x\",\"y\":[63,64,69,71,71,71],\"yaxis\":\"y\",\"type\":\"scatter\"},{\"hovertemplate\":\"Region=Eastern Europe<br>Year=%{x}<br>Gender equality index(Average)=%{y}<extra></extra>\",\"legendgroup\":\"Eastern Europe\",\"line\":{\"color\":\"#f0aa4f\",\"dash\":\"solid\"},\"marker\":{\"symbol\":\"diamond\"},\"mode\":\"markers+lines\",\"name\":\"Eastern Europe\",\"orientation\":\"v\",\"showlegend\":true,\"x\":[1950,1960,1970,1980,1990,2000],\"xaxis\":\"x\",\"y\":[72,75,78,80,73,73],\"yaxis\":\"y\",\"type\":\"scatter\"},{\"hovertemplate\":\"Region=Latin America and Caribbean<br>Year=%{x}<br>Gender equality index(Average)=%{y}<extra></extra>\",\"legendgroup\":\"Latin America and Caribbean\",\"line\":{\"color\":\"#4fd0f0\",\"dash\":\"solid\"},\"marker\":{\"symbol\":\"square\"},\"mode\":\"markers+lines\",\"name\":\"Latin America and Caribbean\",\"orientation\":\"v\",\"showlegend\":true,\"x\":[1950,1960,1970,1980,1990,2000],\"xaxis\":\"x\",\"y\":[62,62,63,66,69,71],\"yaxis\":\"y\",\"type\":\"scatter\"},{\"hovertemplate\":\"Region=Middle East and North Africa<br>Year=%{x}<br>Gender equality index(Average)=%{y}<extra></extra>\",\"legendgroup\":\"Middle East and North Africa\",\"line\":{\"color\":\"#FD7702\",\"dash\":\"solid\"},\"marker\":{\"symbol\":\"x\"},\"mode\":\"markers+lines\",\"name\":\"Middle East and North Africa\",\"orientation\":\"v\",\"showlegend\":true,\"x\":[1950,1960,1970,1980,1990,2000],\"xaxis\":\"x\",\"y\":[54,54,55,57,58,60],\"yaxis\":\"y\",\"type\":\"scatter\"},{\"hovertemplate\":\"Region=South and South-East Asia<br>Year=%{x}<br>Gender equality index(Average)=%{y}<extra></extra>\",\"legendgroup\":\"South and South-East Asia\",\"line\":{\"color\":\"#003F7D\",\"dash\":\"solid\"},\"marker\":{\"symbol\":\"cross\"},\"mode\":\"markers+lines\",\"name\":\"South and South-East Asia\",\"orientation\":\"v\",\"showlegend\":true,\"x\":[1950,1960,1970,1980,1990,2000],\"xaxis\":\"x\",\"y\":[55,56,57,59,61,62],\"yaxis\":\"y\",\"type\":\"scatter\"},{\"hovertemplate\":\"Region=Sub-Sahara Africa<br>Year=%{x}<br>Gender equality index(Average)=%{y}<extra></extra>\",\"legendgroup\":\"Sub-Sahara Africa\",\"line\":{\"color\":\"#FF5003\",\"dash\":\"solid\"},\"marker\":{\"symbol\":\"circle\"},\"mode\":\"markers+lines\",\"name\":\"Sub-Sahara Africa\",\"orientation\":\"v\",\"showlegend\":true,\"x\":[1950,1960,1970,1980,1990,2000],\"xaxis\":\"x\",\"y\":[60,60,61,62,64,66],\"yaxis\":\"y\",\"type\":\"scatter\"},{\"hovertemplate\":\"Region=Western Europe<br>Year=%{x}<br>Gender equality index(Average)=%{y}<extra></extra>\",\"legendgroup\":\"Western Europe\",\"line\":{\"color\":\"#ed5a40\",\"dash\":\"solid\"},\"marker\":{\"symbol\":\"diamond\"},\"mode\":\"markers+lines\",\"name\":\"Western Europe\",\"orientation\":\"v\",\"showlegend\":true,\"x\":[1950,1960,1970,1980,1990,2000],\"xaxis\":\"x\",\"y\":[66,66,67,70,74,77],\"yaxis\":\"y\",\"type\":\"scatter\"},{\"hovertemplate\":\"Region=Western Offshoots<br>Year=%{x}<br>Gender equality index(Average)=%{y}<extra></extra>\",\"legendgroup\":\"Western Offshoots\",\"line\":{\"color\":\"#1d36db\",\"dash\":\"solid\"},\"marker\":{\"symbol\":\"square\"},\"mode\":\"markers+lines\",\"name\":\"Western Offshoots\",\"orientation\":\"v\",\"showlegend\":true,\"x\":[1950,1960,1970,1980,1990,2000],\"xaxis\":\"x\",\"y\":[68,68,69,71,73,75],\"yaxis\":\"y\",\"type\":\"scatter\"}],                        {\"template\":{\"data\":{\"barpolar\":[{\"marker\":{\"line\":{\"color\":\"white\",\"width\":0.5},\"pattern\":{\"fillmode\":\"overlay\",\"size\":10,\"solidity\":0.2}},\"type\":\"barpolar\"}],\"bar\":[{\"error_x\":{\"color\":\"rgb(36,36,36)\"},\"error_y\":{\"color\":\"rgb(36,36,36)\"},\"marker\":{\"line\":{\"color\":\"white\",\"width\":0.5},\"pattern\":{\"fillmode\":\"overlay\",\"size\":10,\"solidity\":0.2}},\"type\":\"bar\"}],\"carpet\":[{\"aaxis\":{\"endlinecolor\":\"rgb(36,36,36)\",\"gridcolor\":\"white\",\"linecolor\":\"white\",\"minorgridcolor\":\"white\",\"startlinecolor\":\"rgb(36,36,36)\"},\"baxis\":{\"endlinecolor\":\"rgb(36,36,36)\",\"gridcolor\":\"white\",\"linecolor\":\"white\",\"minorgridcolor\":\"white\",\"startlinecolor\":\"rgb(36,36,36)\"},\"type\":\"carpet\"}],\"choropleth\":[{\"colorbar\":{\"outlinewidth\":1,\"tickcolor\":\"rgb(36,36,36)\",\"ticks\":\"outside\"},\"type\":\"choropleth\"}],\"contourcarpet\":[{\"colorbar\":{\"outlinewidth\":1,\"tickcolor\":\"rgb(36,36,36)\",\"ticks\":\"outside\"},\"type\":\"contourcarpet\"}],\"contour\":[{\"colorbar\":{\"outlinewidth\":1,\"tickcolor\":\"rgb(36,36,36)\",\"ticks\":\"outside\"},\"colorscale\":[[0.0,\"#440154\"],[0.1111111111111111,\"#482878\"],[0.2222222222222222,\"#3e4989\"],[0.3333333333333333,\"#31688e\"],[0.4444444444444444,\"#26828e\"],[0.5555555555555556,\"#1f9e89\"],[0.6666666666666666,\"#35b779\"],[0.7777777777777778,\"#6ece58\"],[0.8888888888888888,\"#b5de2b\"],[1.0,\"#fde725\"]],\"type\":\"contour\"}],\"heatmapgl\":[{\"colorbar\":{\"outlinewidth\":1,\"tickcolor\":\"rgb(36,36,36)\",\"ticks\":\"outside\"},\"colorscale\":[[0.0,\"#440154\"],[0.1111111111111111,\"#482878\"],[0.2222222222222222,\"#3e4989\"],[0.3333333333333333,\"#31688e\"],[0.4444444444444444,\"#26828e\"],[0.5555555555555556,\"#1f9e89\"],[0.6666666666666666,\"#35b779\"],[0.7777777777777778,\"#6ece58\"],[0.8888888888888888,\"#b5de2b\"],[1.0,\"#fde725\"]],\"type\":\"heatmapgl\"}],\"heatmap\":[{\"colorbar\":{\"outlinewidth\":1,\"tickcolor\":\"rgb(36,36,36)\",\"ticks\":\"outside\"},\"colorscale\":[[0.0,\"#440154\"],[0.1111111111111111,\"#482878\"],[0.2222222222222222,\"#3e4989\"],[0.3333333333333333,\"#31688e\"],[0.4444444444444444,\"#26828e\"],[0.5555555555555556,\"#1f9e89\"],[0.6666666666666666,\"#35b779\"],[0.7777777777777778,\"#6ece58\"],[0.8888888888888888,\"#b5de2b\"],[1.0,\"#fde725\"]],\"type\":\"heatmap\"}],\"histogram2dcontour\":[{\"colorbar\":{\"outlinewidth\":1,\"tickcolor\":\"rgb(36,36,36)\",\"ticks\":\"outside\"},\"colorscale\":[[0.0,\"#440154\"],[0.1111111111111111,\"#482878\"],[0.2222222222222222,\"#3e4989\"],[0.3333333333333333,\"#31688e\"],[0.4444444444444444,\"#26828e\"],[0.5555555555555556,\"#1f9e89\"],[0.6666666666666666,\"#35b779\"],[0.7777777777777778,\"#6ece58\"],[0.8888888888888888,\"#b5de2b\"],[1.0,\"#fde725\"]],\"type\":\"histogram2dcontour\"}],\"histogram2d\":[{\"colorbar\":{\"outlinewidth\":1,\"tickcolor\":\"rgb(36,36,36)\",\"ticks\":\"outside\"},\"colorscale\":[[0.0,\"#440154\"],[0.1111111111111111,\"#482878\"],[0.2222222222222222,\"#3e4989\"],[0.3333333333333333,\"#31688e\"],[0.4444444444444444,\"#26828e\"],[0.5555555555555556,\"#1f9e89\"],[0.6666666666666666,\"#35b779\"],[0.7777777777777778,\"#6ece58\"],[0.8888888888888888,\"#b5de2b\"],[1.0,\"#fde725\"]],\"type\":\"histogram2d\"}],\"histogram\":[{\"marker\":{\"line\":{\"color\":\"white\",\"width\":0.6}},\"type\":\"histogram\"}],\"mesh3d\":[{\"colorbar\":{\"outlinewidth\":1,\"tickcolor\":\"rgb(36,36,36)\",\"ticks\":\"outside\"},\"type\":\"mesh3d\"}],\"parcoords\":[{\"line\":{\"colorbar\":{\"outlinewidth\":1,\"tickcolor\":\"rgb(36,36,36)\",\"ticks\":\"outside\"}},\"type\":\"parcoords\"}],\"pie\":[{\"automargin\":true,\"type\":\"pie\"}],\"scatter3d\":[{\"line\":{\"colorbar\":{\"outlinewidth\":1,\"tickcolor\":\"rgb(36,36,36)\",\"ticks\":\"outside\"}},\"marker\":{\"colorbar\":{\"outlinewidth\":1,\"tickcolor\":\"rgb(36,36,36)\",\"ticks\":\"outside\"}},\"type\":\"scatter3d\"}],\"scattercarpet\":[{\"marker\":{\"colorbar\":{\"outlinewidth\":1,\"tickcolor\":\"rgb(36,36,36)\",\"ticks\":\"outside\"}},\"type\":\"scattercarpet\"}],\"scattergeo\":[{\"marker\":{\"colorbar\":{\"outlinewidth\":1,\"tickcolor\":\"rgb(36,36,36)\",\"ticks\":\"outside\"}},\"type\":\"scattergeo\"}],\"scattergl\":[{\"marker\":{\"colorbar\":{\"outlinewidth\":1,\"tickcolor\":\"rgb(36,36,36)\",\"ticks\":\"outside\"}},\"type\":\"scattergl\"}],\"scattermapbox\":[{\"marker\":{\"colorbar\":{\"outlinewidth\":1,\"tickcolor\":\"rgb(36,36,36)\",\"ticks\":\"outside\"}},\"type\":\"scattermapbox\"}],\"scatterpolargl\":[{\"marker\":{\"colorbar\":{\"outlinewidth\":1,\"tickcolor\":\"rgb(36,36,36)\",\"ticks\":\"outside\"}},\"type\":\"scatterpolargl\"}],\"scatterpolar\":[{\"marker\":{\"colorbar\":{\"outlinewidth\":1,\"tickcolor\":\"rgb(36,36,36)\",\"ticks\":\"outside\"}},\"type\":\"scatterpolar\"}],\"scatter\":[{\"fillpattern\":{\"fillmode\":\"overlay\",\"size\":10,\"solidity\":0.2},\"type\":\"scatter\"}],\"scatterternary\":[{\"marker\":{\"colorbar\":{\"outlinewidth\":1,\"tickcolor\":\"rgb(36,36,36)\",\"ticks\":\"outside\"}},\"type\":\"scatterternary\"}],\"surface\":[{\"colorbar\":{\"outlinewidth\":1,\"tickcolor\":\"rgb(36,36,36)\",\"ticks\":\"outside\"},\"colorscale\":[[0.0,\"#440154\"],[0.1111111111111111,\"#482878\"],[0.2222222222222222,\"#3e4989\"],[0.3333333333333333,\"#31688e\"],[0.4444444444444444,\"#26828e\"],[0.5555555555555556,\"#1f9e89\"],[0.6666666666666666,\"#35b779\"],[0.7777777777777778,\"#6ece58\"],[0.8888888888888888,\"#b5de2b\"],[1.0,\"#fde725\"]],\"type\":\"surface\"}],\"table\":[{\"cells\":{\"fill\":{\"color\":\"rgb(237,237,237)\"},\"line\":{\"color\":\"white\"}},\"header\":{\"fill\":{\"color\":\"rgb(217,217,217)\"},\"line\":{\"color\":\"white\"}},\"type\":\"table\"}]},\"layout\":{\"annotationdefaults\":{\"arrowhead\":0,\"arrowwidth\":1},\"autotypenumbers\":\"strict\",\"coloraxis\":{\"colorbar\":{\"outlinewidth\":1,\"tickcolor\":\"rgb(36,36,36)\",\"ticks\":\"outside\"}},\"colorscale\":{\"diverging\":[[0.0,\"rgb(103,0,31)\"],[0.1,\"rgb(178,24,43)\"],[0.2,\"rgb(214,96,77)\"],[0.3,\"rgb(244,165,130)\"],[0.4,\"rgb(253,219,199)\"],[0.5,\"rgb(247,247,247)\"],[0.6,\"rgb(209,229,240)\"],[0.7,\"rgb(146,197,222)\"],[0.8,\"rgb(67,147,195)\"],[0.9,\"rgb(33,102,172)\"],[1.0,\"rgb(5,48,97)\"]],\"sequential\":[[0.0,\"#440154\"],[0.1111111111111111,\"#482878\"],[0.2222222222222222,\"#3e4989\"],[0.3333333333333333,\"#31688e\"],[0.4444444444444444,\"#26828e\"],[0.5555555555555556,\"#1f9e89\"],[0.6666666666666666,\"#35b779\"],[0.7777777777777778,\"#6ece58\"],[0.8888888888888888,\"#b5de2b\"],[1.0,\"#fde725\"]],\"sequentialminus\":[[0.0,\"#440154\"],[0.1111111111111111,\"#482878\"],[0.2222222222222222,\"#3e4989\"],[0.3333333333333333,\"#31688e\"],[0.4444444444444444,\"#26828e\"],[0.5555555555555556,\"#1f9e89\"],[0.6666666666666666,\"#35b779\"],[0.7777777777777778,\"#6ece58\"],[0.8888888888888888,\"#b5de2b\"],[1.0,\"#fde725\"]]},\"colorway\":[\"#1F77B4\",\"#FF7F0E\",\"#2CA02C\",\"#D62728\",\"#9467BD\",\"#8C564B\",\"#E377C2\",\"#7F7F7F\",\"#BCBD22\",\"#17BECF\"],\"font\":{\"color\":\"rgb(36,36,36)\"},\"geo\":{\"bgcolor\":\"white\",\"lakecolor\":\"white\",\"landcolor\":\"white\",\"showlakes\":true,\"showland\":true,\"subunitcolor\":\"white\"},\"hoverlabel\":{\"align\":\"left\"},\"hovermode\":\"closest\",\"mapbox\":{\"style\":\"light\"},\"paper_bgcolor\":\"white\",\"plot_bgcolor\":\"white\",\"polar\":{\"angularaxis\":{\"gridcolor\":\"rgb(232,232,232)\",\"linecolor\":\"rgb(36,36,36)\",\"showgrid\":false,\"showline\":true,\"ticks\":\"outside\"},\"bgcolor\":\"white\",\"radialaxis\":{\"gridcolor\":\"rgb(232,232,232)\",\"linecolor\":\"rgb(36,36,36)\",\"showgrid\":false,\"showline\":true,\"ticks\":\"outside\"}},\"scene\":{\"xaxis\":{\"backgroundcolor\":\"white\",\"gridcolor\":\"rgb(232,232,232)\",\"gridwidth\":2,\"linecolor\":\"rgb(36,36,36)\",\"showbackground\":true,\"showgrid\":false,\"showline\":true,\"ticks\":\"outside\",\"zeroline\":false,\"zerolinecolor\":\"rgb(36,36,36)\"},\"yaxis\":{\"backgroundcolor\":\"white\",\"gridcolor\":\"rgb(232,232,232)\",\"gridwidth\":2,\"linecolor\":\"rgb(36,36,36)\",\"showbackground\":true,\"showgrid\":false,\"showline\":true,\"ticks\":\"outside\",\"zeroline\":false,\"zerolinecolor\":\"rgb(36,36,36)\"},\"zaxis\":{\"backgroundcolor\":\"white\",\"gridcolor\":\"rgb(232,232,232)\",\"gridwidth\":2,\"linecolor\":\"rgb(36,36,36)\",\"showbackground\":true,\"showgrid\":false,\"showline\":true,\"ticks\":\"outside\",\"zeroline\":false,\"zerolinecolor\":\"rgb(36,36,36)\"}},\"shapedefaults\":{\"fillcolor\":\"black\",\"line\":{\"width\":0},\"opacity\":0.3},\"ternary\":{\"aaxis\":{\"gridcolor\":\"rgb(232,232,232)\",\"linecolor\":\"rgb(36,36,36)\",\"showgrid\":false,\"showline\":true,\"ticks\":\"outside\"},\"baxis\":{\"gridcolor\":\"rgb(232,232,232)\",\"linecolor\":\"rgb(36,36,36)\",\"showgrid\":false,\"showline\":true,\"ticks\":\"outside\"},\"bgcolor\":\"white\",\"caxis\":{\"gridcolor\":\"rgb(232,232,232)\",\"linecolor\":\"rgb(36,36,36)\",\"showgrid\":false,\"showline\":true,\"ticks\":\"outside\"}},\"title\":{\"x\":0.05},\"xaxis\":{\"automargin\":true,\"gridcolor\":\"rgb(232,232,232)\",\"linecolor\":\"rgb(36,36,36)\",\"showgrid\":false,\"showline\":true,\"ticks\":\"outside\",\"title\":{\"standoff\":15},\"zeroline\":false,\"zerolinecolor\":\"rgb(36,36,36)\"},\"yaxis\":{\"automargin\":true,\"gridcolor\":\"rgb(232,232,232)\",\"linecolor\":\"rgb(36,36,36)\",\"showgrid\":false,\"showline\":true,\"ticks\":\"outside\",\"title\":{\"standoff\":15},\"zeroline\":false,\"zerolinecolor\":\"rgb(36,36,36)\"}}},\"xaxis\":{\"anchor\":\"y\",\"domain\":[0.0,1.0],\"title\":{\"text\":\"Year\"}},\"yaxis\":{\"anchor\":\"x\",\"domain\":[0.0,1.0],\"title\":{\"text\":\"Gender equality index(Average)\"}},\"legend\":{\"title\":{\"text\":\"Region\"},\"tracegroupgap\":0},\"title\":{\"text\":\"Regional averages of the composite gender equality index\"}},                        {\"responsive\": true}                    ).then(function(){\n",
       "                            \n",
       "var gd = document.getElementById('39f0e8d9-322a-4045-a153-995cf50aadd9');\n",
       "var x = new MutationObserver(function (mutations, observer) {{\n",
       "        var display = window.getComputedStyle(gd).display;\n",
       "        if (!display || display === 'none') {{\n",
       "            console.log([gd, 'removed!']);\n",
       "            Plotly.purge(gd);\n",
       "            observer.disconnect();\n",
       "        }}\n",
       "}});\n",
       "\n",
       "// Listen for the removal of the full notebook cells\n",
       "var notebookContainer = gd.closest('#notebook-container');\n",
       "if (notebookContainer) {{\n",
       "    x.observe(notebookContainer, {childList: true});\n",
       "}}\n",
       "\n",
       "// Listen for the clearing of the current output cell\n",
       "var outputEl = gd.closest('.output');\n",
       "if (outputEl) {{\n",
       "    x.observe(outputEl, {childList: true});\n",
       "}}\n",
       "\n",
       "                        })                };                });            </script>        </div>"
      ]
     },
     "metadata": {},
     "output_type": "display_data"
    }
   ],
   "source": [
    "fig7 = px.line(df3, x=\"Year\", y=\"Regional averages of the composite gender equality index\", \n",
    "               labels={\n",
    "                     \"Regional averages of the composite gender equality index\": \"Gender equality index(Average)\",\n",
    "                   \"Entity\" : \"Region\"\n",
    "                 },\n",
    "               color = 'Entity', symbol=\"Entity\",template=\"simple_white\",\n",
    "              title=\"Regional averages of the composite gender equality index\",\n",
    "             color_discrete_map={'East Asia': '#FF8E00', \n",
    "                                  'Eastern Europe': '#f0aa4f', \n",
    "                                 'Latin America and Caribbean': '#4fd0f0',\n",
    "                                 'Middle East and North Africa': '#FD7702', \n",
    "                                  'South and South-East Asia': '#003F7D', \n",
    "                                 'Sub-Sahara Africa': '#FF5003',\n",
    "                                 'Western Europe': '#ed5a40', \n",
    "                                  'Western Offshoots': '#1d36db'\n",
    "                                })\n",
    " \n",
    "fig7.show()"
   ]
  },
  {
   "cell_type": "code",
   "execution_count": null,
   "id": "8d9a1c72",
   "metadata": {},
   "outputs": [],
   "source": []
  }
 ],
 "metadata": {
  "kernelspec": {
   "display_name": "Python 3 (ipykernel)",
   "language": "python",
   "name": "python3"
  },
  "language_info": {
   "codemirror_mode": {
    "name": "ipython",
    "version": 3
   },
   "file_extension": ".py",
   "mimetype": "text/x-python",
   "name": "python",
   "nbconvert_exporter": "python",
   "pygments_lexer": "ipython3",
   "version": "3.9.7"
  }
 },
 "nbformat": 4,
 "nbformat_minor": 5
}
